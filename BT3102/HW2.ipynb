{
 "cells": [
  {
   "cell_type": "markdown",
   "metadata": {},
   "source": [
    "> # BT3102 HW2\n",
    "> This homework contains several coding tasks and Q&A questions. \n",
    ">\n",
    ">>For coding part, please write codes in corresponding cells starts from **YOUR CODES HERE**. \n",
    ">>\n",
    ">>For Q&A, you will see cells with **Answer: HERE**. Please double click those cells and directly write your answer.\n",
    ">>\n",
    ">>For other cells, please directly run the cell.\n",
    ">>\n",
    ">>**Please make sure you have expanded all hidden cells!** You can refer to https://stackoverflow.com/questions/62457417/unhide-all-cells-in-google-colab for more information.\n",
    ">\n",
    ">\n",
    "> You should use Python 3 to do this homework. Python 2 may not be supported. (You can also submit code in MATLAB alternatively.)\n",
    ">\n",
    ">\n",
    "> ## Due Date: Oct. 25 (Wed), 22:00 SG Time\n",
    "> ## Deliverables\n",
    "> Save your notebook `ipynb` file as `StudentID_YourName_HW2.ipynb`, generate an `html` file from `ipynb` file and save as `StudentID_YourName_HW2.html`. Zip your notebook file and html file into a single `zip` file. \n",
    ">\n",
    "> **Upload the `zip` file as `StudentID_YourName_HW2.zip`.**\n",
    ">\n",
    "> **Please make sure your code is executable.**\n",
    ">\n",
    ">>How to generate an HTML file from your notebook file in Google Colab?  \n",
    ">>Please refer to https://stackoverflow.com/questions/53460051/convert-ipynb-notebook-to-html-in-google-colab\n",
    ">\n",
    "> ## HW2 worths 7 points in the final assessment."
   ]
  },
  {
   "cell_type": "markdown",
   "metadata": {},
   "source": [
    "**STU1**\n",
    "\n",
    "StuID: A0239429U\n",
    "\n",
    "Name: Tay Xinyu, Zandra\n",
    "\n",
    "\n",
    "**STU2**\n",
    "\n",
    "StuID: A0229830A\n",
    "\n",
    "Name: Lucas Wee Song Wen"
   ]
  },
  {
   "cell_type": "markdown",
   "metadata": {},
   "source": [
    "*In compliance with the* [*general message*](https://libguides.nus.edu.sg/new2nus/acadintegrity#s-lib-ctab-22144949-4) *and* [*guidelines*](https://libguides.nus.edu.sg/new2nus/acadintegrity#s-lib-ctab-22144949-5) *on the use of AI tools for academic work from the University, if you use any AI tools for this homework, please fill in the table below. Thank you.*\n",
    "\n",
    "\n",
    "| AI Tool used    |   Prompt and output   |   How the output was used in the assignment   |\n",
    "| ---- | ---- | ---- |\n",
    "|   --   |   --   |   --   |\n",
    "|   --   |   --   |   --   |"
   ]
  },
  {
   "cell_type": "markdown",
   "metadata": {},
   "source": [
    "# Problem 1. Short Answer Questions (3')"
   ]
  },
  {
   "cell_type": "markdown",
   "metadata": {},
   "source": [
    "Throughout the problem, assume that the Stable Unit Treatment Value Assumption (SUTVA) holds. By default, 0 stands for control group and 1 stands for treatment group."
   ]
  },
  {
   "cell_type": "markdown",
   "metadata": {},
   "source": [
    "## (a) - (0.5') \n",
    "Explain the notation $Y_i(0)$."
   ]
  },
  {
   "cell_type": "markdown",
   "metadata": {},
   "source": [
    "It is the potential outcome of an unit, i, who has not received the treatment."
   ]
  },
  {
   "cell_type": "markdown",
   "metadata": {},
   "source": [
    "## (b) - (0.5') \n",
    "Contrast the meaning of $Y_i(0)$ with the meaning of $Y^{obs}_i$.\n"
   ]
  },
  {
   "cell_type": "markdown",
   "metadata": {},
   "source": [
    " $Y^{obs}_i$ refers to the observed outcome of an individual i, while $Y_i(0)$ refers to the potenetial outcome of an individual i. The definition is as follows: \n",
    "  $Y^{obs}_i$ = $D_iY_i(1) + (1 − D_i)Y_i(0)$. If $D_i = 1$, then $Y^{obs}_i = Y_i(1)$. Else if $D_i = 0$, then $Y^{obs}_i = Y_i(0)$."
   ]
  },
  {
   "cell_type": "markdown",
   "metadata": {},
   "source": [
    "## (c) - (1') \n",
    "Contrast the meaning of $Y_i(0)$ with the meaning of $Y_i(1)$. Is it ever possible to observe both at the same time? Why? "
   ]
  },
  {
   "cell_type": "markdown",
   "metadata": {},
   "source": [
    "$Y_i(0)$ refers to the potential outcome of an untreated individual i, while $Y_i(1)$ refers to the potential outcome of a treated individual i.\n",
    "It is not possible to observe both at the same time.  This is due to the Fundamental Problemof Causal Inference, which posits that we can never observe both $Y_i(0)$ and $Y_i(1)$ for the same i. This is because $Y_i(0)$ and $Y_i(1)$ are not constant across individuals. Furthermore, the same subject at different times is considered to be a different subject."
   ]
  },
  {
   "cell_type": "markdown",
   "metadata": {},
   "source": [
    "## (d) - (0.5') \n",
    "Explain the notation $\\mathbb{E}[Y_i(0)|D_i=1]$, where $D_i$ is a binary variable that gives the treatment status for subject $i$, 1 if treated, 0 if controlled. \n"
   ]
  },
  {
   "cell_type": "markdown",
   "metadata": {},
   "source": [
    "This refers to the average potential outcome of a treated group, had they not received the treatment. This is also known as the counterfactual."
   ]
  },
  {
   "cell_type": "markdown",
   "metadata": {},
   "source": [
    "## (e) - (0.5') \n",
    "Contrast the meaning of $\\mathbb{E}[Y_i(0)]$ with the meaning of $\\mathbb{E}[Y^{obs}_i|D_i=0]$. "
   ]
  },
  {
   "cell_type": "markdown",
   "metadata": {},
   "source": [
    "$\\mathbb{E}[Y_i(0)]$ refers to the average potential outcome of the untreated, while $\\mathbb{E}[Y^{obs}_i|D_i=0]$ refers to the average observed outcome of the untreated."
   ]
  },
  {
   "cell_type": "markdown",
   "metadata": {},
   "source": [
    "# Problem 2. Randomized Experiment (4')"
   ]
  },
  {
   "cell_type": "markdown",
   "metadata": {},
   "source": [
    "Suppose a study is conducted to analyze the effect of drinking milk before bedtime on sleep duration. The objective is to examine whether consuming milk before sleeping can lead to increased sleep duration (in hours). To verify its effects, you establish two groups: 1 as the treatment group and 0 as the control group. You would like to know whether drinking milk works or not. Thus, you did a pilot study with $N=18$ patients. \n",
    "\n",
    "You first implemented the completely randomized experiment. Hence, half of the subjects (i.e., 9 patients) were assigned to treatment group (1), while the rest were assigned to the control group (0).\n"
   ]
  },
  {
   "cell_type": "markdown",
   "metadata": {},
   "source": [
    "## (a)\n",
    "Load the data and print the data. It should have 2 columns. One is the observed value of the sleeping hours and the other is the assignment outcome."
   ]
  },
  {
   "cell_type": "code",
   "execution_count": 1,
   "metadata": {},
   "outputs": [
    {
     "data": {
      "text/html": [
       "<div>\n",
       "<style scoped>\n",
       "    .dataframe tbody tr th:only-of-type {\n",
       "        vertical-align: middle;\n",
       "    }\n",
       "\n",
       "    .dataframe tbody tr th {\n",
       "        vertical-align: top;\n",
       "    }\n",
       "\n",
       "    .dataframe thead th {\n",
       "        text-align: right;\n",
       "    }\n",
       "</style>\n",
       "<table border=\"1\" class=\"dataframe\">\n",
       "  <thead>\n",
       "    <tr style=\"text-align: right;\">\n",
       "      <th></th>\n",
       "      <th>observed</th>\n",
       "      <th>Treatment</th>\n",
       "    </tr>\n",
       "  </thead>\n",
       "  <tbody>\n",
       "    <tr>\n",
       "      <th>0</th>\n",
       "      <td>8.361396</td>\n",
       "      <td>1</td>\n",
       "    </tr>\n",
       "    <tr>\n",
       "      <th>1</th>\n",
       "      <td>7.611676</td>\n",
       "      <td>0</td>\n",
       "    </tr>\n",
       "    <tr>\n",
       "      <th>2</th>\n",
       "      <td>8.031000</td>\n",
       "      <td>0</td>\n",
       "    </tr>\n",
       "    <tr>\n",
       "      <th>3</th>\n",
       "      <td>8.564644</td>\n",
       "      <td>1</td>\n",
       "    </tr>\n",
       "    <tr>\n",
       "      <th>4</th>\n",
       "      <td>5.380255</td>\n",
       "      <td>1</td>\n",
       "    </tr>\n",
       "  </tbody>\n",
       "</table>\n",
       "</div>"
      ],
      "text/plain": [
       "   observed  Treatment\n",
       "0  8.361396          1\n",
       "1  7.611676          0\n",
       "2  8.031000          0\n",
       "3  8.564644          1\n",
       "4  5.380255          1"
      ]
     },
     "execution_count": 1,
     "metadata": {},
     "output_type": "execute_result"
    }
   ],
   "source": [
    "# Importing required packages\n",
    "import pandas as pd\n",
    "import numpy as np\n",
    "import matplotlib.pyplot as plt\n",
    "from itertools import combinations\n",
    "import statistics\n",
    "from scipy.special import comb\n",
    "\n",
    "# fix the random seed\n",
    "np.random.seed(2023)\n",
    "\n",
    "# Load the data\n",
    "Data = pd.read_csv(\"sleep_data.csv\")\n",
    "\n",
    "Data.head()"
   ]
  },
  {
   "cell_type": "markdown",
   "metadata": {},
   "source": [
    "## (b) - (0.5')\n",
    "\n",
    "Fisher Sharp Null Hypothesis (or Exact Null Hypothesis)\n",
    "\n",
    "Consider the following Null Hypothesis: the sleeping hours for the treatment group are 0.7 hours more than the control group, i.e.,\n",
    "\n",
    "\n",
    "$H_0: Y_i(1)=Y_i(0)+0.7,~for~all~i~in~\\{1,2,...,18\\}.$\n",
    "\n",
    "Based on this null hypothesis $H_0$, what should be the table that describes the potential outcomes for all patients in this experiment? **Print the table** (there should be 4 columns: The FIRST column displays the observed outcome and the SECOND column displays assignment. These two columns are the same as shown in the `Data`. The THIRD column displays the $Y_i(1)$ under $H_0$ and the FOURTH column displays the $Y_i(0)$ under $H_0$)"
   ]
  },
  {
   "cell_type": "code",
   "execution_count": 2,
   "metadata": {},
   "outputs": [
    {
     "data": {
      "text/html": [
       "<div>\n",
       "<style scoped>\n",
       "    .dataframe tbody tr th:only-of-type {\n",
       "        vertical-align: middle;\n",
       "    }\n",
       "\n",
       "    .dataframe tbody tr th {\n",
       "        vertical-align: top;\n",
       "    }\n",
       "\n",
       "    .dataframe thead th {\n",
       "        text-align: right;\n",
       "    }\n",
       "</style>\n",
       "<table border=\"1\" class=\"dataframe\">\n",
       "  <thead>\n",
       "    <tr style=\"text-align: right;\">\n",
       "      <th></th>\n",
       "      <th>observed</th>\n",
       "      <th>Treatment</th>\n",
       "      <th>Yi(0)</th>\n",
       "      <th>Yi(1)</th>\n",
       "    </tr>\n",
       "  </thead>\n",
       "  <tbody>\n",
       "    <tr>\n",
       "      <th>0</th>\n",
       "      <td>8.361396</td>\n",
       "      <td>1</td>\n",
       "      <td>7.661396</td>\n",
       "      <td>8.361396</td>\n",
       "    </tr>\n",
       "    <tr>\n",
       "      <th>1</th>\n",
       "      <td>7.611676</td>\n",
       "      <td>0</td>\n",
       "      <td>7.611676</td>\n",
       "      <td>8.311676</td>\n",
       "    </tr>\n",
       "    <tr>\n",
       "      <th>2</th>\n",
       "      <td>8.031000</td>\n",
       "      <td>0</td>\n",
       "      <td>8.031000</td>\n",
       "      <td>8.731000</td>\n",
       "    </tr>\n",
       "    <tr>\n",
       "      <th>3</th>\n",
       "      <td>8.564644</td>\n",
       "      <td>1</td>\n",
       "      <td>7.864644</td>\n",
       "      <td>8.564644</td>\n",
       "    </tr>\n",
       "    <tr>\n",
       "      <th>4</th>\n",
       "      <td>5.380255</td>\n",
       "      <td>1</td>\n",
       "      <td>4.680255</td>\n",
       "      <td>5.380255</td>\n",
       "    </tr>\n",
       "    <tr>\n",
       "      <th>5</th>\n",
       "      <td>6.690788</td>\n",
       "      <td>0</td>\n",
       "      <td>6.690788</td>\n",
       "      <td>7.390788</td>\n",
       "    </tr>\n",
       "    <tr>\n",
       "      <th>6</th>\n",
       "      <td>8.087047</td>\n",
       "      <td>1</td>\n",
       "      <td>7.387047</td>\n",
       "      <td>8.087047</td>\n",
       "    </tr>\n",
       "    <tr>\n",
       "      <th>7</th>\n",
       "      <td>7.700993</td>\n",
       "      <td>0</td>\n",
       "      <td>7.700993</td>\n",
       "      <td>8.400993</td>\n",
       "    </tr>\n",
       "    <tr>\n",
       "      <th>8</th>\n",
       "      <td>8.091761</td>\n",
       "      <td>1</td>\n",
       "      <td>7.391761</td>\n",
       "      <td>8.091761</td>\n",
       "    </tr>\n",
       "    <tr>\n",
       "      <th>9</th>\n",
       "      <td>6.814341</td>\n",
       "      <td>1</td>\n",
       "      <td>6.114341</td>\n",
       "      <td>6.814341</td>\n",
       "    </tr>\n",
       "    <tr>\n",
       "      <th>10</th>\n",
       "      <td>5.893665</td>\n",
       "      <td>0</td>\n",
       "      <td>5.893665</td>\n",
       "      <td>6.593665</td>\n",
       "    </tr>\n",
       "    <tr>\n",
       "      <th>11</th>\n",
       "      <td>5.803793</td>\n",
       "      <td>0</td>\n",
       "      <td>5.803793</td>\n",
       "      <td>6.503793</td>\n",
       "    </tr>\n",
       "    <tr>\n",
       "      <th>12</th>\n",
       "      <td>7.812526</td>\n",
       "      <td>0</td>\n",
       "      <td>7.812526</td>\n",
       "      <td>8.512526</td>\n",
       "    </tr>\n",
       "    <tr>\n",
       "      <th>13</th>\n",
       "      <td>8.356240</td>\n",
       "      <td>0</td>\n",
       "      <td>8.356240</td>\n",
       "      <td>9.056240</td>\n",
       "    </tr>\n",
       "    <tr>\n",
       "      <th>14</th>\n",
       "      <td>6.927990</td>\n",
       "      <td>1</td>\n",
       "      <td>6.227990</td>\n",
       "      <td>6.927990</td>\n",
       "    </tr>\n",
       "    <tr>\n",
       "      <th>15</th>\n",
       "      <td>8.003533</td>\n",
       "      <td>1</td>\n",
       "      <td>7.303533</td>\n",
       "      <td>8.003533</td>\n",
       "    </tr>\n",
       "    <tr>\n",
       "      <th>16</th>\n",
       "      <td>7.361636</td>\n",
       "      <td>0</td>\n",
       "      <td>7.361636</td>\n",
       "      <td>8.061636</td>\n",
       "    </tr>\n",
       "    <tr>\n",
       "      <th>17</th>\n",
       "      <td>6.354880</td>\n",
       "      <td>1</td>\n",
       "      <td>5.654880</td>\n",
       "      <td>6.354880</td>\n",
       "    </tr>\n",
       "  </tbody>\n",
       "</table>\n",
       "</div>"
      ],
      "text/plain": [
       "    observed  Treatment     Yi(0)     Yi(1)\n",
       "0   8.361396          1  7.661396  8.361396\n",
       "1   7.611676          0  7.611676  8.311676\n",
       "2   8.031000          0  8.031000  8.731000\n",
       "3   8.564644          1  7.864644  8.564644\n",
       "4   5.380255          1  4.680255  5.380255\n",
       "5   6.690788          0  6.690788  7.390788\n",
       "6   8.087047          1  7.387047  8.087047\n",
       "7   7.700993          0  7.700993  8.400993\n",
       "8   8.091761          1  7.391761  8.091761\n",
       "9   6.814341          1  6.114341  6.814341\n",
       "10  5.893665          0  5.893665  6.593665\n",
       "11  5.803793          0  5.803793  6.503793\n",
       "12  7.812526          0  7.812526  8.512526\n",
       "13  8.356240          0  8.356240  9.056240\n",
       "14  6.927990          1  6.227990  6.927990\n",
       "15  8.003533          1  7.303533  8.003533\n",
       "16  7.361636          0  7.361636  8.061636\n",
       "17  6.354880          1  5.654880  6.354880"
      ]
     },
     "execution_count": 2,
     "metadata": {},
     "output_type": "execute_result"
    }
   ],
   "source": [
    "# YOUR CODES HERE\n",
    "\n",
    "# Make a copy of Data\n",
    "df = Data\n",
    "\n",
    "# Add new column for Yi(1)\n",
    "df['Yi(0)'] = df['observed'] - 0.7 * df['Treatment']\n",
    "\n",
    "# Add new column for Yi(0)\n",
    "df['Yi(1)'] = df['Yi(0)'] + 0.7\n",
    "\n",
    "# display table\n",
    "df"
   ]
  },
  {
   "cell_type": "markdown",
   "metadata": {},
   "source": [
    "## (c) - (0.5')\n",
    "\n",
    "We choose the test statistic \n",
    "\n",
    "$T=\\bar{Y}^{obs}_1-\\bar{Y}^{obs}_0$.\n",
    "\n",
    "Generate the EXACT Probability Distribution of this test statistic $T$ under $H_0$ in a **completely randomized experiment** with **equal** number of patients in each group. \n",
    "\n",
    "Report the total number (denoted as `Num`) of realizations of the randomized assignment vector, quantiles 25%, 50%, 75% of the distribution of the test statistic $T$, and the variance of $T$. \n",
    "\n",
    "(Hint: you can use Realizations = list(combinations(range(N), N//2)) to help generate realizations of the randomized assignment vector.)\n",
    "\n"
   ]
  },
  {
   "cell_type": "code",
   "execution_count": 3,
   "metadata": {},
   "outputs": [],
   "source": [
    "# YOUR CODES HERE\n",
    "mat = np.array(range(1, 19))\n",
    "N  = 18 # sample size\n",
    "realizations = list(combinations(range(N), N//2))\n",
    "# print(realizations)\n",
    "rows = len(realizations)\n",
    "\n",
    "# initialise empty list to store T values\n",
    "T_values = np.zeros(rows)\n",
    "\n",
    "for i in range(0, rows):\n",
    "    row_matrix = realizations[i]\n",
    "    T_values[i] = np.mean(df.loc[np.isin(mat, row_matrix), 'Yi(1)']) - np.mean(df.loc[~np.isin(mat, row_matrix), 'Yi(0)'])\n",
    "    # print(np.mean(df.loc[np.isin(mat, row_matrix), 'Yi(1)']) - np.mean(df.loc[~np.isin(mat, row_matrix), 'Yi(0)']))"
   ]
  },
  {
   "cell_type": "code",
   "execution_count": 4,
   "metadata": {},
   "outputs": [
    {
     "name": "stdout",
     "output_type": "stream",
     "text": [
      "Total number of realizations: 48620\n",
      "25th percentile: 0.5253174228333326\n",
      "50th percentile: 0.8475799500527774\n",
      "75th percentile: 1.1696955663437496\n",
      "Variance of T: 0.20660639429378824\n"
     ]
    }
   ],
   "source": [
    "print(f'Total number of realizations: {rows}')\n",
    "\n",
    "percentiles = np.percentile(T_values, [25, 50, 75])\n",
    "print(f'25th percentile: {percentiles[0]}')\n",
    "print(f'50th percentile: {percentiles[1]}')\n",
    "print(f'75th percentile: {percentiles[2]}')\n",
    "\n",
    "print(f'Variance of T: {np.std(T_values) * np.std(T_values)}')"
   ]
  },
  {
   "cell_type": "markdown",
   "metadata": {},
   "source": [
    "## (d) - (0.5') \n",
    "Plot the histogram of this test statistic $T$ with `bins = 50`.\n"
   ]
  },
  {
   "cell_type": "code",
   "execution_count": 5,
   "metadata": {},
   "outputs": [
    {
     "data": {
      "image/png": "[encoded data removed]",
      "text/plain": [
       "<Figure size 640x480 with 1 Axes>"
      ]
     },
     "metadata": {},
     "output_type": "display_data"
    }
   ],
   "source": [
    "# YOUR CODES HERE\n",
    "plt.hist(T_values, bins=50, color='gray', edgecolor='black')\n",
    "\n",
    "plt.title('Histogram of T')\n",
    "plt.xlabel('Values of T')\n",
    "plt.ylabel('Frequency')\n",
    "plt.show()"
   ]
  },
  {
   "cell_type": "markdown",
   "metadata": {},
   "source": [
    "## (e) - (1') \n",
    "Redo (c) but using a Bernoulli trial to do the randomized assignment, i.e., flipping an unbiased coin to determine each subject's group. You need to generate all the possible realizations of the randomized assignment vector.\n",
    "\n",
    "For example, if $N_{example} = 3$, then the possible realizations of the randomized assignment vector are \n",
    "[0, 0, 1],\n",
    "[0, 1, 0],\n",
    "[0, 1, 1],\n",
    "[1, 0, 0],\n",
    "[1, 0, 1],\n",
    "[1, 1, 0].\n",
    "Note that, here, we will ignore vectors with all 0's or all 1's, i.e., [0, 0, 0], and [1, 1, 1] in the above example.\n",
    "\n",
    "Report the quantiles 25%, 50%, 75% of the distribution of the test statistic $T$, and the variance of $T$. Compare the results with (c) and describe your findings. \n"
   ]
  },
  {
   "cell_type": "code",
   "execution_count": 6,
   "metadata": {},
   "outputs": [
    {
     "ename": "KeyboardInterrupt",
     "evalue": "",
     "output_type": "error",
     "traceback": [
      "\u001b[1;31m---------------------------------------------------------------------------\u001b[0m",
      "\u001b[1;31mKeyboardInterrupt\u001b[0m                         Traceback (most recent call last)",
      "\u001b[1;32mc:\\Users\\zandr\\OneDrive\\Desktop\\Python\\HW2.ipynb Cell 28\u001b[0m line \u001b[0;36m2\n\u001b[0;32m     <a href='vscode-notebook-cell:/c%3A/Users/zandr/OneDrive/Desktop/Python/HW2.ipynb#X36sZmlsZQ%3D%3D?line=17'>18</a>\u001b[0m control_indices \u001b[39m=\u001b[39m np\u001b[39m.\u001b[39mwhere(treatment_assignment \u001b[39m==\u001b[39m \u001b[39m0\u001b[39m)\n\u001b[0;32m     <a href='vscode-notebook-cell:/c%3A/Users/zandr/OneDrive/Desktop/Python/HW2.ipynb#X36sZmlsZQ%3D%3D?line=19'>20</a>\u001b[0m \u001b[39m# Calculate the T value for this random assignment\u001b[39;00m\n\u001b[0;32m     <a href='vscode-notebook-cell:/c%3A/Users/zandr/OneDrive/Desktop/Python/HW2.ipynb#X36sZmlsZQ%3D%3D?line=20'>21</a>\u001b[0m T_values2[i] \u001b[39m=\u001b[39m (\n\u001b[1;32m---> <a href='vscode-notebook-cell:/c%3A/Users/zandr/OneDrive/Desktop/Python/HW2.ipynb#X36sZmlsZQ%3D%3D?line=21'>22</a>\u001b[0m     df\u001b[39m.\u001b[39;49mloc[treat_indices, \u001b[39m'\u001b[39;49m\u001b[39mYi(1)\u001b[39;49m\u001b[39m'\u001b[39;49m]\u001b[39m.\u001b[39mmean() \u001b[39m-\u001b[39m \n\u001b[0;32m     <a href='vscode-notebook-cell:/c%3A/Users/zandr/OneDrive/Desktop/Python/HW2.ipynb#X36sZmlsZQ%3D%3D?line=22'>23</a>\u001b[0m     df\u001b[39m.\u001b[39mloc[control_indices, \u001b[39m'\u001b[39m\u001b[39mYi(0)\u001b[39m\u001b[39m'\u001b[39m]\u001b[39m.\u001b[39mmean() \n\u001b[0;32m     <a href='vscode-notebook-cell:/c%3A/Users/zandr/OneDrive/Desktop/Python/HW2.ipynb#X36sZmlsZQ%3D%3D?line=23'>24</a>\u001b[0m )\n",
      "File \u001b[1;32mc:\\Users\\zandr\\AppData\\Local\\Programs\\Python\\Python311\\Lib\\site-packages\\pandas\\core\\indexing.py:1147\u001b[0m, in \u001b[0;36m_LocationIndexer.__getitem__\u001b[1;34m(self, key)\u001b[0m\n\u001b[0;32m   1145\u001b[0m     \u001b[39mif\u001b[39;00m \u001b[39mself\u001b[39m\u001b[39m.\u001b[39m_is_scalar_access(key):\n\u001b[0;32m   1146\u001b[0m         \u001b[39mreturn\u001b[39;00m \u001b[39mself\u001b[39m\u001b[39m.\u001b[39mobj\u001b[39m.\u001b[39m_get_value(\u001b[39m*\u001b[39mkey, takeable\u001b[39m=\u001b[39m\u001b[39mself\u001b[39m\u001b[39m.\u001b[39m_takeable)\n\u001b[1;32m-> 1147\u001b[0m     \u001b[39mreturn\u001b[39;00m \u001b[39mself\u001b[39;49m\u001b[39m.\u001b[39;49m_getitem_tuple(key)\n\u001b[0;32m   1148\u001b[0m \u001b[39melse\u001b[39;00m:\n\u001b[0;32m   1149\u001b[0m     \u001b[39m# we by definition only have the 0th axis\u001b[39;00m\n\u001b[0;32m   1150\u001b[0m     axis \u001b[39m=\u001b[39m \u001b[39mself\u001b[39m\u001b[39m.\u001b[39maxis \u001b[39mor\u001b[39;00m \u001b[39m0\u001b[39m\n",
      "File \u001b[1;32mc:\\Users\\zandr\\AppData\\Local\\Programs\\Python\\Python311\\Lib\\site-packages\\pandas\\core\\indexing.py:1330\u001b[0m, in \u001b[0;36m_LocIndexer._getitem_tuple\u001b[1;34m(self, tup)\u001b[0m\n\u001b[0;32m   1328\u001b[0m \u001b[39mwith\u001b[39;00m suppress(IndexingError):\n\u001b[0;32m   1329\u001b[0m     tup \u001b[39m=\u001b[39m \u001b[39mself\u001b[39m\u001b[39m.\u001b[39m_expand_ellipsis(tup)\n\u001b[1;32m-> 1330\u001b[0m     \u001b[39mreturn\u001b[39;00m \u001b[39mself\u001b[39;49m\u001b[39m.\u001b[39;49m_getitem_lowerdim(tup)\n\u001b[0;32m   1332\u001b[0m \u001b[39m# no multi-index, so validate all of the indexers\u001b[39;00m\n\u001b[0;32m   1333\u001b[0m tup \u001b[39m=\u001b[39m \u001b[39mself\u001b[39m\u001b[39m.\u001b[39m_validate_tuple_indexer(tup)\n",
      "File \u001b[1;32mc:\\Users\\zandr\\AppData\\Local\\Programs\\Python\\Python311\\Lib\\site-packages\\pandas\\core\\indexing.py:1063\u001b[0m, in \u001b[0;36m_LocationIndexer._getitem_lowerdim\u001b[1;34m(self, tup)\u001b[0m\n\u001b[0;32m   1061\u001b[0m             \u001b[39mreturn\u001b[39;00m section\n\u001b[0;32m   1062\u001b[0m         \u001b[39m# This is an elided recursive call to iloc/loc\u001b[39;00m\n\u001b[1;32m-> 1063\u001b[0m         \u001b[39mreturn\u001b[39;00m \u001b[39mgetattr\u001b[39;49m(section, \u001b[39mself\u001b[39;49m\u001b[39m.\u001b[39;49mname)[new_key]\n\u001b[0;32m   1065\u001b[0m \u001b[39mraise\u001b[39;00m IndexingError(\u001b[39m\"\u001b[39m\u001b[39mnot applicable\u001b[39m\u001b[39m\"\u001b[39m)\n",
      "File \u001b[1;32mc:\\Users\\zandr\\AppData\\Local\\Programs\\Python\\Python311\\Lib\\site-packages\\pandas\\core\\indexing.py:1147\u001b[0m, in \u001b[0;36m_LocationIndexer.__getitem__\u001b[1;34m(self, key)\u001b[0m\n\u001b[0;32m   1145\u001b[0m     \u001b[39mif\u001b[39;00m \u001b[39mself\u001b[39m\u001b[39m.\u001b[39m_is_scalar_access(key):\n\u001b[0;32m   1146\u001b[0m         \u001b[39mreturn\u001b[39;00m \u001b[39mself\u001b[39m\u001b[39m.\u001b[39mobj\u001b[39m.\u001b[39m_get_value(\u001b[39m*\u001b[39mkey, takeable\u001b[39m=\u001b[39m\u001b[39mself\u001b[39m\u001b[39m.\u001b[39m_takeable)\n\u001b[1;32m-> 1147\u001b[0m     \u001b[39mreturn\u001b[39;00m \u001b[39mself\u001b[39;49m\u001b[39m.\u001b[39;49m_getitem_tuple(key)\n\u001b[0;32m   1148\u001b[0m \u001b[39melse\u001b[39;00m:\n\u001b[0;32m   1149\u001b[0m     \u001b[39m# we by definition only have the 0th axis\u001b[39;00m\n\u001b[0;32m   1150\u001b[0m     axis \u001b[39m=\u001b[39m \u001b[39mself\u001b[39m\u001b[39m.\u001b[39maxis \u001b[39mor\u001b[39;00m \u001b[39m0\u001b[39m\n",
      "File \u001b[1;32mc:\\Users\\zandr\\AppData\\Local\\Programs\\Python\\Python311\\Lib\\site-packages\\pandas\\core\\indexing.py:1337\u001b[0m, in \u001b[0;36m_LocIndexer._getitem_tuple\u001b[1;34m(self, tup)\u001b[0m\n\u001b[0;32m   1335\u001b[0m \u001b[39m# ugly hack for GH #836\u001b[39;00m\n\u001b[0;32m   1336\u001b[0m \u001b[39mif\u001b[39;00m \u001b[39mself\u001b[39m\u001b[39m.\u001b[39m_multi_take_opportunity(tup):\n\u001b[1;32m-> 1337\u001b[0m     \u001b[39mreturn\u001b[39;00m \u001b[39mself\u001b[39;49m\u001b[39m.\u001b[39;49m_multi_take(tup)\n\u001b[0;32m   1339\u001b[0m \u001b[39mreturn\u001b[39;00m \u001b[39mself\u001b[39m\u001b[39m.\u001b[39m_getitem_tuple_same_dim(tup)\n",
      "File \u001b[1;32mc:\\Users\\zandr\\AppData\\Local\\Programs\\Python\\Python311\\Lib\\site-packages\\pandas\\core\\indexing.py:1292\u001b[0m, in \u001b[0;36m_LocIndexer._multi_take\u001b[1;34m(self, tup)\u001b[0m\n\u001b[0;32m   1287\u001b[0m \u001b[39m# GH 836\u001b[39;00m\n\u001b[0;32m   1288\u001b[0m d \u001b[39m=\u001b[39m {\n\u001b[0;32m   1289\u001b[0m     axis: \u001b[39mself\u001b[39m\u001b[39m.\u001b[39m_get_listlike_indexer(key, axis)\n\u001b[0;32m   1290\u001b[0m     \u001b[39mfor\u001b[39;00m (key, axis) \u001b[39min\u001b[39;00m \u001b[39mzip\u001b[39m(tup, \u001b[39mself\u001b[39m\u001b[39m.\u001b[39mobj\u001b[39m.\u001b[39m_AXIS_ORDERS)\n\u001b[0;32m   1291\u001b[0m }\n\u001b[1;32m-> 1292\u001b[0m \u001b[39mreturn\u001b[39;00m \u001b[39mself\u001b[39;49m\u001b[39m.\u001b[39;49mobj\u001b[39m.\u001b[39;49m_reindex_with_indexers(d, copy\u001b[39m=\u001b[39;49m\u001b[39mTrue\u001b[39;49;00m, allow_dups\u001b[39m=\u001b[39;49m\u001b[39mTrue\u001b[39;49;00m)\n",
      "File \u001b[1;32mc:\\Users\\zandr\\AppData\\Local\\Programs\\Python\\Python311\\Lib\\site-packages\\pandas\\core\\generic.py:5597\u001b[0m, in \u001b[0;36mNDFrame._reindex_with_indexers\u001b[1;34m(self, reindexers, fill_value, copy, allow_dups)\u001b[0m\n\u001b[0;32m   5594\u001b[0m     indexer \u001b[39m=\u001b[39m ensure_platform_int(indexer)\n\u001b[0;32m   5596\u001b[0m \u001b[39m# TODO: speed up on homogeneous DataFrame objects (see _reindex_multi)\u001b[39;00m\n\u001b[1;32m-> 5597\u001b[0m new_data \u001b[39m=\u001b[39m new_data\u001b[39m.\u001b[39;49mreindex_indexer(\n\u001b[0;32m   5598\u001b[0m     index,\n\u001b[0;32m   5599\u001b[0m     indexer,\n\u001b[0;32m   5600\u001b[0m     axis\u001b[39m=\u001b[39;49mbaxis,\n\u001b[0;32m   5601\u001b[0m     fill_value\u001b[39m=\u001b[39;49mfill_value,\n\u001b[0;32m   5602\u001b[0m     allow_dups\u001b[39m=\u001b[39;49mallow_dups,\n\u001b[0;32m   5603\u001b[0m     copy\u001b[39m=\u001b[39;49mcopy,\n\u001b[0;32m   5604\u001b[0m )\n\u001b[0;32m   5605\u001b[0m \u001b[39m# If we've made a copy once, no need to make another one\u001b[39;00m\n\u001b[0;32m   5606\u001b[0m copy \u001b[39m=\u001b[39m \u001b[39mFalse\u001b[39;00m\n",
      "File \u001b[1;32mc:\\Users\\zandr\\AppData\\Local\\Programs\\Python\\Python311\\Lib\\site-packages\\pandas\\core\\internals\\managers.py:663\u001b[0m, in \u001b[0;36mBaseBlockManager.reindex_indexer\u001b[1;34m(self, new_axis, indexer, axis, fill_value, allow_dups, copy, only_slice, use_na_proxy)\u001b[0m\n\u001b[0;32m    660\u001b[0m     \u001b[39mraise\u001b[39;00m \u001b[39mIndexError\u001b[39;00m(\u001b[39m\"\u001b[39m\u001b[39mRequested axis not found in manager\u001b[39m\u001b[39m\"\u001b[39m)\n\u001b[0;32m    662\u001b[0m \u001b[39mif\u001b[39;00m axis \u001b[39m==\u001b[39m \u001b[39m0\u001b[39m:\n\u001b[1;32m--> 663\u001b[0m     new_blocks \u001b[39m=\u001b[39m \u001b[39mself\u001b[39;49m\u001b[39m.\u001b[39;49m_slice_take_blocks_ax0(\n\u001b[0;32m    664\u001b[0m         indexer,\n\u001b[0;32m    665\u001b[0m         fill_value\u001b[39m=\u001b[39;49mfill_value,\n\u001b[0;32m    666\u001b[0m         only_slice\u001b[39m=\u001b[39;49monly_slice,\n\u001b[0;32m    667\u001b[0m         use_na_proxy\u001b[39m=\u001b[39;49muse_na_proxy,\n\u001b[0;32m    668\u001b[0m     )\n\u001b[0;32m    669\u001b[0m \u001b[39melse\u001b[39;00m:\n\u001b[0;32m    670\u001b[0m     new_blocks \u001b[39m=\u001b[39m [\n\u001b[0;32m    671\u001b[0m         blk\u001b[39m.\u001b[39mtake_nd(\n\u001b[0;32m    672\u001b[0m             indexer,\n\u001b[1;32m   (...)\u001b[0m\n\u001b[0;32m    678\u001b[0m         \u001b[39mfor\u001b[39;00m blk \u001b[39min\u001b[39;00m \u001b[39mself\u001b[39m\u001b[39m.\u001b[39mblocks\n\u001b[0;32m    679\u001b[0m     ]\n",
      "File \u001b[1;32mc:\\Users\\zandr\\AppData\\Local\\Programs\\Python\\Python311\\Lib\\site-packages\\pandas\\core\\internals\\managers.py:756\u001b[0m, in \u001b[0;36mBaseBlockManager._slice_take_blocks_ax0\u001b[1;34m(self, slice_or_indexer, fill_value, only_slice, use_na_proxy, ref_inplace_op)\u001b[0m\n\u001b[0;32m    753\u001b[0m         \u001b[39melse\u001b[39;00m:\n\u001b[0;32m    754\u001b[0m             bp \u001b[39m=\u001b[39m BlockPlacement(\u001b[39mslice\u001b[39m(\u001b[39m0\u001b[39m, sllen))\n\u001b[0;32m    755\u001b[0m             \u001b[39mreturn\u001b[39;00m [\n\u001b[1;32m--> 756\u001b[0m                 blk\u001b[39m.\u001b[39;49mtake_nd(\n\u001b[0;32m    757\u001b[0m                     slobj,\n\u001b[0;32m    758\u001b[0m                     axis\u001b[39m=\u001b[39;49m\u001b[39m0\u001b[39;49m,\n\u001b[0;32m    759\u001b[0m                     new_mgr_locs\u001b[39m=\u001b[39;49mbp,\n\u001b[0;32m    760\u001b[0m                     fill_value\u001b[39m=\u001b[39;49mfill_value,\n\u001b[0;32m    761\u001b[0m                 )\n\u001b[0;32m    762\u001b[0m             ]\n\u001b[0;32m    764\u001b[0m \u001b[39mif\u001b[39;00m sl_type \u001b[39m==\u001b[39m \u001b[39m\"\u001b[39m\u001b[39mslice\u001b[39m\u001b[39m\"\u001b[39m:\n\u001b[0;32m    765\u001b[0m     blknos \u001b[39m=\u001b[39m \u001b[39mself\u001b[39m\u001b[39m.\u001b[39mblknos[slobj]\n",
      "File \u001b[1;32mc:\\Users\\zandr\\AppData\\Local\\Programs\\Python\\Python311\\Lib\\site-packages\\pandas\\core\\internals\\blocks.py:1061\u001b[0m, in \u001b[0;36mBlock.take_nd\u001b[1;34m(self, indexer, axis, new_mgr_locs, fill_value)\u001b[0m\n\u001b[0;32m   1058\u001b[0m     allow_fill \u001b[39m=\u001b[39m \u001b[39mTrue\u001b[39;00m\n\u001b[0;32m   1060\u001b[0m \u001b[39m# Note: algos.take_nd has upcast logic similar to coerce_to_target_dtype\u001b[39;00m\n\u001b[1;32m-> 1061\u001b[0m new_values \u001b[39m=\u001b[39m algos\u001b[39m.\u001b[39;49mtake_nd(\n\u001b[0;32m   1062\u001b[0m     values, indexer, axis\u001b[39m=\u001b[39;49maxis, allow_fill\u001b[39m=\u001b[39;49mallow_fill, fill_value\u001b[39m=\u001b[39;49mfill_value\n\u001b[0;32m   1063\u001b[0m )\n\u001b[0;32m   1065\u001b[0m \u001b[39m# Called from three places in managers, all of which satisfy\u001b[39;00m\n\u001b[0;32m   1066\u001b[0m \u001b[39m#  these assertions\u001b[39;00m\n\u001b[0;32m   1067\u001b[0m \u001b[39mif\u001b[39;00m \u001b[39misinstance\u001b[39m(\u001b[39mself\u001b[39m, ExtensionBlock):\n\u001b[0;32m   1068\u001b[0m     \u001b[39m# NB: in this case, the 'axis' kwarg will be ignored in the\u001b[39;00m\n\u001b[0;32m   1069\u001b[0m     \u001b[39m#  algos.take_nd call above.\u001b[39;00m\n",
      "File \u001b[1;32mc:\\Users\\zandr\\AppData\\Local\\Programs\\Python\\Python311\\Lib\\site-packages\\pandas\\core\\array_algos\\take.py:118\u001b[0m, in \u001b[0;36mtake_nd\u001b[1;34m(arr, indexer, axis, fill_value, allow_fill)\u001b[0m\n\u001b[0;32m    115\u001b[0m     \u001b[39mreturn\u001b[39;00m arr\u001b[39m.\u001b[39mtake(indexer, fill_value\u001b[39m=\u001b[39mfill_value, allow_fill\u001b[39m=\u001b[39mallow_fill)\n\u001b[0;32m    117\u001b[0m arr \u001b[39m=\u001b[39m np\u001b[39m.\u001b[39masarray(arr)\n\u001b[1;32m--> 118\u001b[0m \u001b[39mreturn\u001b[39;00m _take_nd_ndarray(arr, indexer, axis, fill_value, allow_fill)\n",
      "File \u001b[1;32mc:\\Users\\zandr\\AppData\\Local\\Programs\\Python\\Python311\\Lib\\site-packages\\pandas\\core\\array_algos\\take.py:163\u001b[0m, in \u001b[0;36m_take_nd_ndarray\u001b[1;34m(arr, indexer, axis, fill_value, allow_fill)\u001b[0m\n\u001b[0;32m    158\u001b[0m     out \u001b[39m=\u001b[39m np\u001b[39m.\u001b[39mempty(out_shape, dtype\u001b[39m=\u001b[39mdtype)\n\u001b[0;32m    160\u001b[0m func \u001b[39m=\u001b[39m _get_take_nd_function(\n\u001b[0;32m    161\u001b[0m     arr\u001b[39m.\u001b[39mndim, arr\u001b[39m.\u001b[39mdtype, out\u001b[39m.\u001b[39mdtype, axis\u001b[39m=\u001b[39maxis, mask_info\u001b[39m=\u001b[39mmask_info\n\u001b[0;32m    162\u001b[0m )\n\u001b[1;32m--> 163\u001b[0m func(arr, indexer, out, fill_value)\n\u001b[0;32m    165\u001b[0m \u001b[39mif\u001b[39;00m flip_order:\n\u001b[0;32m    166\u001b[0m     out \u001b[39m=\u001b[39m out\u001b[39m.\u001b[39mT\n",
      "\u001b[1;31mKeyboardInterrupt\u001b[0m: "
     ]
    }
   ],
   "source": [
    "# YOUR CODES HERE\n",
    "from itertools import product\n",
    "\n",
    "N = 18  # sample size\n",
    "\n",
    "# Generating all possible realizations using a Bernoulli trial\n",
    "realizations = list(product([0, 1], repeat=N))\n",
    "rows = len(realizations)\n",
    "\n",
    "# Initialise an array to store T values\n",
    "T_values2 = np.zeros(rows)\n",
    "\n",
    "# For each realization, compute the T value\n",
    "for i in range(rows):\n",
    "    treatment_assignment = np.random.binomial(n=1, p=0.5, size=N)\n",
    "    \n",
    "    treat_indices = np.where(treatment_assignment == 1)\n",
    "    control_indices = np.where(treatment_assignment == 0)\n",
    "\n",
    "    # Calculate the T value for this random assignment\n",
    "    T_values2[i] = (\n",
    "        df.loc[treat_indices, 'Yi(1)'].mean() - \n",
    "        df.loc[control_indices, 'Yi(0)'].mean() \n",
    "    )\n"
   ]
  },
  {
   "cell_type": "code",
   "execution_count": 12,
   "metadata": {},
   "outputs": [
    {
     "name": "stdout",
     "output_type": "stream",
     "text": [
      "25th percentile: nan\n",
      "50th percentile: nan\n",
      "75th percentile: nan\n",
      "Variance of T: nan\n"
     ]
    }
   ],
   "source": [
    "percentiles2 = np.percentile(T_values2, [25, 50, 75])\n",
    "print(f'25th percentile: {percentiles2[0]}')\n",
    "print(f'50th percentile: {percentiles2[1]}')\n",
    "print(f'75th percentile: {percentiles2[2]}')\n",
    "\n",
    "print(f'Variance of T: {np.std(T_values2) * np.std(T_values2)}')"
   ]
  },
  {
   "cell_type": "markdown",
   "metadata": {},
   "source": [
    "Compare the results with (c) and describe your findings. "
   ]
  },
  {
   "cell_type": "markdown",
   "metadata": {},
   "source": [
    "Comparing (c) and (e):\n",
    "- The variance of () is larger.\n",
    "- The interquartile range of () is larger."
   ]
  },
  {
   "cell_type": "markdown",
   "metadata": {},
   "source": [
    "## (f) - (0.5') \n",
    "In the original data that you loaded, what is the value ($t_0$) of this test statistic $T$? \n",
    "\n",
    "If it is positive, then what is $Pr\\{T\\geq t_0\\}$ under $H_0$ based on the EXACT Probability Distribution of $T$ you have derived in the question (c)? If it is negative, then What is $Pr\\{T\\leq t_0\\}$?"
   ]
  },
  {
   "cell_type": "code",
   "execution_count": 26,
   "metadata": {},
   "outputs": [
    {
     "name": "stdout",
     "output_type": "stream",
     "text": [
      "Value of test statistic T in original loaded data: 0.1470588537777786\n",
      "The probability is: 0.9370012340600576\n"
     ]
    }
   ],
   "source": [
    "# YOUR CODES HERE\n",
    "# Calculate mean for Y_1^{obs}. Filter for Treatment = 1\n",
    "treated = df[df['Treatment'] == 1]\n",
    "mean_treated_obs = np.sum(treated['observed']) / len(treated)\n",
    "\n",
    "# Calculate mean for Y_0^{obs}. Filter for Treatment = 0\n",
    "untreated = df[df['Treatment'] == 0]\n",
    "mean_untreated_obs = np.sum(untreated['observed']) / len(untreated)\n",
    "\n",
    "original_T_stat = mean_treated_obs - mean_untreated_obs\n",
    "print(f'Value of test statistic T in original loaded data: {original_T_stat}')\n",
    "\n",
    "# Since original_T_stat is positive\n",
    "# Count the number of times the T_statistic values in (c) exceeds original_T_stat\n",
    "num_times_exceed = np.sum(T_values > original_T_stat)\n",
    "\n",
    "# calculate prob that  $Pr\\{T\\geq t_0\\}$ \n",
    "probability = num_times_exceed / len(T_values)\n",
    "print(f'The probability is: {probability}')\n"
   ]
  },
  {
   "cell_type": "markdown",
   "metadata": {},
   "source": [
    "Since the test statistic is positive, the value of $Pr\\{T\\geq t_0\\}$ under $H_0$ is 0.9370012340600576 Since 0.9370012340600576 > 0.05 at a 5% level of significance, we fail to reject the null hypothesis $H_0$. "
   ]
  },
  {
   "cell_type": "markdown",
   "metadata": {},
   "source": [
    "## (g) - (0.5') \n",
    "\n",
    "Now we consider a different test statistic $G=\\max\\{Y_1^{obs}\\}-\\min\\{Y_0^{obs}\\}$.\n",
    "\n",
    "Generate the EXACT Probability Distribution of this test statistic $G$, under $H_0$ in a completely randomized experiment with equal number of subjects in each group. Report the the 25%, 50%, 75% quantile of the distribution of this new test statistic $G$, and the variance of $G$. Plot the histogram of this test statistic $G$ with `bins = 100`."
   ]
  },
  {
   "cell_type": "code",
   "execution_count": 31,
   "metadata": {},
   "outputs": [],
   "source": [
    "N = 18  # sample size\n",
    "mat = np.arange(1, N + 1)\n",
    "\n",
    "# Generate treatment assignments as combinations\n",
    "treatment_assignment = list(combinations(mat, N//2))\n",
    "rows = len(treatment_assignment)\n",
    "\n",
    "# Placeholder for G_values\n",
    "G_values = np.zeros(rows)\n",
    "\n",
    "# Assuming df is already defined and is a pandas DataFrame\n",
    "for i in range(rows):\n",
    "    row_matrix = np.array(treatment_assignment[i])\n",
    "    \n",
    "    t1 = df.iloc[row_matrix - 1, df.columns.get_loc('Yi(1)')]\n",
    "    t0 = df.iloc[np.setdiff1d(mat, row_matrix) - 1, df.columns.get_loc('Yi(0)')]\n",
    "    \n",
    "    G_values[i] = max(t1) - min(t0)"
   ]
  },
  {
   "cell_type": "code",
   "execution_count": 10,
   "metadata": {},
   "outputs": [],
   "source": [
    "# # OLD\n",
    "# mat = np.array(range(1, 19))\n",
    "# N  = 18 # sample size\n",
    "# realizations = list(combinations(range(N), N//2))\n",
    "# rows = len(realizations)\n",
    "\n",
    "# # initialise empty list to store T values\n",
    "# G_values = np.zeros(rows)\n",
    "\n",
    "# for i in range(0, rows):\n",
    "#     row_matrix = realizations[i]\n",
    "#     G_values[i] = np.max(df.loc[np.isin(mat, row_matrix), 'Yi(1)']) - np.min(df.loc[~np.isin(mat, row_matrix), 'Yi(0)'])"
   ]
  },
  {
   "cell_type": "code",
   "execution_count": 33,
   "metadata": {},
   "outputs": [
    {
     "name": "stdout",
     "output_type": "stream",
     "text": [
      "25th percentile: 3.076119276999999\n",
      "50th percentile: 3.404075978\n",
      "75th percentile: 4.3759851329999995\n",
      "Variance of G: 0.3889317160763571\n"
     ]
    }
   ],
   "source": [
    "percentiles_G = np.percentile(G_values, [25, 50, 75])\n",
    "print(f'25th percentile: {percentiles_G[0]}')\n",
    "print(f'50th percentile: {percentiles_G[1]}')\n",
    "print(f'75th percentile: {percentiles_G[2]}')\n",
    "\n",
    "print(f'Variance of G: {np.std(G_values) * np.std(G_values)}')"
   ]
  },
  {
   "cell_type": "markdown",
   "metadata": {},
   "source": [
    "Plot the histogram of this test statistic $G$ with `bins = 100`."
   ]
  },
  {
   "cell_type": "code",
   "execution_count": 32,
   "metadata": {},
   "outputs": [
    {
     "data": {
      "image/png": "[encoded data removed]",
      "text/plain": [
       "<Figure size 640x480 with 1 Axes>"
      ]
     },
     "metadata": {},
     "output_type": "display_data"
    }
   ],
   "source": [
    "# YOUR CODES HERE\n",
    "plt.hist(G_values, bins=100, color='gray', edgecolor='black')\n",
    "\n",
    "plt.title('Histogram of G')\n",
    "plt.xlabel('Values of G')\n",
    "plt.ylabel('Frequency')\n",
    "plt.show()"
   ]
  },
  {
   "cell_type": "markdown",
   "metadata": {},
   "source": [
    "## (h) - (0.5')\n",
    "Note that when $N$ (number of patients) is large (e.g., $N=50$),  deriving the exact distribution of the statistic under Fisher Sharp NULL Hypothesis becomes very time-consuming. \n",
    "\n",
    "In this case, we often use \"bootstrap\" strategy, i.e., we will re-execute the randomized assignment procedure for $M$ times. Then, for each iteration, we randomly assign half of the subjects to the control group and the remaining to the treatment group, and we compute the value of our test statistic.\n",
    "\n",
    "Still use $T$ as the test statistic, set $M=10000$. Report the 25%, 50%, 75% quantile of the distribution of the test statistic $T$, and the variance of $T$. Plot the histogram of this test statistic $T$ with `bins = 50`."
   ]
  },
  {
   "cell_type": "code",
   "execution_count": null,
   "metadata": {},
   "outputs": [],
   "source": [
    "# YOUR CODES HERE\n"
   ]
  },
  {
   "cell_type": "markdown",
   "metadata": {},
   "source": [
    "Plot the histogram of this test statistic $T$ with `bins = 50`."
   ]
  },
  {
   "cell_type": "code",
   "execution_count": null,
   "metadata": {},
   "outputs": [],
   "source": [
    "# YOUR CODES HERE\n"
   ]
  },
  {
   "cell_type": "code",
   "execution_count": null,
   "metadata": {},
   "outputs": [],
   "source": []
  },
  {
   "cell_type": "code",
   "execution_count": null,
   "metadata": {},
   "outputs": [],
   "source": []
  }
 ],
 "metadata": {
  "kernelspec": {
   "display_name": "Python 3 (ipykernel)",
   "language": "python",
   "name": "python3"
  },
  "language_info": {
   "codemirror_mode": {
    "name": "ipython",
    "version": 3
   },
   "file_extension": ".py",
   "mimetype": "text/x-python",
   "name": "python",
   "nbconvert_exporter": "python",
   "pygments_lexer": "ipython3",
   "version": "3.11.2"
  }
 },
 "nbformat": 4,
 "nbformat_minor": 2
}
