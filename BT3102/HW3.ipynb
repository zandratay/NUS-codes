{
 "cells": [
  {
   "cell_type": "markdown",
   "metadata": {},
   "source": [
    "> # BT3102 HW3\n",
    "> This homework contains several coding tasks and Q&A questions. \n",
    ">\n",
    ">>For coding part, please write codes in corresponding cells starts from **YOUR CODES HERE**. \n",
    ">>\n",
    ">>For Q&A, you will see cells with **Answer: HERE**. Please double click those cells and directly write your answer.\n",
    ">>\n",
    ">>For other cells, please directly run the cell.\n",
    ">>\n",
    ">>**Please make sure you have expanded all hidden cells!** You can refer to https://stackoverflow.com/questions/62457417/unhide-all-cells-in-google-colab for more information.\n",
    ">\n",
    ">\n",
    "> You should use Python 3 to do this homework. Python 2 may not be supported. (You can also submit code in MATLAB alternatively.)\n",
    ">\n",
    ">\n",
    "> ## Due Date: Nov. 9 (Thu), 22:00 SG Time\n",
    "> ## Deliverables\n",
    "> Save your notebook `ipynb` file as `StudentID_YourName_HW3.ipynb`, generate an `html` file from `ipynb` file and save as `StudentID_YourName_HW3.html`. Zip your notebook file and html file into a single `zip` file. \n",
    ">\n",
    "> **Upload the `zip` file as `StudentID_YourName_HW3.zip`. Please do NOT include the data file (i.e., graph.pkl) in your submission.**\n",
    ">\n",
    "> **Please make sure your code is executable.**\n",
    ">\n",
    ">>How to generate an HTML file from your notebook file in Google Colab?  \n",
    ">>Please refer to https://stackoverflow.com/questions/53460051/convert-ipynb-notebook-to-html-in-google-colab\n",
    ">\n",
    "> ## HW3 worths 8 points in the final assessment."
   ]
  },
  {
   "cell_type": "markdown",
   "metadata": {},
   "source": [
    "**STU1**\n",
    "\n",
    "StuID: A0239429U\n",
    "\n",
    "Name: Tay Xinyu, Zandra\n",
    "\n",
    "\n",
    "**STU2**\n",
    "\n",
    "StuID: A0123456X\n",
    "\n",
    "Name: DEF"
   ]
  },
  {
   "cell_type": "markdown",
   "metadata": {},
   "source": [
    "*In compliance with the* [*general message*](https://libguides.nus.edu.sg/new2nus/acadintegrity#s-lib-ctab-22144949-4) *and* [*guidelines*](https://libguides.nus.edu.sg/new2nus/acadintegrity#s-lib-ctab-22144949-5) *on the use of AI tools for academic work from the University, if you use any AI tools for this homework, please fill in the table below. Thank you.*\n",
    "\n",
    "\n",
    "| AI Tool used    |   Prompt and output   |   How the output was used in the assignment   |\n",
    "| ---- | ---- | ---- |\n",
    "|   --   |   --   |   --   |\n",
    "|   --   |   --   |   --   |"
   ]
  },
  {
   "cell_type": "code",
   "execution_count": null,
   "metadata": {},
   "outputs": [],
   "source": []
  },
  {
   "cell_type": "markdown",
   "metadata": {},
   "source": [
    "# Problem 1. PageRank"
   ]
  },
  {
   "cell_type": "markdown",
   "metadata": {},
   "source": [
    "## Input\n",
    "Load the graph and understand the data."
   ]
  },
  {
   "cell_type": "code",
   "execution_count": 8,
   "metadata": {},
   "outputs": [],
   "source": [
    "import nbconvert"
   ]
  },
  {
   "cell_type": "code",
   "execution_count": 2,
   "metadata": {},
   "outputs": [],
   "source": [
    "# Import libraries\n",
    "import numpy as np\n",
    "from scipy import sparse\n",
    "import pandas as pd\n",
    "import pickle\n",
    "\n",
    "beta = 0.86 # used in computing the PageRank\n",
    "\n",
    "# You may use the line below to load the data\n",
    "with open('graph.pkl', 'rb') as f:\n",
    "    M = pickle.load(f)"
   ]
  },
  {
   "cell_type": "markdown",
   "metadata": {},
   "source": [
    "M is a square matrix contains only 0 and 1. $M_{ij}=1$ if and only if webpage j links to webpage i. The number of rows (or columns) of the matrix is the number of webpages in the network. You may want to store that number in a variable"
   ]
  },
  {
   "cell_type": "markdown",
   "metadata": {},
   "source": [
    "### <u> Print the number of rows and colums of data. </u> (0.5')\n"
   ]
  },
  {
   "cell_type": "code",
   "execution_count": 4,
   "metadata": {},
   "outputs": [
    {
     "name": "stdout",
     "output_type": "stream",
     "text": [
      "Number of rows: 5500\n",
      "Number of columns: 5500\n"
     ]
    }
   ],
   "source": [
    "# YOUR CODES HERE\n",
    "rows, cols = M.shape\n",
    "print(f'Number of rows: {rows}')\n",
    "print(f'Number of columns: {cols}')"
   ]
  },
  {
   "cell_type": "markdown",
   "metadata": {},
   "source": [
    "### <u> Short answer questions. (Please print the results.) </u> (1')"
   ]
  },
  {
   "cell_type": "markdown",
   "metadata": {},
   "source": [
    "(1) How many links in total does M has? (print the number of links)"
   ]
  },
  {
   "cell_type": "code",
   "execution_count": 5,
   "metadata": {},
   "outputs": [
    {
     "name": "stdout",
     "output_type": "stream",
     "text": [
      "Number of links: 82155\n"
     ]
    }
   ],
   "source": [
    "# Answer HERE\n",
    "num_links = np.sum(M == 1)\n",
    "print(f'Number of links: {num_links}')"
   ]
  },
  {
   "cell_type": "markdown",
   "metadata": {},
   "source": [
    "(2) How sparse is M? (print a ratio within 0-1)"
   ]
  },
  {
   "cell_type": "code",
   "execution_count": 6,
   "metadata": {},
   "outputs": [
    {
     "name": "stdout",
     "output_type": "stream",
     "text": [
      "Sparsity: 0.997284132231405\n"
     ]
    }
   ],
   "source": [
    "# Answer HERE\n",
    "sparsity = np.sum(M == 0) / M.size\n",
    "print(f'Sparsity: {sparsity}')"
   ]
  },
  {
   "cell_type": "markdown",
   "metadata": {},
   "source": [
    "## Question 1"
   ]
  },
  {
   "cell_type": "markdown",
   "metadata": {},
   "source": [
    "Each column of matrix M corresponds to one webpage in the network. For each column, divide each entry by the total number of outbound links of that webpage. Store the resulting matrix in \"M2\". Note that the graph may contain dead-end node. We will deal with this issue later.\n"
   ]
  },
  {
   "cell_type": "code",
   "execution_count": 7,
   "metadata": {},
   "outputs": [
    {
     "name": "stdout",
     "output_type": "stream",
     "text": [
      "[[0. 0. 0. ... 0. 0. 0.]\n",
      " [0. 0. 0. ... 0. 0. 0.]\n",
      " [0. 0. 0. ... 0. 0. 0.]\n",
      " ...\n",
      " [0. 0. 0. ... 0. 0. 0.]\n",
      " [0. 0. 0. ... 0. 0. 0.]\n",
      " [0. 0. 0. ... 0. 0. 0.]]\n"
     ]
    },
    {
     "name": "stderr",
     "output_type": "stream",
     "text": [
      "C:\\Users\\zandr\\AppData\\Local\\Temp\\ipykernel_19116\\3547269860.py:8: RuntimeWarning: invalid value encountered in divide\n",
      "  M2 = M / col_sums\n"
     ]
    }
   ],
   "source": [
    "# Check if there are any NaN in your matrix after the operation\n",
    "# You can use np.isnan(your_matrix).any() to check. If there are NaNs, then you need to figure out why and fix it\n",
    "\n",
    "# YOUR CODES HERE\n",
    "col_sums = np.sum(M, axis=0)\n",
    "\n",
    "# Divide each column entry by the respective column sum\n",
    "M2 = M / col_sums\n",
    "\n",
    "print(M2)"
   ]
  },
  {
   "cell_type": "code",
   "execution_count": 6,
   "metadata": {},
   "outputs": [
    {
     "name": "stdout",
     "output_type": "stream",
     "text": [
      "There are NaNs present in M2\n"
     ]
    }
   ],
   "source": [
    "if (np.isnan(M2).any() == False):\n",
    "    print(\"There are no NaNs in M2\")\n",
    "else:\n",
    "    print(\"There are NaNs present in M2\")"
   ]
  },
  {
   "cell_type": "code",
   "execution_count": 8,
   "metadata": {},
   "outputs": [
    {
     "name": "stdout",
     "output_type": "stream",
     "text": [
      "[[0. 0. 0. ... 0. 0. 0.]\n",
      " [0. 0. 0. ... 0. 0. 0.]\n",
      " [0. 0. 0. ... 0. 0. 0.]\n",
      " ...\n",
      " [0. 0. 0. ... 0. 0. 0.]\n",
      " [0. 0. 0. ... 0. 0. 0.]\n",
      " [0. 0. 0. ... 0. 0. 0.]]\n"
     ]
    }
   ],
   "source": [
    "# FIXING PRESENCE OF NANS\n",
    "\n",
    "# Anwser here ... \n",
    "col_sums = np.sum(M, axis=0)\n",
    "\n",
    "# Avoid division by zero by replacing 0 with 1 (since anything divided by 1 remains unchanged)\n",
    "col_sums[col_sums == 0] = 1\n",
    "\n",
    "# Divide each column entry by the respective column sum\n",
    "M2 = M / col_sums\n",
    "\n",
    "print(M2)"
   ]
  },
  {
   "cell_type": "markdown",
   "metadata": {},
   "source": [
    "Pre-process the matrix M2 to handle the \"dead-end nodes\". Store the new matrix as \"H\""
   ]
  },
  {
   "cell_type": "code",
   "execution_count": 9,
   "metadata": {},
   "outputs": [],
   "source": [
    "# YOUR CODES HERE\n",
    "# initialise new matrix H with zeros, same shape as M2\n",
    "H = np.zeros_like(M2)\n",
    "\n",
    "for i in range(M2.shape[1]):\n",
    "    column = M2[:, i]\n",
    "    if np.sum(column) == 0:\n",
    "        # assign handled node back to H\n",
    "        N = len(column)\n",
    "        H[:, i] = 1/N  # This assigns 1/N to all elements in the i-th column\n",
    "    else:\n",
    "        H[:, i] = column"
   ]
  },
  {
   "cell_type": "markdown",
   "metadata": {},
   "source": [
    "#### <u> Please print the 1st entry of the 125 column of your matrix H. </u> (0.5')"
   ]
  },
  {
   "cell_type": "code",
   "execution_count": 9,
   "metadata": {},
   "outputs": [
    {
     "data": {
      "text/plain": [
       "0.0001818181818181818"
      ]
     },
     "execution_count": 9,
     "metadata": {},
     "output_type": "execute_result"
    }
   ],
   "source": [
    "# YOUR CODES HERE\n",
    "H[:, 124][0]"
   ]
  },
  {
   "cell_type": "markdown",
   "metadata": {},
   "source": [
    "#### Raise matrix G to the 10th power and then multiply it by the initial PageRank vector. (0.5')  <u>Print the resulting PageRank vector and the runtime.</u>  (Hint: use the command %%time in the cell).\n",
    "\n",
    "(You can use `np.linalg.matrix_power(G, n)`[1] to raise a matrix `G` to `n`th power). Check the run time of this computation.\n",
    "\n",
    "This is supposed to run for some time so that in the subsequent questions, you will see the improvement due to other methods we mentioned in the lecture. <u> You are required to record the runtime of all questions at the end of this problem. </u>\n",
    "\n",
    "Hint: after you get the PageRank vector, you can take the sum of all elements in the vector to check if it is 1.\n",
    "\n",
    "\n",
    "[1] https://numpy.org/doc/stable/reference/generated/numpy.linalg.matrix_power.html"
   ]
  },
  {
   "cell_type": "code",
   "execution_count": 11,
   "metadata": {},
   "outputs": [
    {
     "data": {
      "text/plain": [
       "array([[2.54545455e-05, 2.54545455e-05, 2.54545455e-05, ...,\n",
       "        2.54545455e-05, 2.54545455e-05, 2.54545455e-05],\n",
       "       [2.54545455e-05, 2.54545455e-05, 2.54545455e-05, ...,\n",
       "        2.54545455e-05, 2.54545455e-05, 2.54545455e-05],\n",
       "       [2.54545455e-05, 2.54545455e-05, 2.54545455e-05, ...,\n",
       "        2.54545455e-05, 2.54545455e-05, 2.54545455e-05],\n",
       "       ...,\n",
       "       [2.54545455e-05, 2.54545455e-05, 2.54545455e-05, ...,\n",
       "        2.54545455e-05, 2.54545455e-05, 2.54545455e-05],\n",
       "       [2.54545455e-05, 2.54545455e-05, 2.54545455e-05, ...,\n",
       "        2.54545455e-05, 2.54545455e-05, 2.54545455e-05],\n",
       "       [2.54545455e-05, 2.54545455e-05, 2.54545455e-05, ...,\n",
       "        2.54545455e-05, 2.54545455e-05, 2.54545455e-05]])"
      ]
     },
     "execution_count": 11,
     "metadata": {},
     "output_type": "execute_result"
    }
   ],
   "source": [
    "beta_H = beta * H\n",
    "\n",
    "# create a matrix that has the same size as G, such that all entries are 1/num_rows\n",
    "row, col = H.shape\n",
    "valueToFill = 1/col\n",
    "temp_matrix = np.full((row, col), valueToFill)\n",
    "\n",
    "# Compute G\n",
    "G = beta_H + (1-beta)*temp_matrix\n",
    "G"
   ]
  },
  {
   "cell_type": "code",
   "execution_count": 12,
   "metadata": {},
   "outputs": [
    {
     "name": "stdout",
     "output_type": "stream",
     "text": [
      "CPU times: total: 3min 38s\n",
      "Wall time: 30.3 s\n"
     ]
    },
    {
     "data": {
      "text/plain": [
       "array([0.00012812, 0.00010817, 0.00012206, ..., 0.00018549, 0.00010179,\n",
       "       0.00015261])"
      ]
     },
     "execution_count": 12,
     "metadata": {},
     "output_type": "execute_result"
    }
   ],
   "source": [
    "%%time\n",
    "# YOUR CODES HERE\n",
    "\n",
    "# Initialise the PageRank vector to be 1/N for all entries, where N is the total number of webpages in the graph\n",
    "pr_vector = np.ones(row)/row\n",
    "\n",
    "raised_multiplied_G = np.linalg.matrix_power(G, 10) @ pr_vector\n",
    "raised_multiplied_G"
   ]
  },
  {
   "cell_type": "markdown",
   "metadata": {},
   "source": [
    "## Question 2\n",
    "Use `sparse.csr_matrix()`[1] to transform your matrix H to a sparse matrix. Store the new matrix as \"HS\".\n",
    "\n",
    "[1] https://docs.scipy.org/doc/scipy/reference/generated/scipy.sparse.csr_matrix.html"
   ]
  },
  {
   "cell_type": "code",
   "execution_count": 10,
   "metadata": {},
   "outputs": [],
   "source": [
    "# YOUR CODES HERE\n",
    "HS = sparse.csr_matrix(H)"
   ]
  },
  {
   "cell_type": "markdown",
   "metadata": {},
   "source": [
    "#### Compute the probability that you will be landing on each page in the network after 10 steps using the sparse matrix HS only. Initialize the PageRank vector to be 1/N for all entries, where N is the total number of webpage in the graph. <u>Print the PageRank vector after 10 steps and the runtime.</u> (0.5')\n"
   ]
  },
  {
   "cell_type": "code",
   "execution_count": 12,
   "metadata": {},
   "outputs": [],
   "source": [
    "pr_vector = np.ones(row)/row\n",
    "\n",
    "new_pr_vector = pr_vector.copy()"
   ]
  },
  {
   "cell_type": "code",
   "execution_count": 18,
   "metadata": {},
   "outputs": [
    {
     "name": "stdout",
     "output_type": "stream",
     "text": [
      "[[0.00012812]\n",
      " [0.00010817]\n",
      " [0.00012206]\n",
      " ...\n",
      " [0.00018549]\n",
      " [0.00010179]\n",
      " [0.00015261]]\n",
      "CPU times: total: 0 ns\n",
      "Wall time: 87.5 ms\n"
     ]
    }
   ],
   "source": [
    "%%time\n",
    "# YOUR CODES HERE\n",
    "\n",
    "result = np.full((row, 1), 1/row)\n",
    "e = np.full((row, 1), 1/row)\n",
    "\n",
    "for i in range(10):\n",
    "    result = beta * (HS * result) + (1-beta)*e\n",
    "    \n",
    "print(result)"
   ]
  },
  {
   "cell_type": "markdown",
   "metadata": {},
   "source": [
    "#### Redo this question but use the matrix H instead of HS, <u> print the PageRank vector after 10 steps and the runtime.</u> (0.5'). Both of these two methods should be much faster than raising the matrix to the 10th power. You should be able to notice the runtime difference.\n"
   ]
  },
  {
   "cell_type": "code",
   "execution_count": 22,
   "metadata": {},
   "outputs": [
    {
     "name": "stdout",
     "output_type": "stream",
     "text": [
      "[[2.54545455e-05 2.54545455e-05 2.54545455e-05 ... 2.54545455e-05\n",
      "  2.54545455e-05 2.54545455e-05]\n",
      " [2.54545455e-05 2.54545455e-05 2.54545455e-05 ... 2.54545455e-05\n",
      "  2.54545455e-05 2.54545455e-05]\n",
      " [2.54545455e-05 2.54545455e-05 2.54545455e-05 ... 2.54545455e-05\n",
      "  2.54545455e-05 2.54545455e-05]\n",
      " ...\n",
      " [2.54545455e-05 2.54545455e-05 2.54545455e-05 ... 2.54545455e-05\n",
      "  2.54545455e-05 2.54545455e-05]\n",
      " [2.54545455e-05 2.54545455e-05 2.54545455e-05 ... 2.54545455e-05\n",
      "  2.54545455e-05 2.54545455e-05]\n",
      " [2.54545455e-05 2.54545455e-05 2.54545455e-05 ... 2.54545455e-05\n",
      "  2.54545455e-05 2.54545455e-05]]\n",
      "CPU times: total: 3.14 s\n",
      "Wall time: 6 s\n"
     ]
    }
   ],
   "source": [
    "%%time\n",
    "# YOUR CODES HERE\n",
    "\n",
    "result = np.full((row, 1), 1/row)\n",
    "e = np.full((row, 1), 1/row)\n",
    "\n",
    "for i in range(10):\n",
    "    result = beta * (H * result) + (1-beta)*e\n",
    "    \n",
    "print(result)"
   ]
  },
  {
   "cell_type": "markdown",
   "metadata": {},
   "source": [
    "Numpy is a very efficient implementation of matrix operations, you should be able to see substantial improvement in computation time compared with Q1.\n"
   ]
  },
  {
   "cell_type": "markdown",
   "metadata": {},
   "source": [
    "## Question 3\n",
    "**Implement the algorithm in slide 14 -- 17 of Week 8 Tutorial for 10 steps.** Please use the sparse matrix `HS` instead of `H`, run the algorithm for 10 steps. (0.5')\n",
    "\n",
    "#### Initialize the PageRank vector to be 1/N for all entries, where N is the total number of webpage in the graph. <u> Print the PageRank vector after 10 steps and the runtime. </u>"
   ]
  },
  {
   "cell_type": "code",
   "execution_count": 14,
   "metadata": {},
   "outputs": [
    {
     "name": "stdout",
     "output_type": "stream",
     "text": [
      "[[0.00012812]\n",
      " [0.00010817]\n",
      " [0.00012206]\n",
      " ...\n",
      " [0.00018549]\n",
      " [0.00010179]\n",
      " [0.00015261]]\n",
      "CPU times: total: 46.9 ms\n",
      "Wall time: 66.4 ms\n"
     ]
    }
   ],
   "source": [
    "%%time\n",
    "\n",
    "result = np.full((row, 1), 1/row)\n",
    "e = np.full((row, 1), 1/row)\n",
    "\n",
    "for i in range(10):\n",
    "    result = beta * (HS * result) + (1-beta)*e\n",
    "    \n",
    "print(result)"
   ]
  },
  {
   "cell_type": "markdown",
   "metadata": {},
   "source": [
    "#### <u> Record the runtime of all three questions in the table below. </u> Please use the Wall Time with a unit (seconds/ms/...). Below is an example only for illustration. Please explanation your observation regaring the difference in the runtime. (0.5')\n",
    "\n",
    "* Note 1: For Q2, there are two running times generated.\n",
    "* Note 2: For this question, you just need to copy the time for all questions and paste them into the table. To edit the table (which is written by Markdown), you just need to double-click the example table, edit the corresponding value, and run this cell. It will generate the table accordingly. No need for additional coding to record the time.\n"
   ]
  },
  {
   "cell_type": "markdown",
   "metadata": {},
   "source": [
    "**Answer: HERE (Fill in the Table below and explain your observations)**\n",
    "\n",
    "| Question | Q1 | Q2-1 | Q2-2 | Q3 |\n",
    "| --- | --- | --- | --- | --- |\n",
    "| Wall Time | 30.3s | 87.5 ms | 6 ms | 66.4 ms |\n"
   ]
  },
  {
   "cell_type": "code",
   "execution_count": null,
   "metadata": {},
   "outputs": [],
   "source": []
  },
  {
   "cell_type": "code",
   "execution_count": null,
   "metadata": {},
   "outputs": [],
   "source": []
  },
  {
   "cell_type": "markdown",
   "metadata": {},
   "source": [
    "# Problem 2. Random Variable Generation"
   ]
  },
  {
   "cell_type": "markdown",
   "metadata": {},
   "source": [
    "## Question 1. Inversion Sampling (0.5' + 0.5')"
   ]
  },
  {
   "cell_type": "markdown",
   "metadata": {},
   "source": [
    "We consider the logistic function, where the noise term in the linear model is assumed to follow logistic distribution. In this problem we will generate random variables that follow logistic distribution.\n",
    "\n",
    "Using inverse CDF method to generate $N$ realizations of logistic random variable with parameter $s=1$ and $\\mu=0$. Note that the cumulative distribution function of logistic random variable $X$ with parameter $s$ and $\\mu$ is:\n",
    "$y=F(x)=\\mathbb{P}\\{X\\leq x\\}=\\left(1+e^{-\\frac{x-\\mu}{s}}\\right)^{-1}.$\n",
    "\n",
    "This method requires you to use standard uniform random variable to generate logistic random variable. \n"
   ]
  },
  {
   "cell_type": "markdown",
   "metadata": {},
   "source": [
    "Please report the mean of $N$ realizations for $N=100$. Plot the empirical cdf with `bins=50`."
   ]
  },
  {
   "cell_type": "code",
   "execution_count": 1,
   "metadata": {},
   "outputs": [
    {
     "name": "stderr",
     "output_type": "stream",
     "text": [
      "No artists with labels found to put in legend.  Note that artists whose label start with an underscore are ignored when legend() is called with no argument.\n"
     ]
    },
    {
     "data": {
      "image/png": "[encoded data removed]",
      "text/plain": [
       "<Figure size 600x400 with 1 Axes>"
      ]
     },
     "metadata": {},
     "output_type": "display_data"
    }
   ],
   "source": [
    "import numpy as np\n",
    "import matplotlib.pyplot as plt\n",
    "\n",
    "\n",
    "# fix random seed\n",
    "np.random.seed(2023)\n",
    "\n",
    "# YOUR CODES HERE\n",
    "N = 100\n",
    "\n",
    "mu = 0\n",
    "s = 1\n",
    "y = np.random.rand(N, 1)\n",
    "\n",
    "# Method 1 -- manually derive the inversion function\n",
    "EXP1 = mu + s * np.log(y / (1 - y))\n",
    "mean_EXP1 = np.mean(EXP1)\n",
    "\n",
    "\n",
    "fig = plt.figure(figsize=(6, 4))\n",
    "plt.hist(EXP1, bins=50, density=True, cumulative=True, alpha=0.8, color='blue', histtype='step', label=None)\n",
    "plt.xlabel('X')\n",
    "plt.ylabel('F(X)')\n",
    "plt.grid(True)\n",
    "# plt.xlim([0, 5])\n",
    "# plt.ylim([0, 1])\n",
    "plt.legend(loc='best')\n",
    "plt.show()\n"
   ]
  },
  {
   "cell_type": "markdown",
   "metadata": {},
   "source": [
    "Report the trend (means and empirical cdf) you have seen in Question 1. In addition to $N=100$, you can also try different numbers of $N$ to have a better understanding of the trend.\n"
   ]
  },
  {
   "cell_type": "code",
   "execution_count": 7,
   "metadata": {},
   "outputs": [
    {
     "data": {
      "text/plain": [
       "-0.10363800036700567"
      ]
     },
     "execution_count": 7,
     "metadata": {},
     "output_type": "execute_result"
    }
   ],
   "source": [
    "mean_EXP1"
   ]
  },
  {
   "cell_type": "markdown",
   "metadata": {},
   "source": [
    "**Answer: HERE**"
   ]
  },
  {
   "cell_type": "code",
   "execution_count": null,
   "metadata": {},
   "outputs": [],
   "source": []
  },
  {
   "cell_type": "markdown",
   "metadata": {},
   "source": [
    "# Question 2. Rejection Sampling"
   ]
  },
  {
   "cell_type": "markdown",
   "metadata": {},
   "source": [
    "Using acceptance-rejection method to generate realizations of random variable following **inverse Gaussian distribution**, denoted by $X$. The probability density function (pdf) of $X$ is:\n",
    "$$\n",
    "f_X(x|\\mu,\\lambda)=\\begin{cases}\n",
    " \\left(\\frac{\\lambda}{2\\pi x^3}\\right)^{1/2}e^{\\frac{-\\lambda(x-\\mu)^2}{2\\mu^2x}},~&\\text{if }x> 0,\\\\\n",
    "0,~&\\text{otherwise}.\n",
    "\\end{cases}\n",
    "$$\n",
    "Set ${\\lambda=\\mu=1}$.\n",
    "\n"
   ]
  },
  {
   "cell_type": "markdown",
   "metadata": {},
   "source": [
    "### (1) (0.5')\n",
    "Find the maximum value of $f(x|\\mu,\\lambda)$, i.e., $\\underset{x>0}{\\max}~f(x|\\mu,\\lambda)$. Denote this value as $M$. You can either derive this value manually or by coding.\n",
    "\n",
    "**Print $M$.**\n"
   ]
  },
  {
   "cell_type": "code",
   "execution_count": null,
   "metadata": {},
   "outputs": [],
   "source": [
    "# YOUR CODES HERE (if needed)\n",
    "\n"
   ]
  },
  {
   "cell_type": "markdown",
   "metadata": {},
   "source": [
    "### (2) (1')\n",
    "\n",
    "Note that the support of $X$ is $(0,+\\infty)$. We need to do some truncation. Find the value $\\hat{x}$ such that the probability of $X$ being no greater than $\\hat{x}$ is 0.99999, i.e.,\n",
    "$$\n",
    "F_X(\\hat{x})=\\mathbb{P}\\{X\\leq\\hat{x}\\}=0.99999,\n",
    "$$\n",
    "where\n",
    "$$\n",
    "F_X(x) = \\Phi\\left(\\left(\\frac{x}{\\mu}-1\\right)\\sqrt{\\frac{\\lambda}{x}}\\right)+\\Phi\\left(-\\left(\\frac{x}{\\mu}+1\\right)\\sqrt{\\frac{\\lambda}{x}}\\right)e^{2\\lambda/\\mu}.\n",
    "$$\n",
    "\n",
    "$\\Phi(x)$ is the cumulative distribution function (cdf) of standard normal random variable (You can use `norm.cdf()` [1]). \n",
    "\n",
    "**To implement this in Python, you can use  and `fsolve(func, x0)` [2] to to find $\\hat{x}$ (Please refer to the example in [2]).** \n",
    "\n",
    "**Print $\\hat{x}$.**\n",
    "\n",
    "Note that in `fsolve()`, you need to first make an initial guess (i.e., `x0`) of the solution. If your initial guess was not good enough, the `fsolve()` may break down. So you may have to guess it for a few times. And you can verify if the generated value of $\\hat{x}$ indeed satisfies the above requirement.\n",
    "\n",
    "\n",
    "[1] https://docs.scipy.org/doc/scipy/reference/generated/scipy.stats.norm.html\n",
    "\n",
    "[2] https://docs.scipy.org/doc/scipy/reference/generated/scipy.optimize.fsolve.html"
   ]
  },
  {
   "cell_type": "code",
   "execution_count": null,
   "metadata": {},
   "outputs": [],
   "source": [
    "from scipy.stats import norm\n",
    "from scipy.optimize import fsolve\n",
    "\n",
    "# YOUR CODES HERE\n",
    "\n"
   ]
  },
  {
   "cell_type": "markdown",
   "metadata": {},
   "source": [
    "### (3) (1')\n",
    "\n",
    "Using the value of $M$ and $\\hat{x}$ you get, generate $N=100000$ realizations of $X$ using acceptance-rejection method. You will generate many coordinates $(U[0,\\hat{x}],~U[0,M])$.\n",
    "\n",
    "**Plot the histogram of $X$ with `bins=200`.**\n"
   ]
  },
  {
   "cell_type": "code",
   "execution_count": null,
   "metadata": {},
   "outputs": [],
   "source": [
    "# YOUR CODES HERE\n",
    "\n"
   ]
  },
  {
   "cell_type": "code",
   "execution_count": null,
   "metadata": {},
   "outputs": [],
   "source": []
  }
 ],
 "metadata": {
  "kernelspec": {
   "display_name": "Python 3 (ipykernel)",
   "language": "python",
   "name": "python3"
  },
  "language_info": {
   "codemirror_mode": {
    "name": "ipython",
    "version": 3
   },
   "file_extension": ".py",
   "mimetype": "text/x-python",
   "name": "python",
   "nbconvert_exporter": "python",
   "pygments_lexer": "ipython3",
   "version": "3.11.2"
  }
 },
 "nbformat": 4,
 "nbformat_minor": 2
}
