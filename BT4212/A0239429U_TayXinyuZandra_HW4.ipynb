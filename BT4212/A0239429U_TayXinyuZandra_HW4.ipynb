{
 "cells": [
  {
   "cell_type": "markdown",
   "metadata": {},
   "source": [
    "# BT4212 Homework 4 \n",
    "## Search Engine Optimization and Analytics\n",
    "\n",
    "Term: Fall 2023\n",
    "\n",
    "*Individual Assignment, due Nov 5，5PM* \n",
    "\n",
    "## Submission Instruction\n",
    "\n",
    "This homework contains several coding tasks and short-answer questions to explore several predictive models for page-rank. For coding part, please write codes in the corresponding cells. I may provide some comment lines as guideline. For short-answers, type your answer in the cells with **ANSWER: HERE**. Please double click those cells and directly input your answer.\n",
    "\n",
    "I recommend you use Python 3 for this homework. Python 2 may not be supported. You can use either your own PC or Google Colab to do this homework. GPU support is NOT required.\n",
    "\n",
    "\n",
    "Save your notebook `.ipynb` file as `StudentID_YourName_HW4.ipynb`. Generate an `.html` file from `.ipynb` file and save as `StudentID_YourName_HW4.html`. Zip your notebook file and html file into a single `.zip` file. \n",
    "\n",
    "Upload the `zip` file as `StudentID_YourName_HW4.zip`. Please DO NOT include data file in your zip file (too large to upload and download).\n",
    "\n",
    "**Please make sure your code is executable.**\n",
    "\n",
    "If you are using Google Colab, \n",
    "* Please make sure you have expanded all hidden cells. You can refer to https://stackoverflow.com/questions/62457417/unhide-all-cells-in-google-colab for more information.\n",
    "* How to generate an HTML file from your notebook file in Google Colab? Please refer to https://stackoverflow.com/questions/53460051/convert-ipynb-notebook-to-html-in-google-colab\n",
    "\n",
    "HW4 is worth 80 points in total."
   ]
  },
  {
   "cell_type": "code",
   "execution_count": null,
   "metadata": {},
   "outputs": [],
   "source": [
    "# Input your name and studentID\n",
    "name = \"Tay Xinyu, Zandra\"\n",
    "stuID = \"A0239429U\""
   ]
  },
  {
   "cell_type": "code",
   "execution_count": 1,
   "metadata": {},
   "outputs": [],
   "source": [
    "import nbconvert"
   ]
  },
  {
   "cell_type": "code",
   "execution_count": 2,
   "metadata": {},
   "outputs": [],
   "source": [
    "# Import packages\n",
    "# the recommended version is listed but you could try using the most updated one.\n",
    "import numpy as np\n",
    "import pandas as pd\n",
    "\n",
    "import statsmodels.api as sm # recommended version: 0.13.0\n",
    "from statsmodels.miscmodels.ordinal_model import OrderedModel\n",
    "\n",
    "import xgboost as xgb # recommended version: 1.5.0\n",
    "from xgboost import plot_importance\n",
    "\n",
    "from sklearn import metrics \n",
    "from sklearn.tree import DecisionTreeRegressor\n",
    "from sklearn.ensemble import RandomForestRegressor\n",
    "from sklearn.metrics import mean_squared_error\n",
    "\n",
    "import matplotlib.pyplot as plt\n",
    "from itertools import chain\n"
   ]
  },
  {
   "cell_type": "code",
   "execution_count": 26,
   "metadata": {},
   "outputs": [],
   "source": [
    "# To fix random seeds (Note that you may still get slightly different results.)\n",
    "np.random.seed(12345)\n",
    "\n",
    "# To ignore some warnings\n",
    "import warnings\n",
    "from statsmodels.tools.sm_exceptions import ConvergenceWarning\n",
    "warnings.simplefilter('ignore', ConvergenceWarning)\n"
   ]
  },
  {
   "cell_type": "code",
   "execution_count": null,
   "metadata": {},
   "outputs": [],
   "source": [
    "## If you are using Google Colab and get an error regarding statsmodels(OrderedModel),\n",
    "## you can use the following line to re-install statsmodels package.\n",
    "## This will takes some time, please RESTART the RUNTIME after installation.\n",
    "\n",
    "# !pip install statsmodels==0.13.0\n",
    "\n",
    "## You may also want to mount your Google Drive to allow easy file loading.\n",
    "\n",
    "# from google.colab import drive\n",
    "# drive.mount('/content/drive')"
   ]
  },
  {
   "cell_type": "markdown",
   "metadata": {},
   "source": [
    "## Background Information: About the Data\n",
    "The data set is acquired in the following steps.\n",
    "1. Identify a set of 20 keywords. \n",
    "2. For each keyword, search in google, and return the first 98 websites. It has $20\\times98=1960$ observations in total.\n",
    "3.  Split the dataset into training and test (or validation) data. The training data includes $70\\%$ of observations ($14\\times 98=1372$ rows) while the test one has $30\\%$ of observations ($6\\times 98=588$ rows). "
   ]
  },
  {
   "cell_type": "markdown",
   "metadata": {},
   "source": [
    "There are two data files. `Train_dta.csv` for training data and `Test_dta.csv` for testing data. Open the data file with Excel may encounter some unexpected errors. Simply download another copy from Canvas, if it occurs."
   ]
  },
  {
   "cell_type": "markdown",
   "metadata": {},
   "source": [
    "### Load Data"
   ]
  },
  {
   "cell_type": "code",
   "execution_count": 4,
   "metadata": {},
   "outputs": [
    {
     "data": {
      "text/html": [
       "<div>\n",
       "<style scoped>\n",
       "    .dataframe tbody tr th:only-of-type {\n",
       "        vertical-align: middle;\n",
       "    }\n",
       "\n",
       "    .dataframe tbody tr th {\n",
       "        vertical-align: top;\n",
       "    }\n",
       "\n",
       "    .dataframe thead th {\n",
       "        text-align: right;\n",
       "    }\n",
       "</style>\n",
       "<table border=\"1\" class=\"dataframe\">\n",
       "  <thead>\n",
       "    <tr style=\"text-align: right;\">\n",
       "      <th></th>\n",
       "      <th>ID</th>\n",
       "      <th>Position</th>\n",
       "      <th>ReverseRank</th>\n",
       "      <th>Title</th>\n",
       "      <th>URL</th>\n",
       "      <th>Meta</th>\n",
       "      <th>TitleFlag</th>\n",
       "      <th>TitleDensity</th>\n",
       "      <th>URLFlag</th>\n",
       "      <th>URLDensity</th>\n",
       "      <th>MetaFlag</th>\n",
       "      <th>MetaDensity</th>\n",
       "      <th>PageAuthority</th>\n",
       "      <th>DomainAuthority</th>\n",
       "      <th>LinkingDomain</th>\n",
       "      <th>InboundLink</th>\n",
       "      <th>RankingKeyword</th>\n",
       "    </tr>\n",
       "  </thead>\n",
       "  <tbody>\n",
       "    <tr>\n",
       "      <th>0</th>\n",
       "      <td>1</td>\n",
       "      <td>1</td>\n",
       "      <td>100</td>\n",
       "      <td>Job Interview Questions Singapore: Answers to ...</td>\n",
       "      <td>https://blog.carousell.com/job-interview-quest...</td>\n",
       "      <td>sep 19 2017 common job interview questions in ...</td>\n",
       "      <td>0</td>\n",
       "      <td>0.3000</td>\n",
       "      <td>0</td>\n",
       "      <td>0.4286</td>\n",
       "      <td>0</td>\n",
       "      <td>0.1017</td>\n",
       "      <td>32</td>\n",
       "      <td>60</td>\n",
       "      <td>4</td>\n",
       "      <td>5.0</td>\n",
       "      <td>4</td>\n",
       "    </tr>\n",
       "    <tr>\n",
       "      <th>1</th>\n",
       "      <td>2</td>\n",
       "      <td>2</td>\n",
       "      <td>99</td>\n",
       "      <td>Job Interview Questions - Hudson Singapore</td>\n",
       "      <td>https://www.hudson.sg/career-advice/job-interv...</td>\n",
       "      <td>discover the five most common job interview qu...</td>\n",
       "      <td>0</td>\n",
       "      <td>0.6000</td>\n",
       "      <td>0</td>\n",
       "      <td>0.2500</td>\n",
       "      <td>0</td>\n",
       "      <td>0.2174</td>\n",
       "      <td>19</td>\n",
       "      <td>30</td>\n",
       "      <td>0</td>\n",
       "      <td>0.0</td>\n",
       "      <td>9</td>\n",
       "    </tr>\n",
       "    <tr>\n",
       "      <th>2</th>\n",
       "      <td>3</td>\n",
       "      <td>3</td>\n",
       "      <td>98</td>\n",
       "      <td>20 tips that will help you ace your next job i...</td>\n",
       "      <td>http://www.asiaone.com/business/20-tips-will-h...</td>\n",
       "      <td>oct 8 2017 with singapore's unemployment rate ...</td>\n",
       "      <td>0</td>\n",
       "      <td>0.2143</td>\n",
       "      <td>0</td>\n",
       "      <td>0.2143</td>\n",
       "      <td>0</td>\n",
       "      <td>0.0645</td>\n",
       "      <td>40</td>\n",
       "      <td>80</td>\n",
       "      <td>3</td>\n",
       "      <td>400.0</td>\n",
       "      <td>0</td>\n",
       "    </tr>\n",
       "    <tr>\n",
       "      <th>3</th>\n",
       "      <td>4</td>\n",
       "      <td>4</td>\n",
       "      <td>97</td>\n",
       "      <td>Common interview questions and answers | Rober...</td>\n",
       "      <td>https://www.roberthalf.com.sg/career-advice/in...</td>\n",
       "      <td>knowing what job interview questions you might...</td>\n",
       "      <td>0</td>\n",
       "      <td>0.1429</td>\n",
       "      <td>0</td>\n",
       "      <td>0.1111</td>\n",
       "      <td>0</td>\n",
       "      <td>0.2500</td>\n",
       "      <td>22</td>\n",
       "      <td>40</td>\n",
       "      <td>0</td>\n",
       "      <td>0.0</td>\n",
       "      <td>4</td>\n",
       "    </tr>\n",
       "    <tr>\n",
       "      <th>4</th>\n",
       "      <td>5</td>\n",
       "      <td>5</td>\n",
       "      <td>96</td>\n",
       "      <td>10 Common Interview Questions and How to ... -...</td>\n",
       "      <td>http://gradsingapore.com/graduate-careers-advi...</td>\n",
       "      <td>don't be caught off guard in an interview try ...</td>\n",
       "      <td>0</td>\n",
       "      <td>0.2000</td>\n",
       "      <td>0</td>\n",
       "      <td>0.0714</td>\n",
       "      <td>0</td>\n",
       "      <td>0.1429</td>\n",
       "      <td>24</td>\n",
       "      <td>33</td>\n",
       "      <td>2</td>\n",
       "      <td>2.0</td>\n",
       "      <td>6</td>\n",
       "    </tr>\n",
       "  </tbody>\n",
       "</table>\n",
       "</div>"
      ],
      "text/plain": [
       "   ID  Position  ReverseRank  \\\n",
       "0   1         1          100   \n",
       "1   2         2           99   \n",
       "2   3         3           98   \n",
       "3   4         4           97   \n",
       "4   5         5           96   \n",
       "\n",
       "                                               Title  \\\n",
       "0  Job Interview Questions Singapore: Answers to ...   \n",
       "1         Job Interview Questions - Hudson Singapore   \n",
       "2  20 tips that will help you ace your next job i...   \n",
       "3  Common interview questions and answers | Rober...   \n",
       "4  10 Common Interview Questions and How to ... -...   \n",
       "\n",
       "                                                 URL  \\\n",
       "0  https://blog.carousell.com/job-interview-quest...   \n",
       "1  https://www.hudson.sg/career-advice/job-interv...   \n",
       "2  http://www.asiaone.com/business/20-tips-will-h...   \n",
       "3  https://www.roberthalf.com.sg/career-advice/in...   \n",
       "4  http://gradsingapore.com/graduate-careers-advi...   \n",
       "\n",
       "                                                Meta  TitleFlag  TitleDensity  \\\n",
       "0  sep 19 2017 common job interview questions in ...          0        0.3000   \n",
       "1  discover the five most common job interview qu...          0        0.6000   \n",
       "2  oct 8 2017 with singapore's unemployment rate ...          0        0.2143   \n",
       "3  knowing what job interview questions you might...          0        0.1429   \n",
       "4  don't be caught off guard in an interview try ...          0        0.2000   \n",
       "\n",
       "   URLFlag  URLDensity  MetaFlag  MetaDensity  PageAuthority  DomainAuthority  \\\n",
       "0        0      0.4286         0       0.1017             32               60   \n",
       "1        0      0.2500         0       0.2174             19               30   \n",
       "2        0      0.2143         0       0.0645             40               80   \n",
       "3        0      0.1111         0       0.2500             22               40   \n",
       "4        0      0.0714         0       0.1429             24               33   \n",
       "\n",
       "   LinkingDomain  InboundLink  RankingKeyword  \n",
       "0              4          5.0               4  \n",
       "1              0          0.0               9  \n",
       "2              3        400.0               0  \n",
       "3              0          0.0               4  \n",
       "4              2          2.0               6  "
      ]
     },
     "execution_count": 4,
     "metadata": {},
     "output_type": "execute_result"
    }
   ],
   "source": [
    "# Load the training and test datasets and print the first 5 rows of the training dataset.\n",
    "# Please use pd.read_csv(\"data.csv\") to load your data\n",
    "# Run this cell\n",
    "\n",
    "feature_col =[\"TitleFlag\", \"TitleDensity\", \"URLFlag\", \"URLDensity\", \"MetaFlag\", \"MetaDensity\", \"PageAuthority\", \"DomainAuthority\", \"LinkingDomain\", \"InboundLink\" , \"RankingKeyword\" ]\n",
    "train_data = pd.read_csv(\"Train_dta.csv\") \n",
    "test_data = pd.read_csv(\"Test_dta.csv\") \n",
    " \n",
    "# print the first 5 rows of the training dataset\n",
    "train_data.head(5)\n"
   ]
  },
  {
   "cell_type": "markdown",
   "metadata": {},
   "source": [
    "There are many columns in the data, e.g., title, url and meta desciptions. The detailed information about each column is in the appendix. We will only use: “TitleFlag”, “TitleDensity”, “URLFlag”, “URLDensity”, “MetaFlag”, “MetaDensity”, “PageAuthority”, “DomainAuthority”, “LinkingDomain”, “InboundLink” and “RankingKeyword” as features, **\"ReverseRank\" as label**."
   ]
  },
  {
   "cell_type": "code",
   "execution_count": 5,
   "metadata": {},
   "outputs": [],
   "source": [
    "# Split feature and label\n",
    "# Run this cell\n",
    "\n",
    "train_feature = pd.read_csv(\"Train_dta.csv\",usecols=feature_col)\n",
    "train_label = pd.read_csv(\"Train_dta.csv\",usecols=[\"ReverseRank\"]) \n",
    "\n",
    "test_feature = pd.read_csv(\"Test_dta.csv\",usecols=feature_col)\n",
    "test_label = pd.read_csv(\"Test_dta.csv\",usecols=[\"ReverseRank\"]) \n"
   ]
  },
  {
   "cell_type": "code",
   "execution_count": 6,
   "metadata": {},
   "outputs": [
    {
     "name": "stdout",
     "output_type": "stream",
     "text": [
      "(1372, 11) (1372, 1) (588, 11) (588, 1)\n"
     ]
    }
   ],
   "source": [
    "# Run this cell\n",
    "print(train_feature.shape,\n",
    "      train_label.shape,\n",
    "      test_feature.shape,\n",
    "      test_label.shape)"
   ]
  },
  {
   "cell_type": "code",
   "execution_count": 7,
   "metadata": {},
   "outputs": [],
   "source": [
    "# Run this cell\n",
    "# This serves as your data input\n",
    "X_train = train_feature # trainig feature, as a dataframe in pandas\n",
    "X_test = test_feature # test feature, as a df \n",
    "\n",
    "y_train = train_label.values # training label, as a numpy array\n",
    "y_test = test_label.values # test label, as a np array\n"
   ]
  },
  {
   "cell_type": "markdown",
   "metadata": {},
   "source": [
    "To avoid potential issues of shallow copy and deep copy. Try to load data separately for each problem, although they may be the same."
   ]
  },
  {
   "cell_type": "markdown",
   "metadata": {},
   "source": [
    "## Problem 1 Pointwise Rank. (35 points)"
   ]
  },
  {
   "cell_type": "markdown",
   "metadata": {},
   "source": [
    "###  Q1. Linear Regression (10 points)\n",
    "Please use the training dataset to fit a linear regression with all variables aforementioned. Please use the trained linear regression model to predict the rank in the test dataset and **report the root mean square error (RMSE) of the prediction**, i.e., $\\sqrt{\\frac{1}{n}\\sum_{i=1}^n(y_i-\\hat{y}_i)^2}$, where $n$ is the total number of data points in the test dataset, $y_i$ is the true value of the outcome variable in the test dataset, and $\\hat{y}_i$ is the model prediction of the outcome variable. (5 points)\n",
    "\n",
    "Reference: https://www.statsmodels.org/dev/examples/notebooks/generated/ols.html"
   ]
  },
  {
   "cell_type": "code",
   "execution_count": 8,
   "metadata": {},
   "outputs": [],
   "source": [
    "# Data Input\n",
    "feature_col =[\"TitleFlag\", \"TitleDensity\", \"URLFlag\", \"URLDensity\", \"MetaFlag\", \"MetaDensity\", \"PageAuthority\", \"DomainAuthority\", \"LinkingDomain\", \"InboundLink\" , \"RankingKeyword\" ]\n",
    "train_data = pd.read_csv(\"Train_dta.csv\") \n",
    "test_data = pd.read_csv(\"Test_dta.csv\") \n",
    "\n",
    "train_feature = pd.read_csv(\"Train_dta.csv\",usecols=feature_col)\n",
    "train_label = pd.read_csv(\"Train_dta.csv\",usecols=[\"ReverseRank\"]) \n",
    "\n",
    "test_feature = pd.read_csv(\"Test_dta.csv\",usecols=feature_col)\n",
    "test_label = pd.read_csv(\"Test_dta.csv\",usecols=[\"ReverseRank\"]) \n",
    "\n",
    "X_train = train_feature # trainig feature, as a dataframe in pandas\n",
    "X_test = test_feature # test feature, as a df \n",
    "\n",
    "y_train = train_label.values # training label, as a numpy array\n",
    "y_test = test_label.values # test label, as a np array\n"
   ]
  },
  {
   "cell_type": "code",
   "execution_count": 24,
   "metadata": {},
   "outputs": [],
   "source": [
    "# Model: USE sm.OLS(y_train,X_train)\n",
    "# Fit: USE model.fit()\n",
    "# y_train is a numpy array from train_label, X_train is a pandas dataframe from train_feature.\n",
    "# Remember to add an intercept by sm.add_constant() to both train and test data!\n",
    "\n",
    "# Add an intercept to the model\n",
    "X_train = sm.add_constant(X_train)\n",
    "\n",
    "model = sm.OLS(y_train, X_train)\n",
    "results = model.fit()"
   ]
  },
  {
   "cell_type": "code",
   "execution_count": 25,
   "metadata": {},
   "outputs": [
    {
     "name": "stdout",
     "output_type": "stream",
     "text": [
      "                            OLS Regression Results                            \n",
      "==============================================================================\n",
      "Dep. Variable:                      y   R-squared:                       0.104\n",
      "Model:                            OLS   Adj. R-squared:                  0.097\n",
      "Method:                 Least Squares   F-statistic:                     14.39\n",
      "Date:                Fri, 27 Oct 2023   Prob (F-statistic):           1.33e-26\n",
      "Time:                        20:30:37   Log-Likelihood:                -6457.1\n",
      "No. Observations:                1372   AIC:                         1.294e+04\n",
      "Df Residuals:                    1360   BIC:                         1.300e+04\n",
      "Df Model:                          11                                         \n",
      "Covariance Type:            nonrobust                                         \n",
      "===================================================================================\n",
      "                      coef    std err          t      P>|t|      [0.025      0.975]\n",
      "-----------------------------------------------------------------------------------\n",
      "const              32.4841      3.072     10.575      0.000      26.458      38.510\n",
      "TitleFlag          11.0206      4.107      2.683      0.007       2.964      19.078\n",
      "TitleDensity       15.7273      5.382      2.922      0.004       5.168      26.286\n",
      "URLFlag            -2.5156      4.326     -0.581      0.561     -11.003       5.972\n",
      "URLDensity         34.8241      7.117      4.893      0.000      20.862      48.786\n",
      "MetaFlag           -3.3674      2.005     -1.680      0.093      -7.300       0.565\n",
      "MetaDensity        18.6692     11.354      1.644      0.100      -3.605      40.943\n",
      "PageAuthority       0.0907      0.123      0.737      0.461      -0.151       0.332\n",
      "DomainAuthority     0.1167      0.055      2.122      0.034       0.009       0.225\n",
      "LinkingDomain      -0.0012      0.001     -1.342      0.180      -0.003       0.001\n",
      "InboundLink     -1.855e-05   2.88e-05     -0.645      0.519    -7.5e-05    3.79e-05\n",
      "RankingKeyword     -0.0043      0.003     -1.342      0.180      -0.011       0.002\n",
      "==============================================================================\n",
      "Omnibus:                      294.603   Durbin-Watson:                   0.264\n",
      "Prob(Omnibus):                  0.000   Jarque-Bera (JB):               58.136\n",
      "Skew:                          -0.077   Prob(JB):                     2.38e-13\n",
      "Kurtosis:                       2.004   Cond. No.                     7.44e+05\n",
      "==============================================================================\n",
      "\n",
      "Notes:\n",
      "[1] Standard Errors assume that the covariance matrix of the errors is correctly specified.\n",
      "[2] The condition number is large, 7.44e+05. This might indicate that there are\n",
      "strong multicollinearity or other numerical problems.\n"
     ]
    }
   ],
   "source": [
    "# Print model summary by model.summary()\n",
    "print(results.summary())"
   ]
  },
  {
   "cell_type": "code",
   "execution_count": 26,
   "metadata": {},
   "outputs": [],
   "source": [
    "# Make prediction \n",
    "X_test = sm.add_constant(X_test)\n",
    "y_pred = results.predict(X_test)"
   ]
  },
  {
   "cell_type": "code",
   "execution_count": 28,
   "metadata": {},
   "outputs": [
    {
     "name": "stdout",
     "output_type": "stream",
     "text": [
      "RMSE: 37.15072457399578\n"
     ]
    }
   ],
   "source": [
    "# Print RMSE, y_test is a numpy array from test_label, y_pred is a numpy array from your model predictions\n",
    "\n",
    "rmse = np.sqrt(mean_squared_error(y_test, y_pred))\n",
    "print(\"RMSE:\", rmse)"
   ]
  },
  {
   "cell_type": "markdown",
   "metadata": {},
   "source": [
    "**Pick the most statistically significant variable and interpret its estimated beta coefficient.** (5 points)"
   ]
  },
  {
   "cell_type": "markdown",
   "metadata": {},
   "source": [
    "*ANSWER: HERE* <br>\n",
    "Most statistically significant variable: URLDensity <br>\n",
    "Interpretation of its estimated beta coefficient: On average, an increase in URLDensity by 1 unit leads to an expected 34.8241 unit increase in ReverseRank, ceteris paribus."
   ]
  },
  {
   "cell_type": "code",
   "execution_count": null,
   "metadata": {},
   "outputs": [],
   "source": []
  },
  {
   "cell_type": "markdown",
   "metadata": {},
   "source": [
    "### Q2. Logistic Regression (15 points)\n",
    "\n",
    "For the baseline logistic regression, it does not require an ordinal relationship among the levels of the outcome variable, e.g., level 1 does not necessarily imply superiority or inferiority compared with level 2. However, for ordinal variable, its levels can be ranked implying a higher value than other level, e.g., in the school grade, A is better than B. We will use **ordinal** logistic regression for this problem."
   ]
  },
  {
   "cell_type": "markdown",
   "metadata": {},
   "source": [
    "Please use the training dataset to fit an **ordinal** logistic regression model with all variables aforementioned. **Use the `ReverseRank` as the outcome variable**, that is apparently a ranked variable**. (5 points)\n",
    "\n",
    "Note that you may not be able to run ordinal logistic regression because the distributions of several variables are too skewed. You can use `new_variable = np.log(the_problematic_variable+1)` to **transform those variables in both training and testing data.** (5 points)\n",
    "\n",
    "Please use the trained ordinal logistic regression model to predict the rank in the test dataset. **Print the predicted rank on the test dataset and report the RMSE of the prediction.** （5 points） \n",
    "\n",
    "Reference: https://www.statsmodels.org/dev/examples/notebooks/generated/ordinal_regression.html.\n",
    "https://stats.oarc.ucla.edu/r/dae/ordinal-logistic-regression/. \n",
    "\n",
    "Remarks: You will find tons of useful materials about statistical modelling in UCLA website, even though mostly implemented with R or Stata."
   ]
  },
  {
   "cell_type": "code",
   "execution_count": 9,
   "metadata": {},
   "outputs": [],
   "source": [
    "# Data Input\n",
    "feature_col =[\"TitleFlag\", \"TitleDensity\", \"URLFlag\", \"URLDensity\", \"MetaFlag\", \"MetaDensity\", \"PageAuthority\", \"DomainAuthority\", \"LinkingDomain\", \"InboundLink\" , \"RankingKeyword\" ]\n",
    "train_data = pd.read_csv(\"Train_dta.csv\") \n",
    "test_data = pd.read_csv(\"Test_dta.csv\") \n",
    "\n",
    "train_feature = pd.read_csv(\"Train_dta.csv\",usecols=feature_col)\n",
    "train_label = pd.read_csv(\"Train_dta.csv\",usecols=[\"ReverseRank\"]) \n",
    "\n",
    "test_feature = pd.read_csv(\"Test_dta.csv\",usecols=feature_col)\n",
    "test_label = pd.read_csv(\"Test_dta.csv\",usecols=[\"ReverseRank\"]) \n",
    "\n",
    "X_train = train_feature # trainig feature, as a dataframe in pandas\n",
    "X_test = test_feature # test feature, as a df \n",
    "\n",
    "y_train = train_label.values # training label, as a numpy array\n",
    "y_test = test_label.values # test label, as a np array"
   ]
  },
  {
   "cell_type": "code",
   "execution_count": 10,
   "metadata": {},
   "outputs": [
    {
     "name": "stdout",
     "output_type": "stream",
     "text": [
      "TitleFlag           4.018238\n",
      "TitleDensity        0.755273\n",
      "URLFlag             4.343633\n",
      "URLDensity          0.872202\n",
      "MetaFlag            1.733323\n",
      "MetaDensity         1.122730\n",
      "PageAuthority       0.362187\n",
      "DomainAuthority     0.187663\n",
      "LinkingDomain      15.575515\n",
      "InboundLink        16.606262\n",
      "RankingKeyword     12.241945\n",
      "dtype: float64\n"
     ]
    }
   ],
   "source": [
    "# Adjust your input\n",
    "# Please specify which parts of data you do a log transformation on.\n",
    "# There are many ways to determine the skewness, \n",
    "# e.g., plotting the distribution, calling pandas.DataFrame.skew, etc.\n",
    "# As long as you provide reasons for the transformation, you will be awarded the points.\n",
    "\n",
    "skewness = train_feature.skew()\n",
    "print(skewness)"
   ]
  },
  {
   "cell_type": "code",
   "execution_count": 13,
   "metadata": {},
   "outputs": [],
   "source": [
    "# The following variables have very high skewedness: LinkingDomain,  InboundLink, RankingKeyword. I will make a copy of the original dataset and transform them\n",
    "\n",
    "train_data_trans = pd.read_csv(\"Train_dta.csv\") \n",
    "train_data_trans['LinkingDomain'] = np.log(train_data_trans['LinkingDomain'] + 1)\n",
    "train_data_trans['InboundLink'] = np.log(train_data_trans['InboundLink'] + 1)\n",
    "train_data_trans['RankingKeyword'] = np.log(train_data_trans['RankingKeyword'] + 1)\n",
    "\n",
    "test_data_trans = pd.read_csv(\"Test_dta.csv\") \n",
    "test_data_trans['LinkingDomain'] = np.log(test_data_trans['LinkingDomain'] + 1)\n",
    "test_data_trans['InboundLink'] = np.log(test_data_trans['InboundLink'] + 1)\n",
    "test_data_trans['RankingKeyword'] = np.log(test_data_trans['RankingKeyword'] + 1)\n",
    "\n",
    "train_feature_trans = train_data_trans[[\"TitleFlag\", \"TitleDensity\", \"URLFlag\", \"URLDensity\", \"MetaFlag\", \"MetaDensity\", \"PageAuthority\", \"DomainAuthority\", \"LinkingDomain\", \"InboundLink\" , \"RankingKeyword\"]]\n",
    "train_label_trans = train_data_trans[\"ReverseRank\"]\n",
    "\n",
    "test_feature_trans = test_data_trans[[\"TitleFlag\", \"TitleDensity\", \"URLFlag\", \"URLDensity\", \"MetaFlag\", \"MetaDensity\", \"PageAuthority\", \"DomainAuthority\", \"LinkingDomain\", \"InboundLink\" , \"RankingKeyword\"]]\n",
    "test_label_trans = test_data_trans[\"ReverseRank\"]\n",
    "\n",
    "X_train_trans = train_feature_trans # trainig feature, as a dataframe in pandas\n",
    "X_test_trans = test_feature_trans # test feature, as a df \n",
    "\n",
    "y_train_trans = train_label_trans.values # training label, as a numpy array\n",
    "y_test_trans = test_label_trans.values # test label, as a np array"
   ]
  },
  {
   "cell_type": "code",
   "execution_count": 14,
   "metadata": {},
   "outputs": [],
   "source": [
    "# Model: use OrderedModel(y_train, X_train, distr='logit')\n",
    "# Fit: use model.fit(method='bfgs', disp=False)\n",
    "# y_train is a numpy array from train_label, X_train is a pandas dataframe from train_feature.\n",
    "\n",
    "ord_logreg = OrderedModel(y_train_trans, X_train_trans, distr = 'logit')\n",
    "ord_logreg_fit = ord_logreg.fit(method='bfgs', disp=False)"
   ]
  },
  {
   "cell_type": "code",
   "execution_count": 15,
   "metadata": {},
   "outputs": [
    {
     "name": "stdout",
     "output_type": "stream",
     "text": [
      "                             OrderedModel Results                             \n",
      "==============================================================================\n",
      "Dep. Variable:                      y   Log-Likelihood:                -6220.1\n",
      "Model:                   OrderedModel   AIC:                         1.266e+04\n",
      "Method:            Maximum Likelihood   BIC:                         1.322e+04\n",
      "Date:                Mon, 30 Oct 2023                                         \n",
      "Time:                        22:35:42                                         \n",
      "No. Observations:                1372                                         \n",
      "Df Residuals:                    1264                                         \n",
      "Df Model:                          11                                         \n",
      "===================================================================================\n",
      "                      coef    std err          z      P>|z|      [0.025      0.975]\n",
      "-----------------------------------------------------------------------------------\n",
      "TitleFlag           0.8615      0.275      3.129      0.002       0.322       1.401\n",
      "TitleDensity        1.0371      0.352      2.948      0.003       0.348       1.727\n",
      "URLFlag            -0.1407      0.286     -0.492      0.623      -0.701       0.420\n",
      "URLDensity          2.2298      0.477      4.674      0.000       1.295       3.165\n",
      "MetaFlag           -0.1992      0.131     -1.516      0.130      -0.457       0.058\n",
      "MetaDensity         1.4779      0.733      2.015      0.044       0.040       2.915\n",
      "PageAuthority      -0.0006      0.020     -0.030      0.976      -0.040       0.039\n",
      "DomainAuthority     0.0076      0.008      0.952      0.341      -0.008       0.023\n",
      "LinkingDomain      -0.0072      0.105     -0.069      0.945      -0.212       0.198\n",
      "InboundLink        -0.0381      0.053     -0.713      0.476      -0.143       0.067\n",
      "RankingKeyword      0.0714      0.036      1.977      0.048       0.001       0.142\n",
      "3/4                -3.6077      0.342    -10.547      0.000      -4.278      -2.937\n",
      "4/5                -0.3480      0.271     -1.284      0.199      -0.879       0.183\n",
      "5/6                -0.8724      0.268     -3.260      0.001      -1.397      -0.348\n",
      "6/7                -1.2048      0.267     -4.517      0.000      -1.728      -0.682\n",
      "7/8                -1.4487      0.266     -5.438      0.000      -1.971      -0.927\n",
      "8/9                -1.6396      0.266     -6.159      0.000      -2.161      -1.118\n",
      "9/10               -1.7931      0.266     -6.740      0.000      -2.315      -1.272\n",
      "10/11              -1.9197      0.266     -7.219      0.000      -2.441      -1.398\n",
      "11/12              -2.0318      0.266     -7.642      0.000      -2.553      -1.511\n",
      "12/13              -2.1322      0.266     -8.020      0.000      -2.653      -1.611\n",
      "13/14              -2.2208      0.266     -8.353      0.000      -2.742      -1.700\n",
      "14/15              -2.2994      0.266     -8.649      0.000      -2.820      -1.778\n",
      "15/16              -2.3672      0.266     -8.905      0.000      -2.888      -1.846\n",
      "16/17              -2.4304      0.266     -9.143      0.000      -2.951      -1.909\n",
      "17/18              -2.4887      0.266     -9.363      0.000      -3.010      -1.968\n",
      "18/19              -2.5419      0.266     -9.563      0.000      -3.063      -2.021\n",
      "19/20              -2.5942      0.266     -9.759      0.000      -3.115      -2.073\n",
      "20/21              -2.6411      0.266     -9.935      0.000      -3.162      -2.120\n",
      "21/22              -2.6819      0.266    -10.089      0.000      -3.203      -2.161\n",
      "22/23              -2.7201      0.266    -10.233      0.000      -3.241      -2.199\n",
      "23/24              -2.7565      0.266    -10.369      0.000      -3.278      -2.235\n",
      "24/25              -2.7908      0.266    -10.498      0.000      -3.312      -2.270\n",
      "25/26              -2.8204      0.266    -10.609      0.000      -3.341      -2.299\n",
      "26/27              -2.8469      0.266    -10.709      0.000      -3.368      -2.326\n",
      "27/28              -2.8728      0.266    -10.807      0.000      -3.394      -2.352\n",
      "28/29              -2.8960      0.266    -10.894      0.000      -3.417      -2.375\n",
      "29/30              -2.9156      0.266    -10.968      0.000      -3.437      -2.395\n",
      "30/31              -2.9339      0.266    -11.037      0.000      -3.455      -2.413\n",
      "31/32              -2.9545      0.266    -11.114      0.000      -3.476      -2.434\n",
      "32/33              -2.9747      0.266    -11.190      0.000      -3.496      -2.454\n",
      "33/34              -2.9904      0.266    -11.249      0.000      -3.511      -2.469\n",
      "34/35              -3.0049      0.266    -11.303      0.000      -3.526      -2.484\n",
      "35/36              -3.0185      0.266    -11.354      0.000      -3.540      -2.497\n",
      "36/37              -3.0301      0.266    -11.398      0.000      -3.551      -2.509\n",
      "37/38              -3.0416      0.266    -11.441      0.000      -3.563      -2.521\n",
      "38/39              -3.0556      0.266    -11.493      0.000      -3.577      -2.534\n",
      "39/40              -3.0677      0.266    -11.538      0.000      -3.589      -2.547\n",
      "40/41              -3.0764      0.266    -11.571      0.000      -3.598      -2.555\n",
      "41/42              -3.0853      0.266    -11.604      0.000      -3.606      -2.564\n",
      "42/43              -3.0946      0.266    -11.639      0.000      -3.616      -2.573\n",
      "43/44              -3.1030      0.266    -11.670      0.000      -3.624      -2.582\n",
      "44/45              -3.1067      0.266    -11.684      0.000      -3.628      -2.586\n",
      "45/46              -3.1089      0.266    -11.693      0.000      -3.630      -2.588\n",
      "46/47              -3.1111      0.266    -11.701      0.000      -3.632      -2.590\n",
      "47/48              -3.1148      0.266    -11.715      0.000      -3.636      -2.594\n",
      "48/49              -3.1221      0.266    -11.742      0.000      -3.643      -2.601\n",
      "49/50              -3.1255      0.266    -11.754      0.000      -3.647      -2.604\n",
      "50/51              -3.1250      0.266    -11.753      0.000      -3.646      -2.604\n",
      "51/52              -3.1280      0.266    -11.764      0.000      -3.649      -2.607\n",
      "52/53              -3.1314      0.266    -11.776      0.000      -3.653      -2.610\n",
      "53/54              -3.1338      0.266    -11.785      0.000      -3.655      -2.613\n",
      "54/55              -3.1342      0.266    -11.787      0.000      -3.655      -2.613\n",
      "55/56              -3.1334      0.266    -11.783      0.000      -3.655      -2.612\n",
      "56/57              -3.1319      0.266    -11.777      0.000      -3.653      -2.611\n",
      "57/58              -3.1276      0.266    -11.762      0.000      -3.649      -2.606\n",
      "58/59              -3.1210      0.266    -11.737      0.000      -3.642      -2.600\n",
      "59/60              -3.1132      0.266    -11.708      0.000      -3.634      -2.592\n",
      "60/61              -3.1044      0.266    -11.675      0.000      -3.626      -2.583\n",
      "61/62              -3.0947      0.266    -11.638      0.000      -3.616      -2.574\n",
      "62/63              -3.0845      0.266    -11.600      0.000      -3.606      -2.563\n",
      "63/64              -3.0736      0.266    -11.559      0.000      -3.595      -2.552\n",
      "64/65              -3.0648      0.266    -11.526      0.000      -3.586      -2.544\n",
      "65/66              -3.0530      0.266    -11.482      0.000      -3.574      -2.532\n",
      "66/67              -3.0387      0.266    -11.428      0.000      -3.560      -2.518\n",
      "67/68              -3.0266      0.266    -11.383      0.000      -3.548      -2.505\n",
      "68/69              -3.0125      0.266    -11.330      0.000      -3.534      -2.491\n",
      "69/70              -2.9972      0.266    -11.273      0.000      -3.518      -2.476\n",
      "70/71              -2.9787      0.266    -11.204      0.000      -3.500      -2.458\n",
      "71/72              -2.9553      0.266    -11.116      0.000      -3.476      -2.434\n",
      "72/73              -2.9310      0.266    -11.025      0.000      -3.452      -2.410\n",
      "73/74              -2.9078      0.266    -10.938      0.000      -3.429      -2.387\n",
      "74/75              -2.8858      0.266    -10.856      0.000      -3.407      -2.365\n",
      "75/76              -2.8633      0.266    -10.771      0.000      -3.384      -2.342\n",
      "76/77              -2.8368      0.266    -10.672      0.000      -3.358      -2.316\n",
      "77/78              -2.8067      0.266    -10.560      0.000      -3.328      -2.286\n",
      "78/79              -2.7773      0.266    -10.449      0.000      -3.298      -2.256\n",
      "79/80              -2.7436      0.266    -10.322      0.000      -3.265      -2.223\n",
      "80/81              -2.7058      0.266    -10.181      0.000      -3.227      -2.185\n",
      "81/82              -2.6692      0.266    -10.044      0.000      -3.190      -2.148\n",
      "82/83              -2.6338      0.266     -9.911      0.000      -3.155      -2.113\n",
      "83/84              -2.5922      0.266     -9.755      0.000      -3.113      -2.071\n",
      "84/85              -2.5425      0.266     -9.569      0.000      -3.063      -2.022\n",
      "85/86              -2.4966      0.266     -9.397      0.000      -3.017      -1.976\n",
      "86/87              -2.4489      0.266     -9.217      0.000      -2.970      -1.928\n",
      "87/88              -2.3910      0.266     -9.000      0.000      -2.912      -1.870\n",
      "88/89              -2.3270      0.266     -8.760      0.000      -2.848      -1.806\n",
      "89/90              -2.2569      0.266     -8.497      0.000      -2.778      -1.736\n",
      "90/91              -2.1808      0.266     -8.211      0.000      -2.701      -1.660\n",
      "91/92              -2.1000      0.266     -7.906      0.000      -2.621      -1.579\n",
      "92/93              -2.0055      0.266     -7.549      0.000      -2.526      -1.485\n",
      "93/94              -1.8910      0.266     -7.119      0.000      -2.412      -1.370\n",
      "94/95              -1.7567      0.266     -6.614      0.000      -2.277      -1.236\n",
      "95/96              -1.6018      0.266     -6.031      0.000      -2.122      -1.081\n",
      "96/97              -1.4186      0.266     -5.338      0.000      -1.939      -0.898\n",
      "97/98              -1.1834      0.266     -4.447      0.000      -1.705      -0.662\n",
      "98/99              -0.8590      0.267     -3.217      0.001      -1.382      -0.336\n",
      "99/100             -0.3407      0.271     -1.259      0.208      -0.871       0.190\n",
      "===================================================================================\n"
     ]
    }
   ],
   "source": [
    "# Print model summary by model.summary()\n",
    "print(ord_logreg_fit.summary())"
   ]
  },
  {
   "cell_type": "code",
   "execution_count": 35,
   "metadata": {},
   "outputs": [],
   "source": [
    "# Make prediction: assume the predicted output of this model is y_pred, \n",
    "# for this question, you need to do y_pred.argmax(1)+3 to get the real output.\n",
    "# Please refer to the reference above for how to make prediction properly.\n",
    "\n",
    "predicted_probs = ord_logreg_fit.predict(X_test_trans)\n",
    "\n",
    "# Finding the category with the maximum probability\n",
    "ord_logreg_pred = np.argmax(predicted_probs, axis=1) + 3"
   ]
  },
  {
   "cell_type": "code",
   "execution_count": 36,
   "metadata": {},
   "outputs": [
    {
     "name": "stdout",
     "output_type": "stream",
     "text": [
      "37.61908529232592\n"
     ]
    }
   ],
   "source": [
    "# Print RMSE, y_test is a numpy array from test_label, y_pred is a numpy array from your model prediction\n",
    "print(np.sqrt(mean_squared_error(y_test_trans, ord_logreg_pred)))  "
   ]
  },
  {
   "cell_type": "markdown",
   "metadata": {},
   "source": [
    "Pick the most statistically significant variable and interpret its estimated beta coefficient. (5 points)"
   ]
  },
  {
   "cell_type": "markdown",
   "metadata": {},
   "source": [
    "*ANSWER: HERE*\n"
   ]
  },
  {
   "cell_type": "markdown",
   "metadata": {},
   "source": [
    "### Q3. Decision Tree (5 points)\n",
    "Please use the training dataset to fit a decision tree model with all variables aforementioned. **Use the `ReverseRank` as the target variable**. \n"
   ]
  },
  {
   "cell_type": "code",
   "execution_count": 30,
   "metadata": {},
   "outputs": [],
   "source": [
    "# Data Input\n",
    "feature_col =[\"TitleFlag\", \"TitleDensity\", \"URLFlag\", \"URLDensity\", \"MetaFlag\", \"MetaDensity\", \"PageAuthority\", \"DomainAuthority\", \"LinkingDomain\", \"InboundLink\" , \"RankingKeyword\" ]\n",
    "train_data = pd.read_csv(\"Train_dta.csv\") \n",
    "test_data = pd.read_csv(\"Test_dta.csv\") \n",
    "\n",
    "train_feature = pd.read_csv(\"Train_dta.csv\",usecols=feature_col)\n",
    "train_label = pd.read_csv(\"Train_dta.csv\",usecols=[\"ReverseRank\"]) \n",
    "\n",
    "test_feature = pd.read_csv(\"Test_dta.csv\",usecols=feature_col)\n",
    "test_label = pd.read_csv(\"Test_dta.csv\",usecols=[\"ReverseRank\"]) \n",
    "\n",
    "X_train = train_feature # trainig feature, as a dataframe in pandas\n",
    "X_test = test_feature # test feature, as a df \n",
    "\n",
    "y_train = train_label.values # training label, as a numpy array\n",
    "y_test = test_label.values # test label, as a np array"
   ]
  },
  {
   "cell_type": "code",
   "execution_count": 32,
   "metadata": {},
   "outputs": [],
   "source": [
    "# Model & Fit: USE DecisionTreeClassifier(random_state=0).fit(...)\n",
    "# y_train is a numpy array from train_label, X_train is a pandas dataframe from train_feature.\n",
    "# Make prediction \n",
    "\n",
    "dt_model = DecisionTreeRegressor(random_state=123).fit(X_train, y_train)"
   ]
  },
  {
   "cell_type": "code",
   "execution_count": 33,
   "metadata": {},
   "outputs": [
    {
     "name": "stdout",
     "output_type": "stream",
     "text": [
      "38.91108169804027\n"
     ]
    }
   ],
   "source": [
    "# Print RMSE, y_test is a numpy array from test_label, y_pred is a numpy array from your model prediction\n",
    "dt_model_pred = dt_model.predict(X_test)\n",
    "\n",
    "print(np.sqrt(mean_squared_error(y_test, dt_model_pred)))"
   ]
  },
  {
   "cell_type": "markdown",
   "metadata": {},
   "source": [
    "###  Q4. Random Forest (5 points)\n",
    "Please use the training dataset to fit a random forest model with all variables aforementioned. **Use the `ReverseRank` as the target variable**. \n"
   ]
  },
  {
   "cell_type": "code",
   "execution_count": 34,
   "metadata": {},
   "outputs": [],
   "source": [
    "# Data Input \n",
    "# Data Input\n",
    "feature_col =[\"TitleFlag\", \"TitleDensity\", \"URLFlag\", \"URLDensity\", \"MetaFlag\", \"MetaDensity\", \"PageAuthority\", \"DomainAuthority\", \"LinkingDomain\", \"InboundLink\" , \"RankingKeyword\" ]\n",
    "train_data = pd.read_csv(\"Train_dta.csv\") \n",
    "test_data = pd.read_csv(\"Test_dta.csv\") \n",
    "\n",
    "train_feature = pd.read_csv(\"Train_dta.csv\",usecols=feature_col)\n",
    "train_label = pd.read_csv(\"Train_dta.csv\",usecols=[\"ReverseRank\"]) \n",
    "\n",
    "test_feature = pd.read_csv(\"Test_dta.csv\",usecols=feature_col)\n",
    "test_label = pd.read_csv(\"Test_dta.csv\",usecols=[\"ReverseRank\"]) \n",
    "\n",
    "X_train = train_feature # trainig feature, as a dataframe in pandas\n",
    "X_test = test_feature # test feature, as a df \n",
    "\n",
    "y_train = train_label.values # training label, as a numpy array\n",
    "y_test = test_label.values # test label, as a np array"
   ]
  },
  {
   "cell_type": "code",
   "execution_count": 38,
   "metadata": {},
   "outputs": [],
   "source": [
    "# Model & Fit: USE RandomForestRegressor(random_state=0).fit(...)\n",
    "# y_train is a numpy array from train_label, X_train is a pandas dataframe from train_feature.\n",
    "# Make prediction \n",
    "\n",
    "# convert column vector y to 1d array\n",
    "y_train_flattened = y_train.flatten()\n",
    "\n",
    "rf_model =  RandomForestRegressor(random_state=0).fit(X_train, y_train_flattened)\n",
    "\n",
    "rf_pred = rf_model.predict(X_test)"
   ]
  },
  {
   "cell_type": "code",
   "execution_count": 39,
   "metadata": {},
   "outputs": [
    {
     "name": "stdout",
     "output_type": "stream",
     "text": [
      "26.558634293008303\n"
     ]
    }
   ],
   "source": [
    "# Print RMSE, y_test is a numpy array from test_label, y_pred is a numpy array from your model prediction\n",
    "print(np.sqrt(mean_squared_error(y_test, rf_pred)))"
   ]
  },
  {
   "cell_type": "markdown",
   "metadata": {},
   "source": [
    "## Problem 2. Pairwise Rank with `xgboost` (35 points)\n",
    "Please use the training dataset to fit an XGboost model with all variables aforementioned. **Use the `ReverseRank` as the target variable**. \n",
    "\n",
    "Show the feature importance plot. Use \"Gain\" for `measure` in the importance plot. \n",
    "\n",
    "For the XGboost prediction, please interpret the importance value of the most important variable. Please use the trained XGboost model to predict the rank in the test dataset and report the RMSE of the prediction. \n",
    "\n",
    "Reference: https://xgboost.readthedocs.io/en/latest/python/index.html"
   ]
  },
  {
   "cell_type": "code",
   "execution_count": 3,
   "metadata": {},
   "outputs": [],
   "source": [
    "# Data Input\n",
    "feature_col =[\"TitleFlag\", \"TitleDensity\", \"URLFlag\", \"URLDensity\", \"MetaFlag\", \"MetaDensity\", \"PageAuthority\", \"DomainAuthority\", \"LinkingDomain\", \"InboundLink\" , \"RankingKeyword\" ]\n",
    "train_data = pd.read_csv(\"Train_dta.csv\") \n",
    "test_data = pd.read_csv(\"Test_dta.csv\") \n",
    "\n",
    "train_feature = pd.read_csv(\"Train_dta.csv\",usecols=feature_col)\n",
    "train_label = pd.read_csv(\"Train_dta.csv\",usecols=[\"ReverseRank\"]) \n",
    "\n",
    "test_feature = pd.read_csv(\"Test_dta.csv\",usecols=feature_col)\n",
    "test_label = pd.read_csv(\"Test_dta.csv\",usecols=[\"ReverseRank\"]) \n",
    "\n",
    "X_train = train_feature # trainig feature, as a dataframe in pandas\n",
    "X_test = test_feature # test feature, as a df \n",
    "\n",
    "y_train = train_label.values # training label, as a numpy array\n",
    "y_test = test_label.values # test label, as a np array"
   ]
  },
  {
   "cell_type": "markdown",
   "metadata": {},
   "source": [
    "### Q1. Use `reg:linear` for `objective` and `rmse` for `eval_metric`. (10 points)\n"
   ]
  },
  {
   "cell_type": "code",
   "execution_count": 9,
   "metadata": {},
   "outputs": [],
   "source": [
    "# Model and Parameter Setting \n",
    "# Use xgb.XGBRegressor\n",
    "# Use parameters below first and you can adjust it later.\n",
    "# reg = xgb.XGBRegressor(max_depth = 6, \n",
    "#                        eta = 0.1, \n",
    "#                        gamma = 0.1,\n",
    "#                        subsample = 0.8,\n",
    "#                        colsample_bytree = 0.8,\n",
    "#                        alpha = 0.5,\n",
    "#                        objective = \"reg:linear\",\n",
    "#                        eval_metric = \"rmse\",\n",
    "#                        seed = 1)\n",
    "\n",
    "reg = xgb.XGBRegressor(max_depth = 6, \n",
    "                       eta = 0.1, \n",
    "                       gamma = 0.1,\n",
    "                       subsample = 0.8,\n",
    "                       colsample_bytree = 0.8,\n",
    "                       alpha = 0.5,\n",
    "                       objective = \"reg:linear\",\n",
    "                       eval_metric = \"rmse\")"
   ]
  },
  {
   "cell_type": "code",
   "execution_count": 10,
   "metadata": {},
   "outputs": [
    {
     "name": "stderr",
     "output_type": "stream",
     "text": [
      "c:\\Users\\zandr\\AppData\\Local\\Programs\\Python\\Python311\\Lib\\site-packages\\xgboost\\core.py:160: UserWarning: [10:12:59] WARNING: C:\\buildkite-agent\\builds\\buildkite-windows-cpu-autoscaling-group-i-07f6e447eee219473-1\\xgboost\\xgboost-ci-windows\\src\\objective\\regression_obj.cu:209: reg:linear is now deprecated in favor of reg:squarederror.\n",
      "  warnings.warn(smsg, UserWarning)\n"
     ]
    },
    {
     "data": {
      "text/html": [
       "<style>#sk-container-id-2 {color: black;}#sk-container-id-2 pre{padding: 0;}#sk-container-id-2 div.sk-toggleable {background-color: white;}#sk-container-id-2 label.sk-toggleable__label {cursor: pointer;display: block;width: 100%;margin-bottom: 0;padding: 0.3em;box-sizing: border-box;text-align: center;}#sk-container-id-2 label.sk-toggleable__label-arrow:before {content: \"▸\";float: left;margin-right: 0.25em;color: #696969;}#sk-container-id-2 label.sk-toggleable__label-arrow:hover:before {color: black;}#sk-container-id-2 div.sk-estimator:hover label.sk-toggleable__label-arrow:before {color: black;}#sk-container-id-2 div.sk-toggleable__content {max-height: 0;max-width: 0;overflow: hidden;text-align: left;background-color: #f0f8ff;}#sk-container-id-2 div.sk-toggleable__content pre {margin: 0.2em;color: black;border-radius: 0.25em;background-color: #f0f8ff;}#sk-container-id-2 input.sk-toggleable__control:checked~div.sk-toggleable__content {max-height: 200px;max-width: 100%;overflow: auto;}#sk-container-id-2 input.sk-toggleable__control:checked~label.sk-toggleable__label-arrow:before {content: \"▾\";}#sk-container-id-2 div.sk-estimator input.sk-toggleable__control:checked~label.sk-toggleable__label {background-color: #d4ebff;}#sk-container-id-2 div.sk-label input.sk-toggleable__control:checked~label.sk-toggleable__label {background-color: #d4ebff;}#sk-container-id-2 input.sk-hidden--visually {border: 0;clip: rect(1px 1px 1px 1px);clip: rect(1px, 1px, 1px, 1px);height: 1px;margin: -1px;overflow: hidden;padding: 0;position: absolute;width: 1px;}#sk-container-id-2 div.sk-estimator {font-family: monospace;background-color: #f0f8ff;border: 1px dotted black;border-radius: 0.25em;box-sizing: border-box;margin-bottom: 0.5em;}#sk-container-id-2 div.sk-estimator:hover {background-color: #d4ebff;}#sk-container-id-2 div.sk-parallel-item::after {content: \"\";width: 100%;border-bottom: 1px solid gray;flex-grow: 1;}#sk-container-id-2 div.sk-label:hover label.sk-toggleable__label {background-color: #d4ebff;}#sk-container-id-2 div.sk-serial::before {content: \"\";position: absolute;border-left: 1px solid gray;box-sizing: border-box;top: 0;bottom: 0;left: 50%;z-index: 0;}#sk-container-id-2 div.sk-serial {display: flex;flex-direction: column;align-items: center;background-color: white;padding-right: 0.2em;padding-left: 0.2em;position: relative;}#sk-container-id-2 div.sk-item {position: relative;z-index: 1;}#sk-container-id-2 div.sk-parallel {display: flex;align-items: stretch;justify-content: center;background-color: white;position: relative;}#sk-container-id-2 div.sk-item::before, #sk-container-id-2 div.sk-parallel-item::before {content: \"\";position: absolute;border-left: 1px solid gray;box-sizing: border-box;top: 0;bottom: 0;left: 50%;z-index: -1;}#sk-container-id-2 div.sk-parallel-item {display: flex;flex-direction: column;z-index: 1;position: relative;background-color: white;}#sk-container-id-2 div.sk-parallel-item:first-child::after {align-self: flex-end;width: 50%;}#sk-container-id-2 div.sk-parallel-item:last-child::after {align-self: flex-start;width: 50%;}#sk-container-id-2 div.sk-parallel-item:only-child::after {width: 0;}#sk-container-id-2 div.sk-dashed-wrapped {border: 1px dashed gray;margin: 0 0.4em 0.5em 0.4em;box-sizing: border-box;padding-bottom: 0.4em;background-color: white;}#sk-container-id-2 div.sk-label label {font-family: monospace;font-weight: bold;display: inline-block;line-height: 1.2em;}#sk-container-id-2 div.sk-label-container {text-align: center;}#sk-container-id-2 div.sk-container {/* jupyter's `normalize.less` sets `[hidden] { display: none; }` but bootstrap.min.css set `[hidden] { display: none !important; }` so we also need the `!important` here to be able to override the default hidden behavior on the sphinx rendered scikit-learn.org. See: https://github.com/scikit-learn/scikit-learn/issues/21755 */display: inline-block !important;position: relative;}#sk-container-id-2 div.sk-text-repr-fallback {display: none;}</style><div id=\"sk-container-id-2\" class=\"sk-top-container\"><div class=\"sk-text-repr-fallback\"><pre>XGBRegressor(alpha=0.5, base_score=None, booster=None, callbacks=None,\n",
       "             colsample_bylevel=None, colsample_bynode=None,\n",
       "             colsample_bytree=0.8, device=None, early_stopping_rounds=None,\n",
       "             enable_categorical=False, eta=0.1, eval_metric=&#x27;rmse&#x27;,\n",
       "             feature_types=None, gamma=0.1, grow_policy=None,\n",
       "             importance_type=None, interaction_constraints=None,\n",
       "             learning_rate=None, max_bin=None, max_cat_threshold=None,\n",
       "             max_cat_to_onehot=None, max_delta_step=None, max_depth=6,\n",
       "             max_leaves=None, min_child_weight=None, missing=nan,\n",
       "             monotone_constraints=None, multi_strategy=None, n_estimators=None,\n",
       "             n_jobs=None, ...)</pre><b>In a Jupyter environment, please rerun this cell to show the HTML representation or trust the notebook. <br />On GitHub, the HTML representation is unable to render, please try loading this page with nbviewer.org.</b></div><div class=\"sk-container\" hidden><div class=\"sk-item\"><div class=\"sk-estimator sk-toggleable\"><input class=\"sk-toggleable__control sk-hidden--visually\" id=\"sk-estimator-id-2\" type=\"checkbox\" checked><label for=\"sk-estimator-id-2\" class=\"sk-toggleable__label sk-toggleable__label-arrow\">XGBRegressor</label><div class=\"sk-toggleable__content\"><pre>XGBRegressor(alpha=0.5, base_score=None, booster=None, callbacks=None,\n",
       "             colsample_bylevel=None, colsample_bynode=None,\n",
       "             colsample_bytree=0.8, device=None, early_stopping_rounds=None,\n",
       "             enable_categorical=False, eta=0.1, eval_metric=&#x27;rmse&#x27;,\n",
       "             feature_types=None, gamma=0.1, grow_policy=None,\n",
       "             importance_type=None, interaction_constraints=None,\n",
       "             learning_rate=None, max_bin=None, max_cat_threshold=None,\n",
       "             max_cat_to_onehot=None, max_delta_step=None, max_depth=6,\n",
       "             max_leaves=None, min_child_weight=None, missing=nan,\n",
       "             monotone_constraints=None, multi_strategy=None, n_estimators=None,\n",
       "             n_jobs=None, ...)</pre></div></div></div></div></div>"
      ],
      "text/plain": [
       "XGBRegressor(alpha=0.5, base_score=None, booster=None, callbacks=None,\n",
       "             colsample_bylevel=None, colsample_bynode=None,\n",
       "             colsample_bytree=0.8, device=None, early_stopping_rounds=None,\n",
       "             enable_categorical=False, eta=0.1, eval_metric='rmse',\n",
       "             feature_types=None, gamma=0.1, grow_policy=None,\n",
       "             importance_type=None, interaction_constraints=None,\n",
       "             learning_rate=None, max_bin=None, max_cat_threshold=None,\n",
       "             max_cat_to_onehot=None, max_delta_step=None, max_depth=6,\n",
       "             max_leaves=None, min_child_weight=None, missing=nan,\n",
       "             monotone_constraints=None, multi_strategy=None, n_estimators=None,\n",
       "             n_jobs=None, ...)"
      ]
     },
     "execution_count": 10,
     "metadata": {},
     "output_type": "execute_result"
    }
   ],
   "source": [
    "# Fit the model by your_model.fit(X_train, y_train)\n",
    "reg.fit(X_train, y_train)"
   ]
  },
  {
   "cell_type": "code",
   "execution_count": 11,
   "metadata": {},
   "outputs": [
    {
     "data": {
      "image/png": "[encoded data removed]",
      "text/plain": [
       "<Figure size 640x480 with 1 Axes>"
      ]
     },
     "metadata": {},
     "output_type": "display_data"
    }
   ],
   "source": [
    "# Show the feature importance plot. Use plot_importance(your_model, importance_type = 'gain')\n",
    "# If you don't see your plot, please run this cell again.\n",
    "ax = plot_importance(reg, importance_type= 'gain')\n",
    "ax.set_xlabel('Gain')\n",
    "plt.show()"
   ]
  },
  {
   "cell_type": "markdown",
   "metadata": {},
   "source": [
    "**Please interpret the importance value of the most important variable.** (5 points)"
   ]
  },
  {
   "cell_type": "markdown",
   "metadata": {},
   "source": [
    "*ANSWER: HERE* <br>\n",
    "The most important variable is TitleFlag with an average gain of 1306.1177. Since it has the highest average gain, it contributes more to the accuracy of the model. When TitleFlag is being used in a split, on average, it reduces the prediction error the most."
   ]
  },
  {
   "cell_type": "code",
   "execution_count": 12,
   "metadata": {},
   "outputs": [
    {
     "name": "stdout",
     "output_type": "stream",
     "text": [
      "12.040276\n",
      "90.19816\n"
     ]
    }
   ],
   "source": [
    "# Make prediction: y_pred should be the output of your prediction, it cotains value\n",
    "# from 3 to 100 (may not be integers)\n",
    "xgb_pred = reg.predict(X_test)\n",
    "\n",
    "# printing range of predictions\n",
    "print(xgb_pred.min())\n",
    "print(xgb_pred.max())"
   ]
  },
  {
   "cell_type": "code",
   "execution_count": 13,
   "metadata": {},
   "outputs": [
    {
     "name": "stdout",
     "output_type": "stream",
     "text": [
      "27.16181110559438\n"
     ]
    }
   ],
   "source": [
    "## Print RMSE, y_test is a numpy array from test_label, y_pred is a numpy array from your model prediction\n",
    "\n",
    "print(np.sqrt(mean_squared_error(y_test, xgb_pred)))"
   ]
  },
  {
   "cell_type": "markdown",
   "metadata": {},
   "source": [
    "**Try different combinations of the hyper-parameters to get a lower RMSE.** (5 points)\n",
    "\n",
    "Please note that you can use any hyper-parameter tuning techniques in the lecture. The points are not awarded based on the exact number of RMSE. As long as it is lower than the original values and you can justify the technique you use, you will be awarded the points."
   ]
  },
  {
   "cell_type": "markdown",
   "metadata": {},
   "source": [
    "## Tuning method selected: Grid Search\n",
    "Justification:\n",
    "- In a finite sample space, grid search is very effective as it will exhaustively iterate over all possible combinations and can find the best combination within the specified parameter grid.\n",
    "- It is very simple to implement, since I can just specify a grid of fixed values. Grid search ensures that the optimal points within that grid will be found."
   ]
  },
  {
   "cell_type": "code",
   "execution_count": 14,
   "metadata": {},
   "outputs": [
    {
     "name": "stdout",
     "output_type": "stream",
     "text": [
      "Fitting 3 folds for each of 32 candidates, totalling 96 fits\n",
      "[CV] END colsample_bytree=0.5, eta=0.1, gamma=0.1, max_depth=5, subsample=0.5; total time=   0.0s\n",
      "[CV] END colsample_bytree=0.5, eta=0.1, gamma=0.1, max_depth=5, subsample=0.5; total time=   0.0s\n",
      "[CV] END colsample_bytree=0.5, eta=0.1, gamma=0.1, max_depth=5, subsample=0.5; total time=   0.0s\n",
      "[CV] END colsample_bytree=0.5, eta=0.1, gamma=0.1, max_depth=5, subsample=0.8; total time=   0.1s\n",
      "[CV] END colsample_bytree=0.5, eta=0.1, gamma=0.1, max_depth=5, subsample=0.8; total time=   0.1s\n",
      "[CV] END colsample_bytree=0.5, eta=0.1, gamma=0.1, max_depth=5, subsample=0.8; total time=   0.0s\n",
      "[CV] END colsample_bytree=0.5, eta=0.1, gamma=0.1, max_depth=6, subsample=0.5; total time=   0.0s\n",
      "[CV] END colsample_bytree=0.5, eta=0.1, gamma=0.1, max_depth=6, subsample=0.5; total time=   0.0s\n",
      "[CV] END colsample_bytree=0.5, eta=0.1, gamma=0.1, max_depth=6, subsample=0.5; total time=   0.0s\n",
      "[CV] END colsample_bytree=0.5, eta=0.1, gamma=0.1, max_depth=6, subsample=0.8; total time=   0.1s\n",
      "[CV] END colsample_bytree=0.5, eta=0.1, gamma=0.1, max_depth=6, subsample=0.8; total time=   0.1s\n",
      "[CV] END colsample_bytree=0.5, eta=0.1, gamma=0.1, max_depth=6, subsample=0.8; total time=   0.1s\n",
      "[CV] END colsample_bytree=0.5, eta=0.1, gamma=0.2, max_depth=5, subsample=0.5; total time=   0.0s\n",
      "[CV] END colsample_bytree=0.5, eta=0.1, gamma=0.2, max_depth=5, subsample=0.5; total time=   0.0s\n",
      "[CV] END colsample_bytree=0.5, eta=0.1, gamma=0.2, max_depth=5, subsample=0.5; total time=   0.0s\n",
      "[CV] END colsample_bytree=0.5, eta=0.1, gamma=0.2, max_depth=5, subsample=0.8; total time=   0.0s\n",
      "[CV] END colsample_bytree=0.5, eta=0.1, gamma=0.2, max_depth=5, subsample=0.8; total time=   0.1s\n",
      "[CV] END colsample_bytree=0.5, eta=0.1, gamma=0.2, max_depth=5, subsample=0.8; total time=   0.1s\n",
      "[CV] END colsample_bytree=0.5, eta=0.1, gamma=0.2, max_depth=6, subsample=0.5; total time=   0.0s\n",
      "[CV] END colsample_bytree=0.5, eta=0.1, gamma=0.2, max_depth=6, subsample=0.5; total time=   0.0s\n",
      "[CV] END colsample_bytree=0.5, eta=0.1, gamma=0.2, max_depth=6, subsample=0.5; total time=   0.0s\n",
      "[CV] END colsample_bytree=0.5, eta=0.1, gamma=0.2, max_depth=6, subsample=0.8; total time=   0.0s\n",
      "[CV] END colsample_bytree=0.5, eta=0.1, gamma=0.2, max_depth=6, subsample=0.8; total time=   0.0s\n",
      "[CV] END colsample_bytree=0.5, eta=0.1, gamma=0.2, max_depth=6, subsample=0.8; total time=   0.0s\n",
      "[CV] END colsample_bytree=0.5, eta=0.2, gamma=0.1, max_depth=5, subsample=0.5; total time=   0.0s\n",
      "[CV] END colsample_bytree=0.5, eta=0.2, gamma=0.1, max_depth=5, subsample=0.5; total time=   0.1s\n",
      "[CV] END colsample_bytree=0.5, eta=0.2, gamma=0.1, max_depth=5, subsample=0.5; total time=   0.1s\n",
      "[CV] END colsample_bytree=0.5, eta=0.2, gamma=0.1, max_depth=5, subsample=0.8; total time=   0.0s\n",
      "[CV] END colsample_bytree=0.5, eta=0.2, gamma=0.1, max_depth=5, subsample=0.8; total time=   0.0s\n",
      "[CV] END colsample_bytree=0.5, eta=0.2, gamma=0.1, max_depth=5, subsample=0.8; total time=   0.0s\n",
      "[CV] END colsample_bytree=0.5, eta=0.2, gamma=0.1, max_depth=6, subsample=0.5; total time=   0.0s\n",
      "[CV] END colsample_bytree=0.5, eta=0.2, gamma=0.1, max_depth=6, subsample=0.5; total time=   0.0s\n",
      "[CV] END colsample_bytree=0.5, eta=0.2, gamma=0.1, max_depth=6, subsample=0.5; total time=   0.0s\n",
      "[CV] END colsample_bytree=0.5, eta=0.2, gamma=0.1, max_depth=6, subsample=0.8; total time=   0.0s\n",
      "[CV] END colsample_bytree=0.5, eta=0.2, gamma=0.1, max_depth=6, subsample=0.8; total time=   0.2s\n",
      "[CV] END colsample_bytree=0.5, eta=0.2, gamma=0.1, max_depth=6, subsample=0.8; total time=   0.1s\n",
      "[CV] END colsample_bytree=0.5, eta=0.2, gamma=0.2, max_depth=5, subsample=0.5; total time=   0.0s\n",
      "[CV] END colsample_bytree=0.5, eta=0.2, gamma=0.2, max_depth=5, subsample=0.5; total time=   0.0s\n",
      "[CV] END colsample_bytree=0.5, eta=0.2, gamma=0.2, max_depth=5, subsample=0.5; total time=   0.0s\n",
      "[CV] END colsample_bytree=0.5, eta=0.2, gamma=0.2, max_depth=5, subsample=0.8; total time=   0.0s\n",
      "[CV] END colsample_bytree=0.5, eta=0.2, gamma=0.2, max_depth=5, subsample=0.8; total time=   0.0s\n",
      "[CV] END colsample_bytree=0.5, eta=0.2, gamma=0.2, max_depth=5, subsample=0.8; total time=   0.0s\n",
      "[CV] END colsample_bytree=0.5, eta=0.2, gamma=0.2, max_depth=6, subsample=0.5; total time=   0.0s\n",
      "[CV] END colsample_bytree=0.5, eta=0.2, gamma=0.2, max_depth=6, subsample=0.5; total time=   0.1s\n",
      "[CV] END colsample_bytree=0.5, eta=0.2, gamma=0.2, max_depth=6, subsample=0.5; total time=   0.1s\n",
      "[CV] END colsample_bytree=0.5, eta=0.2, gamma=0.2, max_depth=6, subsample=0.8; total time=   0.0s\n",
      "[CV] END colsample_bytree=0.5, eta=0.2, gamma=0.2, max_depth=6, subsample=0.8; total time=   0.0s\n",
      "[CV] END colsample_bytree=0.5, eta=0.2, gamma=0.2, max_depth=6, subsample=0.8; total time=   0.0s\n",
      "[CV] END colsample_bytree=0.8, eta=0.1, gamma=0.1, max_depth=5, subsample=0.5; total time=   0.0s\n",
      "[CV] END colsample_bytree=0.8, eta=0.1, gamma=0.1, max_depth=5, subsample=0.5; total time=   0.0s\n",
      "[CV] END colsample_bytree=0.8, eta=0.1, gamma=0.1, max_depth=5, subsample=0.5; total time=   0.0s\n",
      "[CV] END colsample_bytree=0.8, eta=0.1, gamma=0.1, max_depth=5, subsample=0.8; total time=   0.0s\n",
      "[CV] END colsample_bytree=0.8, eta=0.1, gamma=0.1, max_depth=5, subsample=0.8; total time=   0.0s\n",
      "[CV] END colsample_bytree=0.8, eta=0.1, gamma=0.1, max_depth=5, subsample=0.8; total time=   0.0s\n",
      "[CV] END colsample_bytree=0.8, eta=0.1, gamma=0.1, max_depth=6, subsample=0.5; total time=   0.0s\n",
      "[CV] END colsample_bytree=0.8, eta=0.1, gamma=0.1, max_depth=6, subsample=0.5; total time=   0.0s\n",
      "[CV] END colsample_bytree=0.8, eta=0.1, gamma=0.1, max_depth=6, subsample=0.5; total time=   0.0s\n",
      "[CV] END colsample_bytree=0.8, eta=0.1, gamma=0.1, max_depth=6, subsample=0.8; total time=   0.0s\n",
      "[CV] END colsample_bytree=0.8, eta=0.1, gamma=0.1, max_depth=6, subsample=0.8; total time=   0.0s\n",
      "[CV] END colsample_bytree=0.8, eta=0.1, gamma=0.1, max_depth=6, subsample=0.8; total time=   0.0s\n",
      "[CV] END colsample_bytree=0.8, eta=0.1, gamma=0.2, max_depth=5, subsample=0.5; total time=   0.0s\n",
      "[CV] END colsample_bytree=0.8, eta=0.1, gamma=0.2, max_depth=5, subsample=0.5; total time=   0.0s\n",
      "[CV] END colsample_bytree=0.8, eta=0.1, gamma=0.2, max_depth=5, subsample=0.5; total time=   0.0s\n",
      "[CV] END colsample_bytree=0.8, eta=0.1, gamma=0.2, max_depth=5, subsample=0.8; total time=   0.0s\n",
      "[CV] END colsample_bytree=0.8, eta=0.1, gamma=0.2, max_depth=5, subsample=0.8; total time=   0.0s\n",
      "[CV] END colsample_bytree=0.8, eta=0.1, gamma=0.2, max_depth=5, subsample=0.8; total time=   0.0s\n",
      "[CV] END colsample_bytree=0.8, eta=0.1, gamma=0.2, max_depth=6, subsample=0.5; total time=   0.0s\n",
      "[CV] END colsample_bytree=0.8, eta=0.1, gamma=0.2, max_depth=6, subsample=0.5; total time=   0.0s\n",
      "[CV] END colsample_bytree=0.8, eta=0.1, gamma=0.2, max_depth=6, subsample=0.5; total time=   0.0s\n",
      "[CV] END colsample_bytree=0.8, eta=0.1, gamma=0.2, max_depth=6, subsample=0.8; total time=   0.0s\n",
      "[CV] END colsample_bytree=0.8, eta=0.1, gamma=0.2, max_depth=6, subsample=0.8; total time=   0.0s\n",
      "[CV] END colsample_bytree=0.8, eta=0.1, gamma=0.2, max_depth=6, subsample=0.8; total time=   0.0s\n",
      "[CV] END colsample_bytree=0.8, eta=0.2, gamma=0.1, max_depth=5, subsample=0.5; total time=   0.0s\n",
      "[CV] END colsample_bytree=0.8, eta=0.2, gamma=0.1, max_depth=5, subsample=0.5; total time=   0.0s\n",
      "[CV] END colsample_bytree=0.8, eta=0.2, gamma=0.1, max_depth=5, subsample=0.5; total time=   0.1s\n",
      "[CV] END colsample_bytree=0.8, eta=0.2, gamma=0.1, max_depth=5, subsample=0.8; total time=   0.1s\n",
      "[CV] END colsample_bytree=0.8, eta=0.2, gamma=0.1, max_depth=5, subsample=0.8; total time=   0.0s\n",
      "[CV] END colsample_bytree=0.8, eta=0.2, gamma=0.1, max_depth=5, subsample=0.8; total time=   0.0s\n",
      "[CV] END colsample_bytree=0.8, eta=0.2, gamma=0.1, max_depth=6, subsample=0.5; total time=   0.0s\n",
      "[CV] END colsample_bytree=0.8, eta=0.2, gamma=0.1, max_depth=6, subsample=0.5; total time=   0.0s\n",
      "[CV] END colsample_bytree=0.8, eta=0.2, gamma=0.1, max_depth=6, subsample=0.5; total time=   0.0s\n",
      "[CV] END colsample_bytree=0.8, eta=0.2, gamma=0.1, max_depth=6, subsample=0.8; total time=   0.1s\n",
      "[CV] END colsample_bytree=0.8, eta=0.2, gamma=0.1, max_depth=6, subsample=0.8; total time=   0.1s\n",
      "[CV] END colsample_bytree=0.8, eta=0.2, gamma=0.1, max_depth=6, subsample=0.8; total time=   0.0s\n",
      "[CV] END colsample_bytree=0.8, eta=0.2, gamma=0.2, max_depth=5, subsample=0.5; total time=   0.0s\n",
      "[CV] END colsample_bytree=0.8, eta=0.2, gamma=0.2, max_depth=5, subsample=0.5; total time=   0.0s\n",
      "[CV] END colsample_bytree=0.8, eta=0.2, gamma=0.2, max_depth=5, subsample=0.5; total time=   0.0s\n",
      "[CV] END colsample_bytree=0.8, eta=0.2, gamma=0.2, max_depth=5, subsample=0.8; total time=   0.0s\n",
      "[CV] END colsample_bytree=0.8, eta=0.2, gamma=0.2, max_depth=5, subsample=0.8; total time=   0.0s\n",
      "[CV] END colsample_bytree=0.8, eta=0.2, gamma=0.2, max_depth=5, subsample=0.8; total time=   0.0s\n",
      "[CV] END colsample_bytree=0.8, eta=0.2, gamma=0.2, max_depth=6, subsample=0.5; total time=   0.0s\n",
      "[CV] END colsample_bytree=0.8, eta=0.2, gamma=0.2, max_depth=6, subsample=0.5; total time=   0.0s\n",
      "[CV] END colsample_bytree=0.8, eta=0.2, gamma=0.2, max_depth=6, subsample=0.5; total time=   0.0s\n",
      "[CV] END colsample_bytree=0.8, eta=0.2, gamma=0.2, max_depth=6, subsample=0.8; total time=   0.0s\n",
      "[CV] END colsample_bytree=0.8, eta=0.2, gamma=0.2, max_depth=6, subsample=0.8; total time=   0.0s\n",
      "[CV] END colsample_bytree=0.8, eta=0.2, gamma=0.2, max_depth=6, subsample=0.8; total time=   0.0s\n",
      "Best parameters: {'colsample_bytree': 0.5, 'eta': 0.1, 'gamma': 0.1, 'max_depth': 5, 'subsample': 0.8}\n",
      "Best score: -838.8642103907943\n"
     ]
    }
   ],
   "source": [
    "# your code here...\n",
    "\n",
    "# Using Grid search to do hyper parameter tuning\n",
    "from sklearn.model_selection import GridSearchCV\n",
    "\n",
    "reg = xgb.XGBRegressor(max_depth = 6, \n",
    "                       eta = 0.1, \n",
    "                       gamma = 0.1,\n",
    "                       subsample = 0.8,\n",
    "                       colsample_bytree = 0.8,\n",
    "                       alpha = 0.5,\n",
    "                       objective = \"reg:squarederror\",\n",
    "                       eval_metric = \"rmse\",\n",
    "                       seed = 1)\n",
    "\n",
    "# Define the parameter grid\n",
    "param_grid = {\n",
    "    'max_depth': [5, 6],  \n",
    "    'eta' : [0.1, 0.2],\n",
    "    'gamma': [0.1, 0.2],\n",
    "    'subsample': [0.5, 0.8],  \n",
    "    'colsample_bytree': [0.5, 0.8]\n",
    "}\n",
    "\n",
    "# Set up the grid search\n",
    "grid_search = GridSearchCV(reg, param_grid, cv=3, scoring='neg_mean_squared_error', verbose=2)\n",
    "\n",
    "# Fit the model\n",
    "grid_search.fit(X_train, y_train)\n",
    "\n",
    "# Get the best parameters from the grid search\n",
    "best_params = grid_search.best_params_\n",
    "best_score = grid_search.best_score_\n",
    "\n",
    "print(f\"Best parameters: {best_params}\")\n",
    "print(f\"Best score: {best_score}\")"
   ]
  },
  {
   "cell_type": "code",
   "execution_count": 15,
   "metadata": {},
   "outputs": [
    {
     "name": "stdout",
     "output_type": "stream",
     "text": [
      "26.453451556674892\n"
     ]
    }
   ],
   "source": [
    "# redoing with new hyperparams\n",
    "\n",
    "# reg_redone = xgb.XGBRegressor(max_depth = 5, \n",
    "#                        eta = 0.1, \n",
    "#                        gamma = 0.1,\n",
    "#                        subsample = 0.8,\n",
    "#                        colsample_bytree = 0.5,\n",
    "#                        alpha = 0.5,\n",
    "#                        objective = \"reg:squarederror\",\n",
    "#                        eval_metric = \"rmse\",\n",
    "#                        seed = 1)\n",
    "\n",
    "reg_redone = xgb.XGBRegressor(max_depth = 5, \n",
    "                       eta = 0.1, \n",
    "                       gamma = 0.1,\n",
    "                       subsample = 0.8,\n",
    "                       colsample_bytree = 0.5,\n",
    "                       alpha = 0.5,\n",
    "                       objective = \"reg:squarederror\",\n",
    "                       eval_metric = \"rmse\")\n",
    "reg_redone.fit(X_train, y_train)\n",
    "xgb_pred_redone = reg_redone.predict(X_test)\n",
    "print(np.sqrt(mean_squared_error(y_test, xgb_pred_redone)))\n",
    "\n",
    "# RMSE is lower yay!"
   ]
  },
  {
   "cell_type": "markdown",
   "metadata": {},
   "source": [
    "### Q2. Redo Q1 by using `rank:pairwise` for `objective` and `rmse` for `eval_metric`. (15 points)\n",
    "Observe that we did not utilize the query information yet. However, in the dataset, we know that each query corresponds to 98 data points. Now we will leverage this information by setting group information for both training and testing data. (5 points)\n",
    "\n"
   ]
  },
  {
   "cell_type": "code",
   "execution_count": 4,
   "metadata": {},
   "outputs": [],
   "source": [
    "# Model and Parameter Setting \n",
    "# Use xgb.XGBRanker\n",
    "# Use parameters below first and you can adjust it later.\n",
    "reg = xgb.XGBRanker(max_depth = 6, \n",
    "                           eta = 0.1, \n",
    "                           gamma = 0.1,\n",
    "                           subsample = 0.8,\n",
    "                           colsample_bytree = 0.8,\n",
    "                           alpha = 0.5,\n",
    "                           objective = \"rank:pairwise\",\n",
    "                           eval_metric = \"rmse\")"
   ]
  },
  {
   "cell_type": "code",
   "execution_count": 5,
   "metadata": {},
   "outputs": [],
   "source": [
    "# Data Input\n",
    "feature_col =[\"TitleFlag\", \"TitleDensity\", \"URLFlag\", \"URLDensity\", \"MetaFlag\", \"MetaDensity\", \"PageAuthority\", \"DomainAuthority\", \"LinkingDomain\", \"InboundLink\" , \"RankingKeyword\" ]\n",
    "train_data = pd.read_csv(\"Train_dta.csv\") \n",
    "test_data = pd.read_csv(\"Test_dta.csv\") \n",
    "\n",
    "train_feature = pd.read_csv(\"Train_dta.csv\",usecols=feature_col)\n",
    "train_label = pd.read_csv(\"Train_dta.csv\",usecols=[\"ReverseRank\"]) \n",
    "\n",
    "test_feature = pd.read_csv(\"Test_dta.csv\",usecols=feature_col)\n",
    "test_label = pd.read_csv(\"Test_dta.csv\",usecols=[\"ReverseRank\"]) \n",
    "\n",
    "X_train = train_feature # trainig feature, as a dataframe in pandas\n",
    "X_test = test_feature # test feature, as a df \n",
    "\n",
    "y_train = train_label.values # training label, as a numpy array\n",
    "y_test = test_label.values # test label, as a np array"
   ]
  },
  {
   "cell_type": "code",
   "execution_count": 6,
   "metadata": {},
   "outputs": [
    {
     "data": {
      "text/html": [
       "<style>#sk-container-id-1 {color: black;}#sk-container-id-1 pre{padding: 0;}#sk-container-id-1 div.sk-toggleable {background-color: white;}#sk-container-id-1 label.sk-toggleable__label {cursor: pointer;display: block;width: 100%;margin-bottom: 0;padding: 0.3em;box-sizing: border-box;text-align: center;}#sk-container-id-1 label.sk-toggleable__label-arrow:before {content: \"▸\";float: left;margin-right: 0.25em;color: #696969;}#sk-container-id-1 label.sk-toggleable__label-arrow:hover:before {color: black;}#sk-container-id-1 div.sk-estimator:hover label.sk-toggleable__label-arrow:before {color: black;}#sk-container-id-1 div.sk-toggleable__content {max-height: 0;max-width: 0;overflow: hidden;text-align: left;background-color: #f0f8ff;}#sk-container-id-1 div.sk-toggleable__content pre {margin: 0.2em;color: black;border-radius: 0.25em;background-color: #f0f8ff;}#sk-container-id-1 input.sk-toggleable__control:checked~div.sk-toggleable__content {max-height: 200px;max-width: 100%;overflow: auto;}#sk-container-id-1 input.sk-toggleable__control:checked~label.sk-toggleable__label-arrow:before {content: \"▾\";}#sk-container-id-1 div.sk-estimator input.sk-toggleable__control:checked~label.sk-toggleable__label {background-color: #d4ebff;}#sk-container-id-1 div.sk-label input.sk-toggleable__control:checked~label.sk-toggleable__label {background-color: #d4ebff;}#sk-container-id-1 input.sk-hidden--visually {border: 0;clip: rect(1px 1px 1px 1px);clip: rect(1px, 1px, 1px, 1px);height: 1px;margin: -1px;overflow: hidden;padding: 0;position: absolute;width: 1px;}#sk-container-id-1 div.sk-estimator {font-family: monospace;background-color: #f0f8ff;border: 1px dotted black;border-radius: 0.25em;box-sizing: border-box;margin-bottom: 0.5em;}#sk-container-id-1 div.sk-estimator:hover {background-color: #d4ebff;}#sk-container-id-1 div.sk-parallel-item::after {content: \"\";width: 100%;border-bottom: 1px solid gray;flex-grow: 1;}#sk-container-id-1 div.sk-label:hover label.sk-toggleable__label {background-color: #d4ebff;}#sk-container-id-1 div.sk-serial::before {content: \"\";position: absolute;border-left: 1px solid gray;box-sizing: border-box;top: 0;bottom: 0;left: 50%;z-index: 0;}#sk-container-id-1 div.sk-serial {display: flex;flex-direction: column;align-items: center;background-color: white;padding-right: 0.2em;padding-left: 0.2em;position: relative;}#sk-container-id-1 div.sk-item {position: relative;z-index: 1;}#sk-container-id-1 div.sk-parallel {display: flex;align-items: stretch;justify-content: center;background-color: white;position: relative;}#sk-container-id-1 div.sk-item::before, #sk-container-id-1 div.sk-parallel-item::before {content: \"\";position: absolute;border-left: 1px solid gray;box-sizing: border-box;top: 0;bottom: 0;left: 50%;z-index: -1;}#sk-container-id-1 div.sk-parallel-item {display: flex;flex-direction: column;z-index: 1;position: relative;background-color: white;}#sk-container-id-1 div.sk-parallel-item:first-child::after {align-self: flex-end;width: 50%;}#sk-container-id-1 div.sk-parallel-item:last-child::after {align-self: flex-start;width: 50%;}#sk-container-id-1 div.sk-parallel-item:only-child::after {width: 0;}#sk-container-id-1 div.sk-dashed-wrapped {border: 1px dashed gray;margin: 0 0.4em 0.5em 0.4em;box-sizing: border-box;padding-bottom: 0.4em;background-color: white;}#sk-container-id-1 div.sk-label label {font-family: monospace;font-weight: bold;display: inline-block;line-height: 1.2em;}#sk-container-id-1 div.sk-label-container {text-align: center;}#sk-container-id-1 div.sk-container {/* jupyter's `normalize.less` sets `[hidden] { display: none; }` but bootstrap.min.css set `[hidden] { display: none !important; }` so we also need the `!important` here to be able to override the default hidden behavior on the sphinx rendered scikit-learn.org. See: https://github.com/scikit-learn/scikit-learn/issues/21755 */display: inline-block !important;position: relative;}#sk-container-id-1 div.sk-text-repr-fallback {display: none;}</style><div id=\"sk-container-id-1\" class=\"sk-top-container\"><div class=\"sk-text-repr-fallback\"><pre>XGBRanker(alpha=0.5, base_score=None, booster=None, callbacks=None,\n",
       "          colsample_bylevel=None, colsample_bynode=None, colsample_bytree=0.8,\n",
       "          device=None, early_stopping_rounds=None, enable_categorical=False,\n",
       "          eta=0.1, eval_metric=&#x27;rmse&#x27;, feature_types=None, gamma=0.1,\n",
       "          grow_policy=None, importance_type=None, interaction_constraints=None,\n",
       "          learning_rate=None, max_bin=None, max_cat_threshold=None,\n",
       "          max_cat_to_onehot=None, max_delta_step=None, max_depth=6,\n",
       "          max_leaves=None, min_child_weight=None, missing=nan,\n",
       "          monotone_constraints=None, multi_strategy=None, n_estimators=None,\n",
       "          n_jobs=None, ...)</pre><b>In a Jupyter environment, please rerun this cell to show the HTML representation or trust the notebook. <br />On GitHub, the HTML representation is unable to render, please try loading this page with nbviewer.org.</b></div><div class=\"sk-container\" hidden><div class=\"sk-item\"><div class=\"sk-estimator sk-toggleable\"><input class=\"sk-toggleable__control sk-hidden--visually\" id=\"sk-estimator-id-1\" type=\"checkbox\" checked><label for=\"sk-estimator-id-1\" class=\"sk-toggleable__label sk-toggleable__label-arrow\">XGBRanker</label><div class=\"sk-toggleable__content\"><pre>XGBRanker(alpha=0.5, base_score=None, booster=None, callbacks=None,\n",
       "          colsample_bylevel=None, colsample_bynode=None, colsample_bytree=0.8,\n",
       "          device=None, early_stopping_rounds=None, enable_categorical=False,\n",
       "          eta=0.1, eval_metric=&#x27;rmse&#x27;, feature_types=None, gamma=0.1,\n",
       "          grow_policy=None, importance_type=None, interaction_constraints=None,\n",
       "          learning_rate=None, max_bin=None, max_cat_threshold=None,\n",
       "          max_cat_to_onehot=None, max_delta_step=None, max_depth=6,\n",
       "          max_leaves=None, min_child_weight=None, missing=nan,\n",
       "          monotone_constraints=None, multi_strategy=None, n_estimators=None,\n",
       "          n_jobs=None, ...)</pre></div></div></div></div></div>"
      ],
      "text/plain": [
       "XGBRanker(alpha=0.5, base_score=None, booster=None, callbacks=None,\n",
       "          colsample_bylevel=None, colsample_bynode=None, colsample_bytree=0.8,\n",
       "          device=None, early_stopping_rounds=None, enable_categorical=False,\n",
       "          eta=0.1, eval_metric='rmse', feature_types=None, gamma=0.1,\n",
       "          grow_policy=None, importance_type=None, interaction_constraints=None,\n",
       "          learning_rate=None, max_bin=None, max_cat_threshold=None,\n",
       "          max_cat_to_onehot=None, max_delta_step=None, max_depth=6,\n",
       "          max_leaves=None, min_child_weight=None, missing=nan,\n",
       "          monotone_constraints=None, multi_strategy=None, n_estimators=None,\n",
       "          n_jobs=None, ...)"
      ]
     },
     "execution_count": 6,
     "metadata": {},
     "output_type": "execute_result"
    }
   ],
   "source": [
    "# Fit the model by your_model.fit(X_train, y_train, group = np.full(14,98))\n",
    "reg.fit(X_train, y_train, group = np.full(14,98))"
   ]
  },
  {
   "cell_type": "code",
   "execution_count": 7,
   "metadata": {},
   "outputs": [
    {
     "name": "stderr",
     "output_type": "stream",
     "text": [
      "C:\\Users\\zandr\\AppData\\Local\\Temp\\ipykernel_14880\\3572660928.py:4: UserWarning: Tight layout not applied. The left and right margins cannot be made large enough to accommodate all axes decorations.\n",
      "  plt.tight_layout()\n"
     ]
    },
    {
     "data": {
      "image/png": "[encoded data removed]",
      "text/plain": [
       "<Figure size 640x480 with 1 Axes>"
      ]
     },
     "metadata": {},
     "output_type": "display_data"
    }
   ],
   "source": [
    "# Show the feature importance plot. Use plot_importance(your_model, importance_type = 'gain')\n",
    "ax = plot_importance(reg, importance_type= 'gain')\n",
    "ax.set_xlabel('Gain')\n",
    "plt.tight_layout()\n",
    "plt.show()"
   ]
  },
  {
   "cell_type": "markdown",
   "metadata": {},
   "source": [
    "**Please interpret the importance value of the most important variable.** (5 points)"
   ]
  },
  {
   "cell_type": "markdown",
   "metadata": {},
   "source": [
    "*ANSWER: HERE* <br>\n",
    "The most important variable is URLDensity with an average gain of 0.29403. Since it has the highest average gain, it contributes more to the accuracy of the model. When URLDensity is being used in a split, on average, it reduces the prediction error the most."
   ]
  },
  {
   "cell_type": "markdown",
   "metadata": {},
   "source": [
    "Note that here `y_pred` is *not* a direct rank on itself. We need to figure out how to get the rank from `y_pred`. Test data can be divided into 6 groups, we need to perform the following steps for each group.\n",
    "1. For each group, get `y_pred` from your model. \n",
    "2. The values in `y_pred` indicate a relative score for the rank. The higher the score, the better the page rank. For all 98 pages in one group, the page with the highest score should rank as 100, and the page with the lowest score should rank as 3. \n",
    "3. Repeat this for all groups. You are required to implement this by some simple codes. **y_pred_rank** is the predicted ranks you transformed from **y_pred**.\n",
    "\n"
   ]
  },
  {
   "cell_type": "code",
   "execution_count": 8,
   "metadata": {},
   "outputs": [
    {
     "name": "stderr",
     "output_type": "stream",
     "text": [
      "c:\\Users\\zandr\\AppData\\Local\\Programs\\Python\\Python311\\Lib\\site-packages\\numpy\\core\\fromnumeric.py:59: FutureWarning: 'DataFrame.swapaxes' is deprecated and will be removed in a future version. Please use 'DataFrame.transpose' instead.\n",
      "  return bound(*args, **kwds)\n"
     ]
    }
   ],
   "source": [
    "# Make prediction: y_pred is the predicted output from your model, y_pred_rank is the actual rank you get\n",
    "# This is essentially k fold cross validation, where k = 6\n",
    "X_test_split_6 = np.array_split(X_test, 6)\n",
    "\n",
    "y_pred_rank = []\n",
    "for i in X_test_split_6:\n",
    "    y_pred = reg.predict(i)\n",
    "    mapped_rank = np.argsort(y_pred)[::-1] + 3\n",
    "    y_pred_rank.append(mapped_rank)"
   ]
  },
  {
   "cell_type": "code",
   "execution_count": 9,
   "metadata": {},
   "outputs": [
    {
     "name": "stdout",
     "output_type": "stream",
     "text": [
      "45.913072257055866\n"
     ]
    }
   ],
   "source": [
    "# Print RMSE, y_test is a numpy array from test_label, y_pred_rank is a numpy array from your model prediction\n",
    "from itertools import chain\n",
    "\n",
    "print(np.sqrt(mean_squared_error(list(chain(*y_pred_rank)), y_test)))"
   ]
  },
  {
   "cell_type": "markdown",
   "metadata": {},
   "source": [
    "**Try different combinations of the hyper-parameters to get a lower RMSE.** (5 points)\n",
    "\n",
    "Please note that you can use any hyper-parameter tuning techniques in the lecture. The points are not awarded based on the exact number of RMSE. As long as it is lower than the original values and you can justify the technique you use, you will be awarded the points."
   ]
  },
  {
   "cell_type": "markdown",
   "metadata": {},
   "source": [
    "### Tuning method selected: Bayesian Optimisation\n",
    "Justification:\n",
    "- It can utilize the historical values of the hyper-parameters previously sampled. The historical values can be incorporated into the sample range. For XGBRanker, this can help direct the optimization process when some domain knowledge is available about the problem.\n",
    "- It is efficient -- needs to sample fewer points to learn the minimum point of $f$. This is particularly useful for XGBRanker, where each evaluation might require training a complex model on a large dataset."
   ]
  },
  {
   "cell_type": "code",
   "execution_count": 15,
   "metadata": {},
   "outputs": [
    {
     "name": "stderr",
     "output_type": "stream",
     "text": [
      "[I 2023-11-03 13:01:38,711] A new study created in memory with name: no-name-e600b604-6197-4ee1-86cd-be76df290c90\n"
     ]
    },
    {
     "name": "stderr",
     "output_type": "stream",
     "text": [
      "[I 2023-11-03 13:01:38,834] Trial 0 finished with value: 46.919528736665164 and parameters: {'max_depth': 6, 'eta': 0.08390521915537479, 'gamma': 0.1319680554026479, 'subsample': 0.21860113110512625, 'colsample_bytree': 0.5779719207536327, 'alpha': 0.7918546955737135}. Best is trial 0 with value: 46.919528736665164.\n",
      "[I 2023-11-03 13:01:38,965] Trial 1 finished with value: 46.87176746223694 and parameters: {'max_depth': 5, 'eta': 0.2590522748568531, 'gamma': 0.08735884306653681, 'subsample': 0.29280444100845227, 'colsample_bytree': 0.48223089567564126, 'alpha': 0.6590819806287571}. Best is trial 1 with value: 46.87176746223694.\n",
      "[I 2023-11-03 13:01:39,041] Trial 2 finished with value: 46.480337441841826 and parameters: {'max_depth': 8, 'eta': 0.21351919664634902, 'gamma': 0.23978825250774494, 'subsample': 0.3302838061433699, 'colsample_bytree': 0.5799892228524872, 'alpha': 0.8912151671306798}. Best is trial 2 with value: 46.480337441841826.\n",
      "[I 2023-11-03 13:01:39,119] Trial 3 finished with value: 46.74878586222145 and parameters: {'max_depth': 5, 'eta': 0.2408241710977117, 'gamma': 0.27797480149076426, 'subsample': 0.5042088118807775, 'colsample_bytree': 0.4670249844811682, 'alpha': 0.7485501091327267}. Best is trial 2 with value: 46.480337441841826.\n",
      "[I 2023-11-03 13:01:39,179] Trial 4 finished with value: 47.05330599907064 and parameters: {'max_depth': 6, 'eta': 0.21660000473186322, 'gamma': 0.28172804691168724, 'subsample': 0.47079744262244855, 'colsample_bytree': 0.6683897255943967, 'alpha': 0.7474172169264146}. Best is trial 2 with value: 46.480337441841826.\n",
      "[I 2023-11-03 13:01:39,259] Trial 5 finished with value: 46.236010938261025 and parameters: {'max_depth': 6, 'eta': 0.290112434378417, 'gamma': 0.20847100069806684, 'subsample': 0.6025690601006785, 'colsample_bytree': 0.47414978026203897, 'alpha': 0.9297800058594277}. Best is trial 5 with value: 46.236010938261025.\n",
      "[I 2023-11-03 13:01:39,336] Trial 6 finished with value: 46.77257176367102 and parameters: {'max_depth': 3, 'eta': 0.236822101963477, 'gamma': 0.2796467254395949, 'subsample': 0.5170154817625882, 'colsample_bytree': 0.7031745592379739, 'alpha': 0.8442821827098125}. Best is trial 5 with value: 46.236010938261025.\n",
      "[I 2023-11-03 13:01:39,416] Trial 7 finished with value: 47.01971651867542 and parameters: {'max_depth': 6, 'eta': 0.09159101901350873, 'gamma': 0.12719725190827774, 'subsample': 0.364682656274708, 'colsample_bytree': 0.43037930095494803, 'alpha': 0.5009407125501457}. Best is trial 5 with value: 46.236010938261025.\n",
      "[I 2023-11-03 13:01:39,505] Trial 8 finished with value: 47.18681212049865 and parameters: {'max_depth': 3, 'eta': 0.11989710450595514, 'gamma': 0.10429039571614762, 'subsample': 0.7984088632721202, 'colsample_bytree': 0.4669755625159899, 'alpha': 0.6206556745157737}. Best is trial 5 with value: 46.236010938261025.\n",
      "[I 2023-11-03 13:01:39,605] Trial 9 finished with value: 46.77853452724879 and parameters: {'max_depth': 8, 'eta': 0.1024537314987772, 'gamma': 0.08641002574223643, 'subsample': 0.3325196834034523, 'colsample_bytree': 0.7262393234995408, 'alpha': 0.553538695786388}. Best is trial 5 with value: 46.236010938261025.\n",
      "[I 2023-11-03 13:01:39,743] Trial 10 finished with value: 46.217947157525096 and parameters: {'max_depth': 9, 'eta': 0.2892816313691265, 'gamma': 0.19061756217602718, 'subsample': 0.6720147699805525, 'colsample_bytree': 0.28449752001171935, 'alpha': 0.21567066535225587}. Best is trial 10 with value: 46.217947157525096.\n",
      "[I 2023-11-03 13:01:39,876] Trial 11 finished with value: 46.7864594633495 and parameters: {'max_depth': 9, 'eta': 0.2932171143190438, 'gamma': 0.1951572294249696, 'subsample': 0.6419469454450316, 'colsample_bytree': 0.2635206749674296, 'alpha': 0.28004828475156196}. Best is trial 10 with value: 46.217947157525096.\n",
      "[I 2023-11-03 13:01:39,988] Trial 12 finished with value: 47.463770644666695 and parameters: {'max_depth': 8, 'eta': 0.18379730701672248, 'gamma': 0.19128062837203186, 'subsample': 0.6614401840655484, 'colsample_bytree': 0.30762549921592336, 'alpha': 0.9947188315684912}. Best is trial 10 with value: 46.217947157525096.\n",
      "[I 2023-11-03 13:01:40,131] Trial 13 finished with value: 45.86978760541612 and parameters: {'max_depth': 7, 'eta': 0.2983543026777949, 'gamma': 0.21644877764456255, 'subsample': 0.6572938056004983, 'colsample_bytree': 0.2005577066021711, 'alpha': 0.01859400244920051}. Best is trial 13 with value: 45.86978760541612.\n",
      "[I 2023-11-03 13:01:40,269] Trial 14 finished with value: 46.516327321522205 and parameters: {'max_depth': 9, 'eta': 0.16172542060952816, 'gamma': 0.17352286664452748, 'subsample': 0.732438752078697, 'colsample_bytree': 0.20003454580219365, 'alpha': 0.0014047502752594296}. Best is trial 13 with value: 45.86978760541612.\n",
      "[I 2023-11-03 13:01:40,360] Trial 15 finished with value: 46.915287675629514 and parameters: {'max_depth': 7, 'eta': 0.29433179296473083, 'gamma': 0.23139497072808082, 'subsample': 0.7183997093168257, 'colsample_bytree': 0.34747510480667543, 'alpha': 0.12245440987448428}. Best is trial 13 with value: 45.86978760541612.\n",
      "[I 2023-11-03 13:01:40,446] Trial 16 finished with value: 46.461307140721836 and parameters: {'max_depth': 7, 'eta': 0.20061210716829772, 'gamma': 0.1680518430130982, 'subsample': 0.5904879587976548, 'colsample_bytree': 0.20362335226866016, 'alpha': 0.3230578377235477}. Best is trial 13 with value: 45.86978760541612.\n",
      "[I 2023-11-03 13:01:40,594] Trial 17 finished with value: 46.50385837258469 and parameters: {'max_depth': 9, 'eta': 0.17460065288278262, 'gamma': 0.22927574326511121, 'subsample': 0.7918521884608324, 'colsample_bytree': 0.36767413201501187, 'alpha': 0.003881446451611887}. Best is trial 13 with value: 45.86978760541612.\n",
      "[I 2023-11-03 13:01:40,724] Trial 18 finished with value: 46.48004472699149 and parameters: {'max_depth': 7, 'eta': 0.14712764486396515, 'gamma': 0.1572187986291314, 'subsample': 0.702992816025841, 'colsample_bytree': 0.27141430789947807, 'alpha': 0.3534530587870579}. Best is trial 13 with value: 45.86978760541612.\n",
      "[I 2023-11-03 13:01:40,827] Trial 19 finished with value: 46.21721121232758 and parameters: {'max_depth': 5, 'eta': 0.2621694849369528, 'gamma': 0.21021441290360926, 'subsample': 0.5858194642659283, 'colsample_bytree': 0.3811893747280323, 'alpha': 0.21805234954433628}. Best is trial 13 with value: 45.86978760541612.\n",
      "[I 2023-11-03 13:01:40,927] Trial 20 finished with value: 46.749076894375044 and parameters: {'max_depth': 4, 'eta': 0.2555276096528108, 'gamma': 0.25790478154948043, 'subsample': 0.5718889893843189, 'colsample_bytree': 0.39570071060025624, 'alpha': 0.13876213729357692}. Best is trial 13 with value: 45.86978760541612.\n",
      "[I 2023-11-03 13:01:41,027] Trial 21 finished with value: 46.97846517795351 and parameters: {'max_depth': 5, 'eta': 0.264369834338002, 'gamma': 0.21245965361097, 'subsample': 0.6580309972615885, 'colsample_bytree': 0.31485832452413476, 'alpha': 0.1933531208624448}. Best is trial 13 with value: 45.86978760541612.\n",
      "[I 2023-11-03 13:01:41,144] Trial 22 finished with value: 46.81752826005397 and parameters: {'max_depth': 4, 'eta': 0.2994940330773784, 'gamma': 0.209658825396529, 'subsample': 0.5458263345919775, 'colsample_bytree': 0.25461373474224114, 'alpha': 0.36699924283201857}. Best is trial 13 with value: 45.86978760541612.\n",
      "[I 2023-11-03 13:01:41,295] Trial 23 finished with value: 46.45944028759639 and parameters: {'max_depth': 4, 'eta': 0.22123591407291782, 'gamma': 0.18037945402609917, 'subsample': 0.6132532271059025, 'colsample_bytree': 0.38808434351919197, 'alpha': 0.20702895923541495}. Best is trial 13 with value: 45.86978760541612.\n",
      "[I 2023-11-03 13:01:41,431] Trial 24 finished with value: 47.1476188071431 and parameters: {'max_depth': 8, 'eta': 0.2653828323977201, 'gamma': 0.2510052432419833, 'subsample': 0.6749033812743207, 'colsample_bytree': 0.32497969005312854, 'alpha': 0.4211074040044341}. Best is trial 13 with value: 45.86978760541612.\n",
      "[I 2023-11-03 13:01:41,608] Trial 25 finished with value: 46.30364144302642 and parameters: {'max_depth': 7, 'eta': 0.2370424871536349, 'gamma': 0.21852090745389707, 'subsample': 0.6214561333828958, 'colsample_bytree': 0.24388159388457542, 'alpha': 0.08174358565673412}. Best is trial 13 with value: 45.86978760541612.\n",
      "[I 2023-11-03 13:01:41,829] Trial 26 finished with value: 46.81992569597768 and parameters: {'max_depth': 5, 'eta': 0.2722909477407927, 'gamma': 0.19629471402664234, 'subsample': 0.568510041321891, 'colsample_bytree': 0.3040368281397441, 'alpha': 0.24850469596394353}. Best is trial 13 with value: 45.86978760541612.\n",
      "[I 2023-11-03 13:01:42,006] Trial 27 finished with value: 47.08203146716197 and parameters: {'max_depth': 9, 'eta': 0.2453419995740115, 'gamma': 0.22384519634949515, 'subsample': 0.46139064346491737, 'colsample_bytree': 0.35225180285332125, 'alpha': 0.08557606857782343}. Best is trial 13 with value: 45.86978760541612.\n",
      "[I 2023-11-03 13:01:42,114] Trial 28 finished with value: 45.80292745300573 and parameters: {'max_depth': 8, 'eta': 0.27431871749953496, 'gamma': 0.2028676507304887, 'subsample': 0.7449547592380226, 'colsample_bytree': 0.4108344360013284, 'alpha': 0.18077594329727908}. Best is trial 28 with value: 45.80292745300573.\n",
      "[I 2023-11-03 13:01:42,212] Trial 29 finished with value: 45.71956814717989 and parameters: {'max_depth': 7, 'eta': 0.19751616158647486, 'gamma': 0.15707041672370015, 'subsample': 0.7576400413801803, 'colsample_bytree': 0.41019485599135436, 'alpha': 0.15635049285214403}. Best is trial 29 with value: 45.71956814717989.\n",
      "[I 2023-11-03 13:01:42,397] Trial 30 finished with value: 46.5387337762492 and parameters: {'max_depth': 7, 'eta': 0.19965371524571507, 'gamma': 0.15436450870618276, 'subsample': 0.753274643215247, 'colsample_bytree': 0.5446808291953941, 'alpha': 0.15876757822100768}. Best is trial 29 with value: 45.71956814717989.\n",
      "[I 2023-11-03 13:01:42,597] Trial 31 finished with value: 47.06595459174979 and parameters: {'max_depth': 8, 'eta': 0.23039370977898682, 'gamma': 0.18061809471485193, 'subsample': 0.7534526073322364, 'colsample_bytree': 0.42207887175288883, 'alpha': 0.27600933957367607}. Best is trial 29 with value: 45.71956814717989.\n",
      "[I 2023-11-03 13:01:42,747] Trial 32 finished with value: 45.51578929151874 and parameters: {'max_depth': 6, 'eta': 0.25283799528952583, 'gamma': 0.20099501526953137, 'subsample': 0.7018216159905966, 'colsample_bytree': 0.4188355329901825, 'alpha': 0.06803112564617514}. Best is trial 32 with value: 45.51578929151874.\n",
      "[I 2023-11-03 13:01:42,925] Trial 33 finished with value: 45.077672950580045 and parameters: {'max_depth': 6, 'eta': 0.24969616964851774, 'gamma': 0.15336416050836724, 'subsample': 0.7086751037145248, 'colsample_bytree': 0.42770974185566235, 'alpha': 0.06025965590133062}. Best is trial 33 with value: 45.077672950580045.\n",
      "[I 2023-11-03 13:01:43,075] Trial 34 finished with value: 46.31054595517814 and parameters: {'max_depth': 6, 'eta': 0.20712632107787235, 'gamma': 0.1381710094039284, 'subsample': 0.7613741905110878, 'colsample_bytree': 0.426878808792294, 'alpha': 0.09537874638725075}. Best is trial 33 with value: 45.077672950580045.\n",
      "[I 2023-11-03 13:01:43,247] Trial 35 finished with value: 45.99168070290051 and parameters: {'max_depth': 6, 'eta': 0.22667932587768674, 'gamma': 0.15196836592506854, 'subsample': 0.7071087416741422, 'colsample_bytree': 0.5017018078950486, 'alpha': 0.05926043812193819}. Best is trial 33 with value: 45.077672950580045.\n",
      "[I 2023-11-03 13:01:43,382] Trial 36 finished with value: 45.89732700114834 and parameters: {'max_depth': 6, 'eta': 0.24955504995752803, 'gamma': 0.13770501789445794, 'subsample': 0.6982854196784518, 'colsample_bytree': 0.5167508105488998, 'alpha': 0.156495398509986}. Best is trial 33 with value: 45.077672950580045.\n",
      "[I 2023-11-03 13:01:43,532] Trial 37 finished with value: 45.9564271596358 and parameters: {'max_depth': 8, 'eta': 0.2154116442152634, 'gamma': 0.1669519598106419, 'subsample': 0.76914478522127, 'colsample_bytree': 0.4422818881355057, 'alpha': 0.06329148071677725}. Best is trial 33 with value: 45.077672950580045.\n",
      "[I 2023-11-03 13:01:43,675] Trial 38 finished with value: 46.47470235712837 and parameters: {'max_depth': 7, 'eta': 0.2381669536171738, 'gamma': 0.20046177811899563, 'subsample': 0.7392822581352879, 'colsample_bytree': 0.4056863298153243, 'alpha': 0.156027733407187}. Best is trial 33 with value: 45.077672950580045.\n",
      "[I 2023-11-03 13:01:43,802] Trial 39 finished with value: 46.24546309793921 and parameters: {'max_depth': 6, 'eta': 0.2702272069055298, 'gamma': 0.18524703307671245, 'subsample': 0.7863421753765154, 'colsample_bytree': 0.45011421704442567, 'alpha': 0.041246556005016324}. Best is trial 33 with value: 45.077672950580045.\n",
      "[I 2023-11-03 13:01:43,928] Trial 40 finished with value: 45.85484343738038 and parameters: {'max_depth': 5, 'eta': 0.22161645134327895, 'gamma': 0.12520858952195607, 'subsample': 0.731730944427646, 'colsample_bytree': 0.4809992000934087, 'alpha': 0.1198956335137602}. Best is trial 33 with value: 45.077672950580045.\n",
      "[I 2023-11-03 13:01:44,055] Trial 41 finished with value: 45.757680296562775 and parameters: {'max_depth': 5, 'eta': 0.2231446779713701, 'gamma': 0.11975451234699883, 'subsample': 0.7275178680413198, 'colsample_bytree': 0.48437033174317096, 'alpha': 0.10982928598736397}. Best is trial 33 with value: 45.077672950580045.\n",
      "[I 2023-11-03 13:01:44,216] Trial 42 finished with value: 45.87523749220255 and parameters: {'max_depth': 5, 'eta': 0.2444387697016436, 'gamma': 0.11208433988735711, 'subsample': 0.6920259874444579, 'colsample_bytree': 0.4557070665353505, 'alpha': 0.057484468277973946}. Best is trial 33 with value: 45.077672950580045.\n",
      "[I 2023-11-03 13:01:44,381] Trial 43 finished with value: 46.023507746651845 and parameters: {'max_depth': 6, 'eta': 0.2760199084281538, 'gamma': 0.1410354448411539, 'subsample': 0.7717478339039852, 'colsample_bytree': 0.40839063418792626, 'alpha': 0.11073455810354355}. Best is trial 33 with value: 45.077672950580045.\n",
      "[I 2023-11-03 13:01:44,515] Trial 44 finished with value: 45.511865837084606 and parameters: {'max_depth': 6, 'eta': 0.252366078370793, 'gamma': 0.09737581292515425, 'subsample': 0.7995255644748398, 'colsample_bytree': 0.4790219733386577, 'alpha': 0.15767885209318783}. Best is trial 33 with value: 45.077672950580045.\n",
      "[I 2023-11-03 13:01:44,632] Trial 45 finished with value: 45.76879191026534 and parameters: {'max_depth': 6, 'eta': 0.20678656219002084, 'gamma': 0.09725099856810862, 'subsample': 0.7866670710519075, 'colsample_bytree': 0.5249546923432364, 'alpha': 0.23895499653903501}. Best is trial 33 with value: 45.077672950580045.\n",
      "[I 2023-11-03 13:01:44,729] Trial 46 finished with value: 46.32501271150488 and parameters: {'max_depth': 5, 'eta': 0.22972264446134152, 'gamma': 0.08394065396939995, 'subsample': 0.7228346290940558, 'colsample_bytree': 0.474624690104388, 'alpha': 0.11255763806184083}. Best is trial 33 with value: 45.077672950580045.\n",
      "[I 2023-11-03 13:01:44,845] Trial 47 finished with value: 46.43662933738502 and parameters: {'max_depth': 6, 'eta': 0.1901182187727412, 'gamma': 0.1178887252556709, 'subsample': 0.7959723875184745, 'colsample_bytree': 0.5725992185594737, 'alpha': 0.026064792997233743}. Best is trial 33 with value: 45.077672950580045.\n",
      "[I 2023-11-03 13:01:44,962] Trial 48 finished with value: 46.02871774384832 and parameters: {'max_depth': 4, 'eta': 0.24778150899650156, 'gamma': 0.09807207040749617, 'subsample': 0.6394297921308986, 'colsample_bytree': 0.4504483973739742, 'alpha': 0.17833320959722068}. Best is trial 33 with value: 45.077672950580045.\n",
      "[I 2023-11-03 13:01:45,104] Trial 49 finished with value: 46.14304142672916 and parameters: {'max_depth': 5, 'eta': 0.2197174742935274, 'gamma': 0.11410253145188616, 'subsample': 0.6884816529996696, 'colsample_bytree': 0.48935233377711035, 'alpha': 0.038995590005438105}. Best is trial 33 with value: 45.077672950580045.\n",
      "[I 2023-11-03 13:01:45,232] Trial 50 finished with value: 45.96745373327838 and parameters: {'max_depth': 7, 'eta': 0.2561165815781647, 'gamma': 0.12493432543667012, 'subsample': 0.7189836183971421, 'colsample_bytree': 0.6196453135300597, 'alpha': 0.08793682283417069}. Best is trial 33 with value: 45.077672950580045.\n",
      "[I 2023-11-03 13:01:45,384] Trial 51 finished with value: 46.038581867909045 and parameters: {'max_depth': 6, 'eta': 0.2123676661479677, 'gamma': 0.09479005398624944, 'subsample': 0.7757739492087288, 'colsample_bytree': 0.5139753810359029, 'alpha': 0.23480275770653236}. Best is trial 33 with value: 45.077672950580045.\n",
      "[I 2023-11-03 13:01:45,600] Trial 52 finished with value: 46.451715843033234 and parameters: {'max_depth': 6, 'eta': 0.23241105365198306, 'gamma': 0.10767768296024059, 'subsample': 0.7979335877883396, 'colsample_bytree': 0.43316970172244396, 'alpha': 0.13558723130556655}. Best is trial 33 with value: 45.077672950580045.\n",
      "[I 2023-11-03 13:01:45,765] Trial 53 finished with value: 45.906997080536435 and parameters: {'max_depth': 6, 'eta': 0.20297248810522575, 'gamma': 0.09550585026310204, 'subsample': 0.7597004121128632, 'colsample_bytree': 0.5322808591616548, 'alpha': 0.19463832923616997}. Best is trial 33 with value: 45.077672950580045.\n",
      "[I 2023-11-03 13:01:45,885] Trial 54 finished with value: 45.93262590413246 and parameters: {'max_depth': 6, 'eta': 0.20843952553545014, 'gamma': 0.10004483952409263, 'subsample': 0.7321700477741091, 'colsample_bytree': 0.474452849146081, 'alpha': 0.2609634818365254}. Best is trial 33 with value: 45.077672950580045.\n",
      "[I 2023-11-03 13:01:46,005] Trial 55 finished with value: 45.92910834315509 and parameters: {'max_depth': 7, 'eta': 0.19130832010723212, 'gamma': 0.09088437505672838, 'subsample': 0.7753730845728068, 'colsample_bytree': 0.459295664666742, 'alpha': 0.006975504040626912}. Best is trial 33 with value: 45.077672950580045.\n",
      "[I 2023-11-03 13:01:46,151] Trial 56 finished with value: 45.48342001871275 and parameters: {'max_depth': 5, 'eta': 0.28545288707169314, 'gamma': 0.08214284270578989, 'subsample': 0.6772885917948877, 'colsample_bytree': 0.4994781710539057, 'alpha': 0.298075634789342}. Best is trial 33 with value: 45.077672950580045.\n",
      "[I 2023-11-03 13:01:46,247] Trial 57 finished with value: 46.14392597907015 and parameters: {'max_depth': 5, 'eta': 0.27793903124869634, 'gamma': 0.08316641436854975, 'subsample': 0.6756166508583916, 'colsample_bytree': 0.3712557344978705, 'alpha': 0.29996320386546466}. Best is trial 33 with value: 45.077672950580045.\n",
      "[I 2023-11-03 13:01:46,348] Trial 58 finished with value: 45.943695206760424 and parameters: {'max_depth': 4, 'eta': 0.28675750943405726, 'gamma': 0.10286027815865872, 'subsample': 0.7194796775969079, 'colsample_bytree': 0.5019901116698104, 'alpha': 0.14126605942602333}. Best is trial 33 with value: 45.077672950580045.\n",
      "[I 2023-11-03 13:01:46,472] Trial 59 finished with value: 46.200722967515226 and parameters: {'max_depth': 3, 'eta': 0.2538029248672327, 'gamma': 0.12069344195135129, 'subsample': 0.6880163038027458, 'colsample_bytree': 0.4316476911194499, 'alpha': 0.21160625713373638}. Best is trial 33 with value: 45.077672950580045.\n",
      "[I 2023-11-03 13:01:46,586] Trial 60 finished with value: 45.65375456764152 and parameters: {'max_depth': 5, 'eta': 0.2584916332481885, 'gamma': 0.10567415619291512, 'subsample': 0.643777648478758, 'colsample_bytree': 0.39999760506727006, 'alpha': 0.07369713586775525}. Best is trial 33 with value: 45.077672950580045.\n",
      "[I 2023-11-03 13:01:46,687] Trial 61 finished with value: 45.69862082796626 and parameters: {'max_depth': 5, 'eta': 0.26297265440852646, 'gamma': 0.10739864143975131, 'subsample': 0.644522601010825, 'colsample_bytree': 0.48140618021025444, 'alpha': 0.0790177239378384}. Best is trial 33 with value: 45.077672950580045.\n",
      "[I 2023-11-03 13:01:46,806] Trial 62 finished with value: 45.63639197075995 and parameters: {'max_depth': 5, 'eta': 0.2606501059115943, 'gamma': 0.10829094602930225, 'subsample': 0.6425126223905183, 'colsample_bytree': 0.38208041583551994, 'alpha': 0.05099652791506096}. Best is trial 33 with value: 45.077672950580045.\n",
      "[I 2023-11-03 13:01:46,922] Trial 63 finished with value: 46.04630174902111 and parameters: {'max_depth': 5, 'eta': 0.28431651301855865, 'gamma': 0.08913877528050958, 'subsample': 0.6534248812506769, 'colsample_bytree': 0.38430505475728866, 'alpha': 0.06364307014069971}. Best is trial 33 with value: 45.077672950580045.\n",
      "[I 2023-11-03 13:01:47,068] Trial 64 finished with value: 46.109378980116105 and parameters: {'max_depth': 4, 'eta': 0.2667377030601102, 'gamma': 0.10864273812364852, 'subsample': 0.632788710560982, 'colsample_bytree': 0.3873308465230477, 'alpha': 0.04370906605139079}. Best is trial 33 with value: 45.077672950580045.\n",
      "[I 2023-11-03 13:01:47,234] Trial 65 finished with value: 45.64313659650646 and parameters: {'max_depth': 5, 'eta': 0.29955110593199047, 'gamma': 0.08028974993278473, 'subsample': 0.6636319184481009, 'colsample_bytree': 0.3430299444282815, 'alpha': 0.0062125821958769895}. Best is trial 33 with value: 45.077672950580045.\n",
      "[I 2023-11-03 13:01:47,375] Trial 66 finished with value: 45.766971128298444 and parameters: {'max_depth': 4, 'eta': 0.29780823744852275, 'gamma': 0.08447061323188637, 'subsample': 0.6598274128052325, 'colsample_bytree': 0.3525667610599696, 'alpha': 0.0003593183874533463}. Best is trial 33 with value: 45.077672950580045.\n",
      "[I 2023-11-03 13:01:47,508] Trial 67 finished with value: 45.39943659933915 and parameters: {'max_depth': 5, 'eta': 0.28530350421360223, 'gamma': 0.09055636380740957, 'subsample': 0.6179028146888548, 'colsample_bytree': 0.3442417870743064, 'alpha': 0.025611894575328375}. Best is trial 33 with value: 45.077672950580045.\n",
      "[I 2023-11-03 13:01:47,658] Trial 68 finished with value: 45.782946948536605 and parameters: {'max_depth': 5, 'eta': 0.2901782641851476, 'gamma': 0.0804756176197144, 'subsample': 0.6111885682743928, 'colsample_bytree': 0.34278517842706296, 'alpha': 0.028545809077572364}. Best is trial 33 with value: 45.077672950580045.\n",
      "[I 2023-11-03 13:01:47,791] Trial 69 finished with value: 45.91877626424122 and parameters: {'max_depth': 5, 'eta': 0.2826549850508792, 'gamma': 0.09102121291693846, 'subsample': 0.6677987322834776, 'colsample_bytree': 0.37377422514920916, 'alpha': 0.029213377465811017}. Best is trial 33 with value: 45.077672950580045.\n",
      "[I 2023-11-03 13:01:47,883] Trial 70 finished with value: 44.90636516857116 and parameters: {'max_depth': 4, 'eta': 0.2797272950607443, 'gamma': 0.09213991381784842, 'subsample': 0.6273842393864009, 'colsample_bytree': 0.31905151321939956, 'alpha': 0.10696862820627817}. Best is trial 70 with value: 44.90636516857116.\n",
      "[I 2023-11-03 13:01:47,984] Trial 71 finished with value: 45.66675356265629 and parameters: {'max_depth': 3, 'eta': 0.27908527000112504, 'gamma': 0.08851011325745284, 'subsample': 0.6244266245571916, 'colsample_bytree': 0.29834710809333276, 'alpha': 0.10086264307427228}. Best is trial 70 with value: 44.90636516857116.\n",
      "[I 2023-11-03 13:01:48,099] Trial 72 finished with value: 45.88279952789505 and parameters: {'max_depth': 4, 'eta': 0.29453533864831266, 'gamma': 0.08001784942857167, 'subsample': 0.5952714942745846, 'colsample_bytree': 0.3295367877876943, 'alpha': 0.050784748215658274}. Best is trial 70 with value: 44.90636516857116.\n",
      "[I 2023-11-03 13:01:48,187] Trial 73 finished with value: 46.04297755698392 and parameters: {'max_depth': 4, 'eta': 0.2425945714813909, 'gamma': 0.0924613218757326, 'subsample': 0.7045729026472195, 'colsample_bytree': 0.3630908038146176, 'alpha': 0.12351207055349235}. Best is trial 70 with value: 44.90636516857116.\n",
      "[I 2023-11-03 13:01:48,320] Trial 74 finished with value: 45.047178594443935 and parameters: {'max_depth': 6, 'eta': 0.26984208513830943, 'gamma': 0.10047201198837091, 'subsample': 0.6769011070326644, 'colsample_bytree': 0.3347886716708222, 'alpha': 0.0023144074944757703}. Best is trial 70 with value: 44.90636516857116.\n",
      "[I 2023-11-03 13:01:48,432] Trial 75 finished with value: 46.10698148324827 and parameters: {'max_depth': 6, 'eta': 0.27239931727102834, 'gamma': 0.10032561521163037, 'subsample': 0.6811350062773025, 'colsample_bytree': 0.33020736650330484, 'alpha': 0.08689773134578516}. Best is trial 70 with value: 44.90636516857116.\n",
      "[I 2023-11-03 13:01:48,548] Trial 76 finished with value: 46.07709452055091 and parameters: {'max_depth': 6, 'eta': 0.2536308595820865, 'gamma': 0.11380012045598112, 'subsample': 0.6246964811565909, 'colsample_bytree': 0.2833093289406706, 'alpha': 0.13772904042677075}. Best is trial 70 with value: 44.90636516857116.\n",
      "[I 2023-11-03 13:01:48,669] Trial 77 finished with value: 46.48816688001308 and parameters: {'max_depth': 6, 'eta': 0.23752846348181483, 'gamma': 0.10181186885983261, 'subsample': 0.7039148262134789, 'colsample_bytree': 0.41327802324394824, 'alpha': 0.17782371209655512}. Best is trial 70 with value: 44.90636516857116.\n",
      "[I 2023-11-03 13:01:48,773] Trial 78 finished with value: 45.39048268489053 and parameters: {'max_depth': 6, 'eta': 0.26471796519906143, 'gamma': 0.08811916851523766, 'subsample': 0.6811030872610878, 'colsample_bytree': 0.3857337760418436, 'alpha': 0.06202923263166603}. Best is trial 70 with value: 44.90636516857116.\n",
      "[I 2023-11-03 13:01:48,873] Trial 79 finished with value: 46.344392552804436 and parameters: {'max_depth': 6, 'eta': 0.26729214636853943, 'gamma': 0.0943778861177742, 'subsample': 0.6774406826694791, 'colsample_bytree': 0.3611893541303707, 'alpha': 0.09700469565511546}. Best is trial 70 with value: 44.90636516857116.\n",
      "[I 2023-11-03 13:01:49,021] Trial 80 finished with value: 45.600602693236354 and parameters: {'max_depth': 6, 'eta': 0.2841569456534875, 'gamma': 0.088169677444828, 'subsample': 0.749070482872988, 'colsample_bytree': 0.394838141935707, 'alpha': 0.029304323205748717}. Best is trial 70 with value: 44.90636516857116.\n",
      "[I 2023-11-03 13:01:49,154] Trial 81 finished with value: 45.41947348251157 and parameters: {'max_depth': 6, 'eta': 0.2844400279183623, 'gamma': 0.08750784295159311, 'subsample': 0.7491156532598174, 'colsample_bytree': 0.44012049050140417, 'alpha': 0.03260887338812203}. Best is trial 70 with value: 44.90636516857116.\n",
      "[I 2023-11-03 13:01:49,338] Trial 82 finished with value: 45.78536141309677 and parameters: {'max_depth': 6, 'eta': 0.2494385220168047, 'gamma': 0.08670571717239499, 'subsample': 0.7371383970782176, 'colsample_bytree': 0.4220281603329754, 'alpha': 0.07050176567703326}. Best is trial 70 with value: 44.90636516857116.\n",
      "[I 2023-11-03 13:01:49,457] Trial 83 finished with value: 45.51597611424645 and parameters: {'max_depth': 7, 'eta': 0.27712532918825095, 'gamma': 0.10178902993090583, 'subsample': 0.7084351241372442, 'colsample_bytree': 0.43768478867547184, 'alpha': 0.01870354302005567}. Best is trial 70 with value: 44.90636516857116.\n",
      "[I 2023-11-03 13:01:49,568] Trial 84 finished with value: 45.79865725982281 and parameters: {'max_depth': 6, 'eta': 0.2688826437904633, 'gamma': 0.09626257897988455, 'subsample': 0.6865789064599802, 'colsample_bytree': 0.44061353109250845, 'alpha': 0.1136182049913897}. Best is trial 70 with value: 44.90636516857116.\n",
      "[I 2023-11-03 13:01:49,700] Trial 85 finished with value: 45.73269718523864 and parameters: {'max_depth': 6, 'eta': 0.29007188469307277, 'gamma': 0.08555454702680047, 'subsample': 0.7120946201356845, 'colsample_bytree': 0.45873164199758576, 'alpha': 0.06269767221841939}. Best is trial 70 with value: 44.90636516857116.\n",
      "[I 2023-11-03 13:01:49,800] Trial 86 finished with value: 45.65204095697601 and parameters: {'max_depth': 7, 'eta': 0.2596635230580263, 'gamma': 0.0908653364945267, 'subsample': 0.750011861301754, 'colsample_bytree': 0.31545366818840037, 'alpha': 0.16506636346366993}. Best is trial 70 with value: 44.90636516857116.\n",
      "[I 2023-11-03 13:01:49,923] Trial 87 finished with value: 45.563031022072785 and parameters: {'max_depth': 6, 'eta': 0.24189885858876012, 'gamma': 0.09767127518594514, 'subsample': 0.6980381458896547, 'colsample_bytree': 0.4692956731853789, 'alpha': 0.034880875622471885}. Best is trial 70 with value: 44.90636516857116.\n",
      "[I 2023-11-03 13:01:50,041] Trial 88 finished with value: 45.73459370350293 and parameters: {'max_depth': 6, 'eta': 0.24934615404938676, 'gamma': 0.1147296183582879, 'subsample': 0.6638442257803926, 'colsample_bytree': 0.4177414826681986, 'alpha': 0.0020238878806032937}. Best is trial 70 with value: 44.90636516857116.\n",
      "[I 2023-11-03 13:01:50,138] Trial 89 finished with value: 46.397901958196876 and parameters: {'max_depth': 3, 'eta': 0.2773130859022128, 'gamma': 0.10405991133831097, 'subsample': 0.723637631460545, 'colsample_bytree': 0.4041220948141715, 'alpha': 0.13596076391486508}. Best is trial 70 with value: 44.90636516857116.\n",
      "[I 2023-11-03 13:01:50,242] Trial 90 finished with value: 45.50405528762297 and parameters: {'max_depth': 7, 'eta': 0.23369693228498084, 'gamma': 0.131478460129213, 'subsample': 0.7433884130879475, 'colsample_bytree': 0.36606092509497973, 'alpha': 0.09285484449290934}. Best is trial 70 with value: 44.90636516857116.\n",
      "[I 2023-11-03 13:01:50,373] Trial 91 finished with value: 45.62483808563199 and parameters: {'max_depth': 7, 'eta': 0.26823611398385033, 'gamma': 0.09191169610862575, 'subsample': 0.7461424591923858, 'colsample_bytree': 0.36403207803579274, 'alpha': 0.07949681203331699}. Best is trial 70 with value: 44.90636516857116.\n",
      "[I 2023-11-03 13:01:50,490] Trial 92 finished with value: 45.850392619925955 and parameters: {'max_depth': 6, 'eta': 0.2862160586267729, 'gamma': 0.13221811295721084, 'subsample': 0.6926360457369164, 'colsample_bytree': 0.33590087633998605, 'alpha': 0.10940185979497173}. Best is trial 70 with value: 44.90636516857116.\n",
      "[I 2023-11-03 13:01:50,589] Trial 93 finished with value: 45.96334682875781 and parameters: {'max_depth': 7, 'eta': 0.23095360885531235, 'gamma': 0.11093237050164763, 'subsample': 0.7312503988233314, 'colsample_bytree': 0.3195997278995357, 'alpha': 0.05141806690527078}. Best is trial 70 with value: 44.90636516857116.\n",
      "[I 2023-11-03 13:01:50,715] Trial 94 finished with value: 45.96338382953571 and parameters: {'max_depth': 6, 'eta': 0.2564027896661342, 'gamma': 0.08530446424326778, 'subsample': 0.7668141845997356, 'colsample_bytree': 0.34981994002401917, 'alpha': 0.09024636204593157}. Best is trial 70 with value: 44.90636516857116.\n",
      "[I 2023-11-03 13:01:50,859] Trial 95 finished with value: 46.03429659053165 and parameters: {'max_depth': 6, 'eta': 0.23659150228410278, 'gamma': 0.09520234445390553, 'subsample': 0.7194229837190947, 'colsample_bytree': 0.375480194076118, 'alpha': 0.1963245609598065}. Best is trial 70 with value: 44.90636516857116.\n",
      "[I 2023-11-03 13:01:51,007] Trial 96 finished with value: 45.52991092804428 and parameters: {'max_depth': 7, 'eta': 0.26337038399651796, 'gamma': 0.10495828189213566, 'subsample': 0.7819435435050514, 'colsample_bytree': 0.38965552668830045, 'alpha': 0.02003254069736997}. Best is trial 70 with value: 44.90636516857116.\n",
      "[I 2023-11-03 13:01:51,151] Trial 97 finished with value: 46.498518738750796 and parameters: {'max_depth': 6, 'eta': 0.2755780805978639, 'gamma': 0.09993319014906545, 'subsample': 0.6757292916635114, 'colsample_bytree': 0.4230046826873743, 'alpha': 0.15124253298226442}. Best is trial 70 with value: 44.90636516857116.\n",
      "[I 2023-11-03 13:01:51,272] Trial 98 finished with value: 45.82486625563613 and parameters: {'max_depth': 6, 'eta': 0.29088632244353907, 'gamma': 0.11879253131485977, 'subsample': 0.7423622384099127, 'colsample_bytree': 0.45097538567980616, 'alpha': 0.12220274386948196}. Best is trial 70 with value: 44.90636516857116.\n",
      "[I 2023-11-03 13:01:51,425] Trial 99 finished with value: 44.83492018535564 and parameters: {'max_depth': 8, 'eta': 0.24680806399847383, 'gamma': 0.11062562728782996, 'subsample': 0.7652261908799987, 'colsample_bytree': 0.3934269947177924, 'alpha': 0.06332250580516574}. Best is trial 99 with value: 44.83492018535564.\n",
      "[I 2023-11-03 13:01:51,556] Trial 100 finished with value: 45.26095913443182 and parameters: {'max_depth': 8, 'eta': 0.25042110466091044, 'gamma': 0.11075419276695561, 'subsample': 0.7995513643252296, 'colsample_bytree': 0.40319199890381174, 'alpha': 0.043566996535065794}. Best is trial 99 with value: 44.83492018535564.\n",
      "[I 2023-11-03 13:01:51,670] Trial 101 finished with value: 46.14186199723011 and parameters: {'max_depth': 8, 'eta': 0.24376910325169818, 'gamma': 0.1097740837787396, 'subsample': 0.7896414947502675, 'colsample_bytree': 0.3948119535372682, 'alpha': 0.04619921594248259}. Best is trial 99 with value: 44.83492018535564.\n",
      "[I 2023-11-03 13:01:51,790] Trial 102 finished with value: 45.501364261523676 and parameters: {'max_depth': 8, 'eta': 0.25132548073237304, 'gamma': 0.10446953302182393, 'subsample': 0.7984230406739751, 'colsample_bytree': 0.36246203895959667, 'alpha': 0.07287960758739409}. Best is trial 99 with value: 44.83492018535564.\n",
      "[I 2023-11-03 13:01:51,902] Trial 103 finished with value: 45.45821135495584 and parameters: {'max_depth': 8, 'eta': 0.27140116521486607, 'gamma': 0.11566855098189904, 'subsample': 0.7655561985185315, 'colsample_bytree': 0.3591516410107748, 'alpha': 0.06649726412030371}. Best is trial 99 with value: 44.83492018535564.\n",
      "[I 2023-11-03 13:01:52,007] Trial 104 finished with value: 46.01171841273174 and parameters: {'max_depth': 8, 'eta': 0.2718636123301827, 'gamma': 0.10493928462099356, 'subsample': 0.7715924120516885, 'colsample_bytree': 0.3519866934011312, 'alpha': 0.06769507029269012}. Best is trial 99 with value: 44.83492018535564.\n",
      "[I 2023-11-03 13:01:52,120] Trial 105 finished with value: 45.82093215037481 and parameters: {'max_depth': 9, 'eta': 0.26004106734896276, 'gamma': 0.11381232879323314, 'subsample': 0.759361902879042, 'colsample_bytree': 0.33701398309298564, 'alpha': 0.021155932201441123}. Best is trial 99 with value: 44.83492018535564.\n",
      "[I 2023-11-03 13:01:52,243] Trial 106 finished with value: 45.83180578777916 and parameters: {'max_depth': 8, 'eta': 0.2984507332433541, 'gamma': 0.12328810867808815, 'subsample': 0.7825652993759139, 'colsample_bytree': 0.37746625270260936, 'alpha': 0.04257780735049034}. Best is trial 99 with value: 44.83492018535564.\n",
      "[I 2023-11-03 13:01:52,376] Trial 107 finished with value: 45.555191912712665 and parameters: {'max_depth': 8, 'eta': 0.28018872601649764, 'gamma': 0.09208452557852138, 'subsample': 0.7633653513179202, 'colsample_bytree': 0.4021486228718461, 'alpha': 0.0024171520215571785}. Best is trial 99 with value: 44.83492018535564.\n",
      "[I 2023-11-03 13:01:52,491] Trial 108 finished with value: 46.53065699962044 and parameters: {'max_depth': 8, 'eta': 0.22517725656051993, 'gamma': 0.11772102012932127, 'subsample': 0.7885940180081998, 'colsample_bytree': 0.3092067759984865, 'alpha': 0.07791963391376573}. Best is trial 99 with value: 44.83492018535564.\n",
      "[I 2023-11-03 13:01:52,606] Trial 109 finished with value: 45.69355928951276 and parameters: {'max_depth': 8, 'eta': 0.26402655204577863, 'gamma': 0.09980666010191788, 'subsample': 0.7724178540401855, 'colsample_bytree': 0.35354739384650524, 'alpha': 0.052008417961410244}. Best is trial 99 with value: 44.83492018535564.\n",
      "[I 2023-11-03 13:01:52,737] Trial 110 finished with value: 45.56049279146748 and parameters: {'max_depth': 8, 'eta': 0.24666732259393453, 'gamma': 0.08361210904049253, 'subsample': 0.7564580958292944, 'colsample_bytree': 0.38211047918038643, 'alpha': 0.1020839995953621}. Best is trial 99 with value: 44.83492018535564.\n",
      "[I 2023-11-03 13:01:52,841] Trial 111 finished with value: 45.430106293328535 and parameters: {'max_depth': 8, 'eta': 0.2714069511313457, 'gamma': 0.1276038485242991, 'subsample': 0.7361442593040104, 'colsample_bytree': 0.3686964224727588, 'alpha': 0.09325687949295247}. Best is trial 99 with value: 44.83492018535564.\n",
      "[I 2023-11-03 13:01:52,961] Trial 112 finished with value: 45.51750803169002 and parameters: {'max_depth': 9, 'eta': 0.2862490339917707, 'gamma': 0.11028835955440397, 'subsample': 0.7977711528040018, 'colsample_bytree': 0.3252263660811636, 'alpha': 0.02580340397728567}. Best is trial 99 with value: 44.83492018535564.\n",
      "[I 2023-11-03 13:01:53,094] Trial 113 finished with value: 45.16504126402358 and parameters: {'max_depth': 8, 'eta': 0.27517297893007736, 'gamma': 0.10671104583367996, 'subsample': 0.7334166767079697, 'colsample_bytree': 0.36376705746371746, 'alpha': 0.12855742462722164}. Best is trial 99 with value: 44.83492018535564.\n",
      "[I 2023-11-03 13:01:53,210] Trial 114 finished with value: 46.171964871944255 and parameters: {'max_depth': 8, 'eta': 0.2744622382542614, 'gamma': 0.1251279718349525, 'subsample': 0.7329735420784594, 'colsample_bytree': 0.3407746115480042, 'alpha': 0.12943251286523372}. Best is trial 99 with value: 44.83492018535564.\n",
      "[I 2023-11-03 13:01:53,359] Trial 115 finished with value: 44.977394170789374 and parameters: {'max_depth': 8, 'eta': 0.29222910069801916, 'gamma': 0.1153448993198595, 'subsample': 0.709679197570408, 'colsample_bytree': 0.41036084062336964, 'alpha': 0.09810938960346437}. Best is trial 99 with value: 44.83492018535564.\n",
      "[I 2023-11-03 13:01:53,495] Trial 116 finished with value: 45.709486355210146 and parameters: {'max_depth': 8, 'eta': 0.2941237448490938, 'gamma': 0.11594855905955746, 'subsample': 0.7180982635354323, 'colsample_bytree': 0.38839355389423535, 'alpha': 0.10999852973299833}. Best is trial 99 with value: 44.83492018535564.\n",
      "[I 2023-11-03 13:01:53,610] Trial 117 finished with value: 45.5305459251797 and parameters: {'max_depth': 8, 'eta': 0.267684380292969, 'gamma': 0.12117244109912995, 'subsample': 0.7368065070693812, 'colsample_bytree': 0.404499779473466, 'alpha': 0.03999555578326114}. Best is trial 99 with value: 44.83492018535564.\n",
      "[I 2023-11-03 13:01:53,727] Trial 118 finished with value: 46.140866830140226 and parameters: {'max_depth': 9, 'eta': 0.29995863609213214, 'gamma': 0.12993958572604766, 'subsample': 0.709355322154678, 'colsample_bytree': 0.3754969611985415, 'alpha': 0.06457467337977954}. Best is trial 99 with value: 44.83492018535564.\n",
      "[I 2023-11-03 13:01:53,843] Trial 119 finished with value: 45.93092269772016 and parameters: {'max_depth': 8, 'eta': 0.2786651209174689, 'gamma': 0.1110319908074541, 'subsample': 0.6956459448108961, 'colsample_bytree': 0.431096720778577, 'alpha': 0.08604693716441603}. Best is trial 99 with value: 44.83492018535564.\n",
      "[I 2023-11-03 13:01:53,962] Trial 120 finished with value: 46.14805366581409 and parameters: {'max_depth': 8, 'eta': 0.2592806379177778, 'gamma': 0.12781404688038162, 'subsample': 0.7565273733837684, 'colsample_bytree': 0.2991899873395823, 'alpha': 0.013635142110633929}. Best is trial 99 with value: 44.83492018535564.\n",
      "[I 2023-11-03 13:01:54,089] Trial 121 finished with value: 46.408347243546075 and parameters: {'max_depth': 8, 'eta': 0.2833600493399598, 'gamma': 0.08845439258565814, 'subsample': 0.6543635932372941, 'colsample_bytree': 0.41223826783190826, 'alpha': 0.13060387976855029}. Best is trial 99 with value: 44.83492018535564.\n",
      "[I 2023-11-03 13:01:54,205] Trial 122 finished with value: 45.66749837864195 and parameters: {'max_depth': 8, 'eta': 0.2923395145914817, 'gamma': 0.10678501558380599, 'subsample': 0.6825913173244199, 'colsample_bytree': 0.4422467275498291, 'alpha': 0.16840332751231105}. Best is trial 99 with value: 44.83492018535564.\n",
      "[I 2023-11-03 13:01:54,329] Trial 123 finished with value: 45.57191371588306 and parameters: {'max_depth': 8, 'eta': 0.2700926547209133, 'gamma': 0.09479073573392588, 'subsample': 0.7239450048804823, 'colsample_bytree': 0.39635114715124303, 'alpha': 0.09863689176555276}. Best is trial 99 with value: 44.83492018535564.\n",
      "[I 2023-11-03 13:01:54,444] Trial 124 finished with value: 45.47481922639682 and parameters: {'max_depth': 9, 'eta': 0.28354930745859414, 'gamma': 0.0992874480746205, 'subsample': 0.7095130812818788, 'colsample_bytree': 0.35446677567547596, 'alpha': 0.1483312799048548}. Best is trial 99 with value: 44.83492018535564.\n",
      "[I 2023-11-03 13:01:54,562] Trial 125 finished with value: 45.99290096064294 and parameters: {'max_depth': 9, 'eta': 0.2733908489080995, 'gamma': 0.11518699946149002, 'subsample': 0.706340522043693, 'colsample_bytree': 0.3269494219723174, 'alpha': 0.14924490060488513}. Best is trial 99 with value: 44.83492018535564.\n",
      "[I 2023-11-03 13:01:54,677] Trial 126 finished with value: 45.928478856457104 and parameters: {'max_depth': 9, 'eta': 0.2553462946360969, 'gamma': 0.12119536918001081, 'subsample': 0.7394547256519789, 'colsample_bytree': 0.35741378722669415, 'alpha': 0.06123921821646309}. Best is trial 99 with value: 44.83492018535564.\n",
      "[I 2023-11-03 13:01:54,805] Trial 127 finished with value: 45.353336923186006 and parameters: {'max_depth': 9, 'eta': 0.28355041441958945, 'gamma': 0.1001369115991272, 'subsample': 0.7166824269513031, 'colsample_bytree': 0.3778501909510544, 'alpha': 0.032637148610800304}. Best is trial 99 with value: 44.83492018535564.\n",
      "[I 2023-11-03 13:01:54,928] Trial 128 finished with value: 46.168355036785975 and parameters: {'max_depth': 9, 'eta': 0.2654798458094498, 'gamma': 0.1032946626724569, 'subsample': 0.7290706414954354, 'colsample_bytree': 0.3687232421661148, 'alpha': 0.03018049460419421}. Best is trial 99 with value: 44.83492018535564.\n",
      "[I 2023-11-03 13:01:55,064] Trial 129 finished with value: 45.316010595886866 and parameters: {'max_depth': 7, 'eta': 0.2806132478484737, 'gamma': 0.10929033444530027, 'subsample': 0.7489761247767769, 'colsample_bytree': 0.3831453852937818, 'alpha': 0.04298683732089911}. Best is trial 99 with value: 44.83492018535564.\n"
     ]
    },
    {
     "name": "stdout",
     "output_type": "stream",
     "text": [
      "Number of finished trials: 130\n",
      "Best trial: {'max_depth': 8, 'eta': 0.24680806399847383, 'gamma': 0.11062562728782996, 'subsample': 0.7652261908799987, 'colsample_bytree': 0.3934269947177924, 'alpha': 0.06332250580516574}\n"
     ]
    }
   ],
   "source": [
    "# WITH SPLITTING\n",
    "# Use Bayesian as the hyper parameter tuning method\n",
    "\n",
    "import optuna\n",
    "\n",
    "# Define the objective function\n",
    "def objective(trial):\n",
    "    params = {\n",
    "        'max_depth': trial.suggest_int('max_depth', 3, 9),\n",
    "        'eta': trial.suggest_loguniform('eta', 0.08, 0.3),\n",
    "        'gamma': trial.suggest_uniform('gamma', 0.08, 0.3),\n",
    "        'subsample': trial.suggest_uniform('subsample', 0.2, 0.8),\n",
    "        'colsample_bytree': trial.suggest_uniform('colsample_bytree', 0.2, 0.8),\n",
    "        'alpha': trial.suggest_uniform('alpha', 0, 1)\n",
    "    }\n",
    "    reg = xgb.XGBRanker(**params, objective='rank:pairwise', eval_metric='rmse')\n",
    "        \n",
    "    reg.fit(X_train, y_train, group=np.full(14,98))\n",
    "\n",
    "    X_test_split_6 = np.array_split(X_test, 6)\n",
    "\n",
    "    y_pred_rank = []\n",
    "    for i in X_test_split_6:\n",
    "        y_pred = reg.predict(i)\n",
    "        mapped_rank = np.argsort(y_pred)[::-1] + 3\n",
    "        y_pred_rank.append(mapped_rank)\n",
    "\n",
    "    rmse = np.sqrt(mean_squared_error(list(chain(*y_pred_rank)), y_test))\n",
    "    return rmse\n",
    "\n",
    "# Create a study object and optimize the objective function\n",
    "study = optuna.create_study(direction='minimize')\n",
    "study.optimize(objective, n_trials=130)\n",
    "\n",
    "# Results\n",
    "warnings.simplefilter('ignore', FutureWarning)\n",
    "print('Number of finished trials:', len(study.trials))\n",
    "print('Best trial:', study.best_trial.params)\n"
   ]
  },
  {
   "cell_type": "code",
   "execution_count": 16,
   "metadata": {},
   "outputs": [
    {
     "name": "stdout",
     "output_type": "stream",
     "text": [
      "44.83492018535564\n"
     ]
    }
   ],
   "source": [
    "# WITH SPLITTING\n",
    "reg = xgb.XGBRanker(max_depth = 8, \n",
    "                    eta = 0.24680806399847383,\n",
    "                    gamma = 0.11062562728782996,\n",
    "                    subsample = 0.7652261908799987,\n",
    "                    colsample_bytree = 0.3934269947177924,\n",
    "                    alpha = 0.06332250580516574,\n",
    "                    objective = \"rank:pairwise\",\n",
    "                    eval_metric = \"rmse\")\n",
    "\n",
    "reg.fit(X_train, y_train, group = np.full(14,98))\n",
    "\n",
    "X_test_split_6 = np.array_split(X_test, 6)\n",
    "\n",
    "y_pred_rank = []\n",
    "for i in X_test_split_6:\n",
    "    y_pred = reg.predict(i)\n",
    "    mapped_rank = np.argsort(y_pred)[::-1] + 3\n",
    "    y_pred_rank.append(mapped_rank)\n",
    "\n",
    "print(np.sqrt(mean_squared_error(list(chain(*y_pred_rank)), y_test)))\n",
    "\n",
    "# yay, rmse is lower! yippee"
   ]
  },
  {
   "cell_type": "markdown",
   "metadata": {},
   "source": [
    "### Q3. Use `rank:ndcg` for `objective` and `rmse` for `eval_metric`. Redo Question 6. (10 points)"
   ]
  },
  {
   "cell_type": "code",
   "execution_count": 18,
   "metadata": {},
   "outputs": [],
   "source": [
    "# Model and Parameter Setting \n",
    "# Use xgb.XGBRanker\n",
    "# Use parameters below first and you can adjust it later.\n",
    "reg = xgb.XGBRanker(max_depth = 6, \n",
    "                           eta = 0.1, \n",
    "                           gamma = 0.1,\n",
    "                           subsample = 0.8,\n",
    "                           colsample_bytree = 0.8,\n",
    "                           alpha = 0.5,\n",
    "                           objective = \"rank:ndcg\",\n",
    "                           eval_metric = \"rmse\")"
   ]
  },
  {
   "cell_type": "code",
   "execution_count": 19,
   "metadata": {},
   "outputs": [],
   "source": [
    "# Data Input\n",
    "feature_col =[\"TitleFlag\", \"TitleDensity\", \"URLFlag\", \"URLDensity\", \"MetaFlag\", \"MetaDensity\", \"PageAuthority\", \"DomainAuthority\", \"LinkingDomain\", \"InboundLink\" , \"RankingKeyword\" ]\n",
    "train_data = pd.read_csv(\"Train_dta.csv\") \n",
    "test_data = pd.read_csv(\"Test_dta.csv\") \n",
    "\n",
    "train_feature = pd.read_csv(\"Train_dta.csv\",usecols=feature_col)\n",
    "train_label = pd.read_csv(\"Train_dta.csv\",usecols=[\"ReverseRank\"]) \n",
    "\n",
    "test_feature = pd.read_csv(\"Test_dta.csv\",usecols=feature_col)\n",
    "test_label = pd.read_csv(\"Test_dta.csv\",usecols=[\"ReverseRank\"]) \n",
    "\n",
    "X_train = train_feature # trainig feature, as a dataframe in pandas\n",
    "X_test = test_feature # test feature, as a df \n",
    "\n",
    "y_train = train_label.values # training label, as a numpy array\n",
    "y_test = test_label.values # test label, as a np array"
   ]
  },
  {
   "cell_type": "code",
   "execution_count": 20,
   "metadata": {},
   "outputs": [],
   "source": [
    "def scale_relevance_scores(y_train, new_min=0, new_max=31):\n",
    "    old_min = np.min(y_train)\n",
    "    old_max = np.max(y_train)\n",
    "    \n",
    "    scaled_scores = (y_train - old_min) / (old_max - old_min) * (new_max - new_min) + new_min\n",
    "    return np.round(scaled_scores).astype(int)\n",
    "\n",
    "y_train_scaled = scale_relevance_scores(y_train)\n"
   ]
  },
  {
   "cell_type": "code",
   "execution_count": 21,
   "metadata": {},
   "outputs": [
    {
     "data": {
      "text/html": [
       "<style>#sk-container-id-2 {color: black;}#sk-container-id-2 pre{padding: 0;}#sk-container-id-2 div.sk-toggleable {background-color: white;}#sk-container-id-2 label.sk-toggleable__label {cursor: pointer;display: block;width: 100%;margin-bottom: 0;padding: 0.3em;box-sizing: border-box;text-align: center;}#sk-container-id-2 label.sk-toggleable__label-arrow:before {content: \"▸\";float: left;margin-right: 0.25em;color: #696969;}#sk-container-id-2 label.sk-toggleable__label-arrow:hover:before {color: black;}#sk-container-id-2 div.sk-estimator:hover label.sk-toggleable__label-arrow:before {color: black;}#sk-container-id-2 div.sk-toggleable__content {max-height: 0;max-width: 0;overflow: hidden;text-align: left;background-color: #f0f8ff;}#sk-container-id-2 div.sk-toggleable__content pre {margin: 0.2em;color: black;border-radius: 0.25em;background-color: #f0f8ff;}#sk-container-id-2 input.sk-toggleable__control:checked~div.sk-toggleable__content {max-height: 200px;max-width: 100%;overflow: auto;}#sk-container-id-2 input.sk-toggleable__control:checked~label.sk-toggleable__label-arrow:before {content: \"▾\";}#sk-container-id-2 div.sk-estimator input.sk-toggleable__control:checked~label.sk-toggleable__label {background-color: #d4ebff;}#sk-container-id-2 div.sk-label input.sk-toggleable__control:checked~label.sk-toggleable__label {background-color: #d4ebff;}#sk-container-id-2 input.sk-hidden--visually {border: 0;clip: rect(1px 1px 1px 1px);clip: rect(1px, 1px, 1px, 1px);height: 1px;margin: -1px;overflow: hidden;padding: 0;position: absolute;width: 1px;}#sk-container-id-2 div.sk-estimator {font-family: monospace;background-color: #f0f8ff;border: 1px dotted black;border-radius: 0.25em;box-sizing: border-box;margin-bottom: 0.5em;}#sk-container-id-2 div.sk-estimator:hover {background-color: #d4ebff;}#sk-container-id-2 div.sk-parallel-item::after {content: \"\";width: 100%;border-bottom: 1px solid gray;flex-grow: 1;}#sk-container-id-2 div.sk-label:hover label.sk-toggleable__label {background-color: #d4ebff;}#sk-container-id-2 div.sk-serial::before {content: \"\";position: absolute;border-left: 1px solid gray;box-sizing: border-box;top: 0;bottom: 0;left: 50%;z-index: 0;}#sk-container-id-2 div.sk-serial {display: flex;flex-direction: column;align-items: center;background-color: white;padding-right: 0.2em;padding-left: 0.2em;position: relative;}#sk-container-id-2 div.sk-item {position: relative;z-index: 1;}#sk-container-id-2 div.sk-parallel {display: flex;align-items: stretch;justify-content: center;background-color: white;position: relative;}#sk-container-id-2 div.sk-item::before, #sk-container-id-2 div.sk-parallel-item::before {content: \"\";position: absolute;border-left: 1px solid gray;box-sizing: border-box;top: 0;bottom: 0;left: 50%;z-index: -1;}#sk-container-id-2 div.sk-parallel-item {display: flex;flex-direction: column;z-index: 1;position: relative;background-color: white;}#sk-container-id-2 div.sk-parallel-item:first-child::after {align-self: flex-end;width: 50%;}#sk-container-id-2 div.sk-parallel-item:last-child::after {align-self: flex-start;width: 50%;}#sk-container-id-2 div.sk-parallel-item:only-child::after {width: 0;}#sk-container-id-2 div.sk-dashed-wrapped {border: 1px dashed gray;margin: 0 0.4em 0.5em 0.4em;box-sizing: border-box;padding-bottom: 0.4em;background-color: white;}#sk-container-id-2 div.sk-label label {font-family: monospace;font-weight: bold;display: inline-block;line-height: 1.2em;}#sk-container-id-2 div.sk-label-container {text-align: center;}#sk-container-id-2 div.sk-container {/* jupyter's `normalize.less` sets `[hidden] { display: none; }` but bootstrap.min.css set `[hidden] { display: none !important; }` so we also need the `!important` here to be able to override the default hidden behavior on the sphinx rendered scikit-learn.org. See: https://github.com/scikit-learn/scikit-learn/issues/21755 */display: inline-block !important;position: relative;}#sk-container-id-2 div.sk-text-repr-fallback {display: none;}</style><div id=\"sk-container-id-2\" class=\"sk-top-container\"><div class=\"sk-text-repr-fallback\"><pre>XGBRanker(alpha=0.5, base_score=None, booster=None, callbacks=None,\n",
       "          colsample_bylevel=None, colsample_bynode=None, colsample_bytree=0.8,\n",
       "          device=None, early_stopping_rounds=None, enable_categorical=False,\n",
       "          eta=0.1, eval_metric=&#x27;rmse&#x27;, feature_types=None, gamma=0.1,\n",
       "          grow_policy=None, importance_type=None, interaction_constraints=None,\n",
       "          learning_rate=None, max_bin=None, max_cat_threshold=None,\n",
       "          max_cat_to_onehot=None, max_delta_step=None, max_depth=6,\n",
       "          max_leaves=None, min_child_weight=None, missing=nan,\n",
       "          monotone_constraints=None, multi_strategy=None, n_estimators=None,\n",
       "          n_jobs=None, ...)</pre><b>In a Jupyter environment, please rerun this cell to show the HTML representation or trust the notebook. <br />On GitHub, the HTML representation is unable to render, please try loading this page with nbviewer.org.</b></div><div class=\"sk-container\" hidden><div class=\"sk-item\"><div class=\"sk-estimator sk-toggleable\"><input class=\"sk-toggleable__control sk-hidden--visually\" id=\"sk-estimator-id-2\" type=\"checkbox\" checked><label for=\"sk-estimator-id-2\" class=\"sk-toggleable__label sk-toggleable__label-arrow\">XGBRanker</label><div class=\"sk-toggleable__content\"><pre>XGBRanker(alpha=0.5, base_score=None, booster=None, callbacks=None,\n",
       "          colsample_bylevel=None, colsample_bynode=None, colsample_bytree=0.8,\n",
       "          device=None, early_stopping_rounds=None, enable_categorical=False,\n",
       "          eta=0.1, eval_metric=&#x27;rmse&#x27;, feature_types=None, gamma=0.1,\n",
       "          grow_policy=None, importance_type=None, interaction_constraints=None,\n",
       "          learning_rate=None, max_bin=None, max_cat_threshold=None,\n",
       "          max_cat_to_onehot=None, max_delta_step=None, max_depth=6,\n",
       "          max_leaves=None, min_child_weight=None, missing=nan,\n",
       "          monotone_constraints=None, multi_strategy=None, n_estimators=None,\n",
       "          n_jobs=None, ...)</pre></div></div></div></div></div>"
      ],
      "text/plain": [
       "XGBRanker(alpha=0.5, base_score=None, booster=None, callbacks=None,\n",
       "          colsample_bylevel=None, colsample_bynode=None, colsample_bytree=0.8,\n",
       "          device=None, early_stopping_rounds=None, enable_categorical=False,\n",
       "          eta=0.1, eval_metric='rmse', feature_types=None, gamma=0.1,\n",
       "          grow_policy=None, importance_type=None, interaction_constraints=None,\n",
       "          learning_rate=None, max_bin=None, max_cat_threshold=None,\n",
       "          max_cat_to_onehot=None, max_delta_step=None, max_depth=6,\n",
       "          max_leaves=None, min_child_weight=None, missing=nan,\n",
       "          monotone_constraints=None, multi_strategy=None, n_estimators=None,\n",
       "          n_jobs=None, ...)"
      ]
     },
     "execution_count": 21,
     "metadata": {},
     "output_type": "execute_result"
    }
   ],
   "source": [
    "# Fit the model by your_model.fit(X_train, y_train, group = np.full(14,98))\n",
    "reg.fit(X_train, y_train_scaled, group = np.full(14,98))"
   ]
  },
  {
   "cell_type": "code",
   "execution_count": 159,
   "metadata": {},
   "outputs": [
    {
     "data": {
      "image/png": "[encoded data removed]",
      "text/plain": [
       "<Figure size 640x480 with 1 Axes>"
      ]
     },
     "metadata": {},
     "output_type": "display_data"
    }
   ],
   "source": [
    "# Show the feature importance plot. Use plot_importance(your_model, importance_type = 'gain')\n",
    "ax = plot_importance(reg, importance_type= 'gain')\n",
    "ax.set_xlabel('Gain')\n",
    "plt.show()"
   ]
  },
  {
   "cell_type": "markdown",
   "metadata": {},
   "source": [
    "**Please interpret the importance value of the most important variable.** (5 points)"
   ]
  },
  {
   "cell_type": "markdown",
   "metadata": {},
   "source": [
    "*ANSWER: HERE* <br>\n",
    "The most important variable is URLDensity with an average gain of 1.07437. Since it has the highest average gain, it contributes more to the accuracy of the model. When URLDensity is being used in a split, on average, it reduces the prediction error the most."
   ]
  },
  {
   "cell_type": "code",
   "execution_count": 22,
   "metadata": {},
   "outputs": [],
   "source": [
    "# Make prediction: y_pred is the predicted output from your model, y_pred_rank is the actual rank you get\n",
    "X_test_split_6 = np.array_split(X_test, 6)\n",
    "\n",
    "y_pred_rank = []\n",
    "for i in X_test_split_6:\n",
    "    y_pred = reg.predict(i)\n",
    "    mapped_rank = np.argsort(y_pred)[::-1] + 3\n",
    "    y_pred_rank.append(mapped_rank)"
   ]
  },
  {
   "cell_type": "code",
   "execution_count": 23,
   "metadata": {
    "scrolled": true
   },
   "outputs": [
    {
     "name": "stdout",
     "output_type": "stream",
     "text": [
      "45.78955856381876\n"
     ]
    }
   ],
   "source": [
    "# Print RMSE, y_test is a numpy array from test_label, y_pred_rank is a numpy array from your model prediction\n",
    "print(np.sqrt(mean_squared_error(list(chain(*y_pred_rank)), y_test)))"
   ]
  },
  {
   "cell_type": "markdown",
   "metadata": {},
   "source": [
    "**Try different combinations of the hyper-parameters to get a lower RMSE.** (5 points)\n",
    "\n",
    "Please note that you can use any hyper-parameter tuning techniques in the lecture. The points are not awarded based on the exact number of RMSE. As long as it is lower than the original values and you can justify the technique you use, you will be awarded the points."
   ]
  },
  {
   "cell_type": "markdown",
   "metadata": {},
   "source": [
    "### Tuning method selected: Bayesian Optimisation\n",
    "Justification:\n",
    "- It can utilize the historical values of the hyper-parameters previously sampled. The historical values can be incorporated into the sample range. For XGBRanker, this can help direct the optimization process when some domain knowledge is available about the problem.\n",
    "- It is efficient -- needs to sample fewer points to learn the minimum point of $f$. This is particularly useful for XGBRanker, where each evaluation might require training a complex model on a large dataset."
   ]
  },
  {
   "cell_type": "code",
   "execution_count": 24,
   "metadata": {},
   "outputs": [
    {
     "name": "stderr",
     "output_type": "stream",
     "text": [
      "[I 2023-11-03 13:03:34,450] A new study created in memory with name: no-name-3d5c7ae2-952a-4ef5-b29e-14bca883ed47\n",
      "[I 2023-11-03 13:03:34,555] Trial 0 finished with value: 46.56335746596675 and parameters: {'max_depth': 6, 'eta': 0.09284438650530796, 'gamma': 0.09660755940054537, 'subsample': 0.3799251879785379, 'colsample_bytree': 0.7524294242554104, 'alpha': 0.5585253798989376}. Best is trial 0 with value: 46.56335746596675.\n",
      "[I 2023-11-03 13:03:34,654] Trial 1 finished with value: 46.57957130100098 and parameters: {'max_depth': 5, 'eta': 0.09518970155706598, 'gamma': 0.10853741190835015, 'subsample': 0.817969193410623, 'colsample_bytree': 0.3962068362372736, 'alpha': 0.5086215939387683}. Best is trial 0 with value: 46.56335746596675.\n",
      "[I 2023-11-03 13:03:34,771] Trial 2 finished with value: 46.370036360874714 and parameters: {'max_depth': 5, 'eta': 0.11437778274978821, 'gamma': 0.09721200376172712, 'subsample': 0.49777462036045145, 'colsample_bytree': 0.6368283047220669, 'alpha': 0.2306981163584576}. Best is trial 2 with value: 46.370036360874714.\n",
      "[I 2023-11-03 13:03:34,934] Trial 3 finished with value: 47.0381593535945 and parameters: {'max_depth': 8, 'eta': 0.10312297292274634, 'gamma': 0.11095330163205366, 'subsample': 0.2692879430779385, 'colsample_bytree': 0.9581212331686311, 'alpha': 0.12560085157671852}. Best is trial 2 with value: 46.370036360874714.\n",
      "[I 2023-11-03 13:03:35,035] Trial 4 finished with value: 46.40281336767604 and parameters: {'max_depth': 7, 'eta': 0.09282707722431198, 'gamma': 0.10005834075394333, 'subsample': 0.5666593146807555, 'colsample_bytree': 0.5107571487084173, 'alpha': 0.3094247738631287}. Best is trial 2 with value: 46.370036360874714.\n",
      "[I 2023-11-03 13:03:35,137] Trial 5 finished with value: 45.95446578048828 and parameters: {'max_depth': 8, 'eta': 0.10694928315899897, 'gamma': 0.11034346246210791, 'subsample': 0.6051269868391681, 'colsample_bytree': 0.7038502803238562, 'alpha': 0.7266806514868197}. Best is trial 5 with value: 45.95446578048828.\n",
      "[I 2023-11-03 13:03:35,236] Trial 6 finished with value: 46.551814449830296 and parameters: {'max_depth': 5, 'eta': 0.10736420963659417, 'gamma': 0.11388949098585976, 'subsample': 0.3184654525982577, 'colsample_bytree': 0.21765943141968327, 'alpha': 0.6324221065047699}. Best is trial 5 with value: 45.95446578048828.\n",
      "[I 2023-11-03 13:03:35,337] Trial 7 finished with value: 46.60150942053389 and parameters: {'max_depth': 6, 'eta': 0.10304809372472225, 'gamma': 0.10106031536538146, 'subsample': 0.4649702718657376, 'colsample_bytree': 0.24480877072152119, 'alpha': 0.2722843765271058}. Best is trial 5 with value: 45.95446578048828.\n",
      "[I 2023-11-03 13:03:35,472] Trial 8 finished with value: 46.67538791198948 and parameters: {'max_depth': 7, 'eta': 0.08984123447220267, 'gamma': 0.09005200303185225, 'subsample': 0.6917398264128101, 'colsample_bytree': 0.2560387655676271, 'alpha': 0.6144539687260161}. Best is trial 5 with value: 45.95446578048828.\n",
      "[I 2023-11-03 13:03:35,604] Trial 9 finished with value: 46.266383382457256 and parameters: {'max_depth': 7, 'eta': 0.09911956903973132, 'gamma': 0.08154495336841078, 'subsample': 0.43678930593531934, 'colsample_bytree': 0.757341544027262, 'alpha': 0.3244187653856787}. Best is trial 5 with value: 45.95446578048828.\n",
      "[I 2023-11-03 13:03:35,737] Trial 10 finished with value: 45.70297479116545 and parameters: {'max_depth': 8, 'eta': 0.0842392831909352, 'gamma': 0.1172588817755043, 'subsample': 0.9598097335177295, 'colsample_bytree': 0.9132812871569141, 'alpha': 0.8933882721860351}. Best is trial 10 with value: 45.70297479116545.\n",
      "[I 2023-11-03 13:03:35,858] Trial 11 finished with value: 45.69620178026678 and parameters: {'max_depth': 8, 'eta': 0.08216379422155473, 'gamma': 0.11967469329662045, 'subsample': 0.9872624007082802, 'colsample_bytree': 0.9363876382591217, 'alpha': 0.8862784633865467}. Best is trial 11 with value: 45.69620178026678.\n",
      "[I 2023-11-03 13:03:35,955] Trial 12 finished with value: 45.76466717790879 and parameters: {'max_depth': 8, 'eta': 0.0813938752035278, 'gamma': 0.11973269668636644, 'subsample': 0.9831945356932423, 'colsample_bytree': 0.9761726385605998, 'alpha': 0.999602116061397}. Best is trial 11 with value: 45.69620178026678.\n",
      "[I 2023-11-03 13:03:36,079] Trial 13 finished with value: 46.16629214710929 and parameters: {'max_depth': 4, 'eta': 0.08159934004329314, 'gamma': 0.11986633394290735, 'subsample': 0.9876811371486719, 'colsample_bytree': 0.8748419101942118, 'alpha': 0.9051029666085817}. Best is trial 11 with value: 45.69620178026678.\n",
      "[I 2023-11-03 13:03:36,186] Trial 14 finished with value: 45.91914662981973 and parameters: {'max_depth': 8, 'eta': 0.08634361468239903, 'gamma': 0.11707086708028161, 'subsample': 0.8590984091255449, 'colsample_bytree': 0.8540141102934496, 'alpha': 0.79989825435305}. Best is trial 11 with value: 45.69620178026678.\n",
      "[I 2023-11-03 13:03:36,286] Trial 15 finished with value: 45.801070896192975 and parameters: {'max_depth': 7, 'eta': 0.08653809351879199, 'gamma': 0.11540388085459936, 'subsample': 0.8689632169649368, 'colsample_bytree': 0.9940262587107535, 'alpha': 0.8390393682432353}. Best is trial 11 with value: 45.69620178026678.\n",
      "[I 2023-11-03 13:03:36,402] Trial 16 finished with value: 45.949654495973306 and parameters: {'max_depth': 8, 'eta': 0.08070455922629713, 'gamma': 0.10518142496572953, 'subsample': 0.7338553634795958, 'colsample_bytree': 0.831134411528145, 'alpha': 0.731794166637133}. Best is trial 11 with value: 45.69620178026678.\n",
      "[I 2023-11-03 13:03:36,527] Trial 17 finished with value: 45.84501397232254 and parameters: {'max_depth': 7, 'eta': 0.08582863479796801, 'gamma': 0.11502280949746417, 'subsample': 0.9778501776743154, 'colsample_bytree': 0.9315770980109646, 'alpha': 0.9985088182023191}. Best is trial 11 with value: 45.69620178026678.\n",
      "[I 2023-11-03 13:03:36,706] Trial 18 finished with value: 45.557469126338425 and parameters: {'max_depth': 6, 'eta': 0.0841458165717255, 'gamma': 0.10669614588091789, 'subsample': 0.90344515317769, 'colsample_bytree': 0.8192432752455797, 'alpha': 0.8783926659773629}. Best is trial 18 with value: 45.557469126338425.\n",
      "[I 2023-11-03 13:03:36,873] Trial 19 finished with value: 46.96604649967382 and parameters: {'max_depth': 6, 'eta': 0.08937015753331588, 'gamma': 0.1048000736509086, 'subsample': 0.8924390411652579, 'colsample_bytree': 0.7995879443387208, 'alpha': 0.43329277049106724}. Best is trial 18 with value: 45.557469126338425.\n",
      "[I 2023-11-03 13:03:37,006] Trial 20 finished with value: 45.67021685390812 and parameters: {'max_depth': 4, 'eta': 0.08007025458006817, 'gamma': 0.11105126946209683, 'subsample': 0.7975132251231303, 'colsample_bytree': 0.8739758974488883, 'alpha': 0.7017995174337901}. Best is trial 18 with value: 45.557469126338425.\n",
      "[I 2023-11-03 13:03:37,122] Trial 21 finished with value: 45.68886942260277 and parameters: {'max_depth': 4, 'eta': 0.0803834956308747, 'gamma': 0.11131250026983915, 'subsample': 0.773956623944229, 'colsample_bytree': 0.8756116421216382, 'alpha': 0.7583269945162506}. Best is trial 18 with value: 45.557469126338425.\n",
      "[I 2023-11-03 13:03:37,220] Trial 22 finished with value: 45.748276053910075 and parameters: {'max_depth': 4, 'eta': 0.08030885916053043, 'gamma': 0.10765324891702131, 'subsample': 0.7645290001743604, 'colsample_bytree': 0.8568182977665909, 'alpha': 0.7204377160359323}. Best is trial 18 with value: 45.557469126338425.\n",
      "[I 2023-11-03 13:03:37,358] Trial 23 finished with value: 45.86255716442187 and parameters: {'max_depth': 4, 'eta': 0.08389412582383186, 'gamma': 0.11194059847794818, 'subsample': 0.7850318642113174, 'colsample_bytree': 0.7804339645412709, 'alpha': 0.771361331356959}. Best is trial 18 with value: 45.557469126338425.\n",
      "[I 2023-11-03 13:03:37,519] Trial 24 finished with value: 46.02727673979455 and parameters: {'max_depth': 4, 'eta': 0.08343418710254802, 'gamma': 0.10628238062136118, 'subsample': 0.6975278474290796, 'colsample_bytree': 0.6756642829902705, 'alpha': 0.6518736134008863}. Best is trial 18 with value: 45.557469126338425.\n",
      "[I 2023-11-03 13:03:37,689] Trial 25 finished with value: 46.49566580634705 and parameters: {'max_depth': 5, 'eta': 0.0805558818549201, 'gamma': 0.112272662484022, 'subsample': 0.903985429699133, 'colsample_bytree': 0.8896015664984256, 'alpha': 0.6779823908383555}. Best is trial 18 with value: 45.557469126338425.\n",
      "[I 2023-11-03 13:03:37,808] Trial 26 finished with value: 46.16758146395902 and parameters: {'max_depth': 4, 'eta': 0.08898542035753193, 'gamma': 0.10879343135453357, 'subsample': 0.8147415991835177, 'colsample_bytree': 0.8302282922520697, 'alpha': 0.8202709050241486}. Best is trial 18 with value: 45.557469126338425.\n",
      "[I 2023-11-03 13:03:37,923] Trial 27 finished with value: 45.89866092632695 and parameters: {'max_depth': 5, 'eta': 0.08434627852970879, 'gamma': 0.10414384935733327, 'subsample': 0.6795302856295262, 'colsample_bytree': 0.739080123296655, 'alpha': 0.7763481418116569}. Best is trial 18 with value: 45.557469126338425.\n",
      "[I 2023-11-03 13:03:38,048] Trial 28 finished with value: 46.05582976977304 and parameters: {'max_depth': 6, 'eta': 0.08031189645269689, 'gamma': 0.11296187781424895, 'subsample': 0.8272627367223057, 'colsample_bytree': 0.9980577327804969, 'alpha': 0.58835369348107}. Best is trial 18 with value: 45.557469126338425.\n",
      "[I 2023-11-03 13:03:38,183] Trial 29 finished with value: 46.99088057424395 and parameters: {'max_depth': 4, 'eta': 0.08749000038457817, 'gamma': 0.10947201950723882, 'subsample': 0.9126056354709262, 'colsample_bytree': 0.8016736031328887, 'alpha': 0.5332427262032152}. Best is trial 18 with value: 45.557469126338425.\n",
      "[I 2023-11-03 13:03:38,311] Trial 30 finished with value: 46.29908683955733 and parameters: {'max_depth': 5, 'eta': 0.0834226849389861, 'gamma': 0.10274972039769775, 'subsample': 0.7589485840249018, 'colsample_bytree': 0.7308990534077633, 'alpha': 0.6905570316781178}. Best is trial 18 with value: 45.557469126338425.\n",
      "[I 2023-11-03 13:03:38,440] Trial 31 finished with value: 45.552018556347456 and parameters: {'max_depth': 6, 'eta': 0.08248755225443144, 'gamma': 0.10717297049139231, 'subsample': 0.9336018827164583, 'colsample_bytree': 0.9087391686999408, 'alpha': 0.9314185918407153}. Best is trial 31 with value: 45.552018556347456.\n",
      "[I 2023-11-03 13:03:38,557] Trial 32 finished with value: 45.613803257556235 and parameters: {'max_depth': 6, 'eta': 0.08289750517171077, 'gamma': 0.10820092592283967, 'subsample': 0.931032937794392, 'colsample_bytree': 0.908970622784682, 'alpha': 0.9411344179869439}. Best is trial 31 with value: 45.552018556347456.\n",
      "[I 2023-11-03 13:03:38,698] Trial 33 finished with value: 45.49489767309862 and parameters: {'max_depth': 6, 'eta': 0.0859688251996795, 'gamma': 0.10781397856716601, 'subsample': 0.9274518450736514, 'colsample_bytree': 0.9208136951753344, 'alpha': 0.9419894819803393}. Best is trial 33 with value: 45.49489767309862.\n",
      "[I 2023-11-03 13:03:38,820] Trial 34 finished with value: 45.884319198385406 and parameters: {'max_depth': 6, 'eta': 0.09171929321463972, 'gamma': 0.10739810041917149, 'subsample': 0.9332536942755919, 'colsample_bytree': 0.9261867853043606, 'alpha': 0.9430224359302168}. Best is trial 33 with value: 45.49489767309862.\n",
      "[I 2023-11-03 13:03:38,941] Trial 35 finished with value: 45.54175030022631 and parameters: {'max_depth': 6, 'eta': 0.08535588425030707, 'gamma': 0.1023406885039369, 'subsample': 0.9306100688401115, 'colsample_bytree': 0.9588691250257225, 'alpha': 0.9308237419595723}. Best is trial 33 with value: 45.49489767309862.\n",
      "[I 2023-11-03 13:03:39,061] Trial 36 finished with value: 45.82698162543502 and parameters: {'max_depth': 6, 'eta': 0.08540358525023589, 'gamma': 0.09738086178367993, 'subsample': 0.8682619910787076, 'colsample_bytree': 0.945774626097696, 'alpha': 0.8443669024782049}. Best is trial 33 with value: 45.49489767309862.\n",
      "[I 2023-11-03 13:03:39,193] Trial 37 finished with value: 45.43583350161406 and parameters: {'max_depth': 6, 'eta': 0.08798303811652389, 'gamma': 0.10261713573755735, 'subsample': 0.9310052126187828, 'colsample_bytree': 0.9614439358422223, 'alpha': 0.8584490834243917}. Best is trial 37 with value: 45.43583350161406.\n",
      "[I 2023-11-03 13:03:39,327] Trial 38 finished with value: 45.66057112106726 and parameters: {'max_depth': 5, 'eta': 0.08824661572622602, 'gamma': 0.1015547747699784, 'subsample': 0.841637384401811, 'colsample_bytree': 0.9751487814578654, 'alpha': 0.9498966368107704}. Best is trial 37 with value: 45.43583350161406.\n",
      "[I 2023-11-03 13:03:39,437] Trial 39 finished with value: 46.02032972827682 and parameters: {'max_depth': 7, 'eta': 0.09253698576084822, 'gamma': 0.09918038302225143, 'subsample': 0.938924076188258, 'colsample_bytree': 0.6072238924412728, 'alpha': 0.8402913895219691}. Best is trial 37 with value: 45.43583350161406.\n",
      "[I 2023-11-03 13:03:39,581] Trial 40 finished with value: 45.68570535155814 and parameters: {'max_depth': 6, 'eta': 0.09401327522334506, 'gamma': 0.10360992389368905, 'subsample': 0.8504137659623262, 'colsample_bytree': 0.9666426471079145, 'alpha': 0.9588856281553688}. Best is trial 37 with value: 45.43583350161406.\n",
      "[I 2023-11-03 13:03:39,708] Trial 41 finished with value: 45.57187639726224 and parameters: {'max_depth': 6, 'eta': 0.08724366063833683, 'gamma': 0.10625441696229908, 'subsample': 0.9012189312746024, 'colsample_bytree': 0.9103427645601223, 'alpha': 0.8895215500076455}. Best is trial 37 with value: 45.43583350161406.\n",
      "[I 2023-11-03 13:03:39,874] Trial 42 finished with value: 46.46445499767852 and parameters: {'max_depth': 6, 'eta': 0.08473352358914898, 'gamma': 0.10277147359195647, 'subsample': 0.9511427616003233, 'colsample_bytree': 0.9435848821467403, 'alpha': 0.868430934128458}. Best is trial 37 with value: 45.43583350161406.\n",
      "[I 2023-11-03 13:03:39,972] Trial 43 finished with value: 46.07967810970339 and parameters: {'max_depth': 6, 'eta': 0.09071665713583772, 'gamma': 0.09945021764050024, 'subsample': 0.9957149085897471, 'colsample_bytree': 0.8235695465993282, 'alpha': 0.9255510665906981}. Best is trial 37 with value: 45.43583350161406.\n",
      "[I 2023-11-03 13:03:40,091] Trial 44 finished with value: 46.23255324543342 and parameters: {'max_depth': 7, 'eta': 0.08560400147998451, 'gamma': 0.10572561971691175, 'subsample': 0.8902489180644688, 'colsample_bytree': 0.892780067578583, 'alpha': 0.8085750829999673}. Best is trial 37 with value: 45.43583350161406.\n",
      "[I 2023-11-03 13:03:40,188] Trial 45 finished with value: 46.01131183009816 and parameters: {'max_depth': 6, 'eta': 0.08234119988337131, 'gamma': 0.10956164408527977, 'subsample': 0.9487448189173279, 'colsample_bytree': 0.9585890431925067, 'alpha': 0.8707033591477603}. Best is trial 37 with value: 45.43583350161406.\n",
      "[I 2023-11-03 13:03:40,312] Trial 46 finished with value: 45.77191308227005 and parameters: {'max_depth': 5, 'eta': 0.08858066732818808, 'gamma': 0.10176516009960997, 'subsample': 0.8270144484006721, 'colsample_bytree': 0.7702425665007084, 'alpha': 0.896330720612789}. Best is trial 37 with value: 45.43583350161406.\n",
      "[I 2023-11-03 13:03:40,452] Trial 47 finished with value: 45.75136145329374 and parameters: {'max_depth': 6, 'eta': 0.090813602530508, 'gamma': 0.10366083780432257, 'subsample': 0.9580484274859352, 'colsample_bytree': 0.9998304633573382, 'alpha': 0.9756955865138441}. Best is trial 37 with value: 45.43583350161406.\n",
      "[I 2023-11-03 13:03:40,576] Trial 48 finished with value: 46.401054116574244 and parameters: {'max_depth': 7, 'eta': 0.0873972797796621, 'gamma': 0.10716868981277897, 'subsample': 0.8762634721957763, 'colsample_bytree': 0.9095946201253573, 'alpha': 0.9125837468845464}. Best is trial 37 with value: 45.43583350161406.\n",
      "[I 2023-11-03 13:03:40,699] Trial 49 finished with value: 45.51425731622586 and parameters: {'max_depth': 5, 'eta': 0.08290659062382823, 'gamma': 0.11000884589739472, 'subsample': 0.9254701452180429, 'colsample_bytree': 0.8458904279921617, 'alpha': 0.9611314491175024}. Best is trial 37 with value: 45.43583350161406.\n",
      "[I 2023-11-03 13:03:40,808] Trial 50 finished with value: 45.60944078187513 and parameters: {'max_depth': 5, 'eta': 0.0817663572991248, 'gamma': 0.11041995581591815, 'subsample': 0.9248932204592801, 'colsample_bytree': 0.8516082785188364, 'alpha': 0.9929364293498896}. Best is trial 37 with value: 45.43583350161406.\n",
      "[I 2023-11-03 13:03:40,923] Trial 51 finished with value: 45.9536515985193 and parameters: {'max_depth': 6, 'eta': 0.08508737027142944, 'gamma': 0.10521602065142081, 'subsample': 0.9962867207348898, 'colsample_bytree': 0.9474529162416404, 'alpha': 0.9261935526887725}. Best is trial 37 with value: 45.43583350161406.\n",
      "[I 2023-11-03 13:03:41,074] Trial 52 finished with value: 45.605562675388356 and parameters: {'max_depth': 5, 'eta': 0.08242222414239343, 'gamma': 0.10880151471978644, 'subsample': 0.8982714597757377, 'colsample_bytree': 0.8885318132118364, 'alpha': 0.8657450376875159}. Best is trial 37 with value: 45.43583350161406.\n",
      "[I 2023-11-03 13:03:41,201] Trial 53 finished with value: 45.67881808638121 and parameters: {'max_depth': 6, 'eta': 0.08638146557571715, 'gamma': 0.1065530442356453, 'subsample': 0.9639211551026636, 'colsample_bytree': 0.8390655272807219, 'alpha': 0.9999264610912955}. Best is trial 37 with value: 45.43583350161406.\n",
      "[I 2023-11-03 13:03:41,307] Trial 54 finished with value: 45.542011702734136 and parameters: {'max_depth': 6, 'eta': 0.08364296207604342, 'gamma': 0.10102634678633572, 'subsample': 0.8580468626676485, 'colsample_bytree': 0.9279103460039851, 'alpha': 0.9571708634937391}. Best is trial 37 with value: 45.43583350161406.\n",
      "[I 2023-11-03 13:03:41,456] Trial 55 finished with value: 45.79668912371152 and parameters: {'max_depth': 7, 'eta': 0.08296416216713015, 'gamma': 0.10119911557702264, 'subsample': 0.8608654973459751, 'colsample_bytree': 0.965612932456466, 'alpha': 0.9605877446676463}. Best is trial 37 with value: 45.43583350161406.\n",
      "[I 2023-11-03 13:03:41,659] Trial 56 finished with value: 45.49400050152386 and parameters: {'max_depth': 6, 'eta': 0.08594009491572299, 'gamma': 0.09501492276851167, 'subsample': 0.9238196516566755, 'colsample_bytree': 0.9188082001025849, 'alpha': 0.8095837340527219}. Best is trial 37 with value: 45.43583350161406.\n",
      "[I 2023-11-03 13:03:41,861] Trial 57 finished with value: 45.98676236619806 and parameters: {'max_depth': 5, 'eta': 0.08614766997212167, 'gamma': 0.09494302799528721, 'subsample': 0.9605000835526155, 'colsample_bytree': 0.8693196823720789, 'alpha': 0.7954034644264449}. Best is trial 37 with value: 45.43583350161406.\n",
      "[I 2023-11-03 13:03:42,025] Trial 58 finished with value: 45.89628947698389 and parameters: {'max_depth': 7, 'eta': 0.0896914202162317, 'gamma': 0.09439027128096562, 'subsample': 0.849892510567628, 'colsample_bytree': 0.9341314698457301, 'alpha': 0.8368031185490583}. Best is trial 37 with value: 45.43583350161406.\n",
      "[I 2023-11-03 13:03:42,201] Trial 59 finished with value: 46.11561188864293 and parameters: {'max_depth': 6, 'eta': 0.08458875229522456, 'gamma': 0.10038366963136829, 'subsample': 0.8083551921307898, 'colsample_bytree': 0.982725157476055, 'alpha': 0.9135435633037168}. Best is trial 37 with value: 45.43583350161406.\n",
      "[I 2023-11-03 13:03:42,394] Trial 60 finished with value: 45.95894352349626 and parameters: {'max_depth': 5, 'eta': 0.0881207429090604, 'gamma': 0.09832395633378371, 'subsample': 0.8723098760898561, 'colsample_bytree': 0.8515703061113964, 'alpha': 0.7408457297836993}. Best is trial 37 with value: 45.43583350161406.\n",
      "[I 2023-11-03 13:03:42,572] Trial 61 finished with value: 45.50984792880988 and parameters: {'max_depth': 6, 'eta': 0.0816020537697521, 'gamma': 0.10469175533718973, 'subsample': 0.9261948532475716, 'colsample_bytree': 0.9231800662108639, 'alpha': 0.9657711981785934}. Best is trial 37 with value: 45.43583350161406.\n",
      "[I 2023-11-03 13:03:42,696] Trial 62 finished with value: 45.79375532985785 and parameters: {'max_depth': 6, 'eta': 0.0816128423711825, 'gamma': 0.10464428140046095, 'subsample': 0.9993241483544817, 'colsample_bytree': 0.9323907397411109, 'alpha': 0.9632810838319311}. Best is trial 37 with value: 45.43583350161406.\n",
      "[I 2023-11-03 13:03:42,798] Trial 63 finished with value: 45.52001129801517 and parameters: {'max_depth': 6, 'eta': 0.08340977936150144, 'gamma': 0.10230365118107597, 'subsample': 0.9167308485243764, 'colsample_bytree': 0.9651607990495635, 'alpha': 0.97389142674978}. Best is trial 37 with value: 45.43583350161406.\n",
      "[I 2023-11-03 13:03:42,914] Trial 64 finished with value: 45.638031639990665 and parameters: {'max_depth': 6, 'eta': 0.08680389259251234, 'gamma': 0.10244497726887322, 'subsample': 0.9134991349719435, 'colsample_bytree': 0.9698051897255308, 'alpha': 0.8898451679458139}. Best is trial 37 with value: 45.43583350161406.\n",
      "[I 2023-11-03 13:03:43,031] Trial 65 finished with value: 45.86745174142227 and parameters: {'max_depth': 6, 'eta': 0.08134297914201312, 'gamma': 0.10454861019367533, 'subsample': 0.9658091894000844, 'colsample_bytree': 0.8878761066298209, 'alpha': 0.9787797562868343}. Best is trial 37 with value: 45.43583350161406.\n",
      "[I 2023-11-03 13:03:43,173] Trial 66 finished with value: 45.633522407841134 and parameters: {'max_depth': 7, 'eta': 0.08402052360830913, 'gamma': 0.09995036003595785, 'subsample': 0.9175258770971368, 'colsample_bytree': 0.983322112849759, 'alpha': 0.9109120675499777}. Best is trial 37 with value: 45.43583350161406.\n",
      "[I 2023-11-03 13:03:43,338] Trial 67 finished with value: 45.55526657725943 and parameters: {'max_depth': 6, 'eta': 0.08485309056836846, 'gamma': 0.1058719940686347, 'subsample': 0.97570155250568, 'colsample_bytree': 0.9999265846361173, 'alpha': 0.8550023450070082}. Best is trial 37 with value: 45.43583350161406.\n",
      "[I 2023-11-03 13:03:43,464] Trial 68 finished with value: 46.42908424625214 and parameters: {'max_depth': 5, 'eta': 0.08618404837757718, 'gamma': 0.10295535621165737, 'subsample': 0.8834758453060064, 'colsample_bytree': 0.954250919880481, 'alpha': 0.8251074028580541}. Best is trial 37 with value: 45.43583350161406.\n",
      "[I 2023-11-03 13:03:43,614] Trial 69 finished with value: 45.81391672828677 and parameters: {'max_depth': 6, 'eta': 0.08149146437641874, 'gamma': 0.10389859407558169, 'subsample': 0.8316054271767036, 'colsample_bytree': 0.8694234934665481, 'alpha': 0.7883403235402373}. Best is trial 37 with value: 45.43583350161406.\n",
      "[I 2023-11-03 13:03:43,749] Trial 70 finished with value: 45.63311245555087 and parameters: {'max_depth': 6, 'eta': 0.0852947204306313, 'gamma': 0.1083192323068544, 'subsample': 0.7999156956321265, 'colsample_bytree': 0.8096266991250373, 'alpha': 0.9962644171833527}. Best is trial 37 with value: 45.43583350161406.\n",
      "[I 2023-11-03 13:03:43,889] Trial 71 finished with value: 45.67766390252282 and parameters: {'max_depth': 6, 'eta': 0.0836131223852794, 'gamma': 0.10066996699637368, 'subsample': 0.9337616375748542, 'colsample_bytree': 0.9215425913263605, 'alpha': 0.9504907266954411}. Best is trial 37 with value: 45.43583350161406.\n",
      "[I 2023-11-03 13:03:44,010] Trial 72 finished with value: 45.84156388684658 and parameters: {'max_depth': 6, 'eta': 0.08298875697832979, 'gamma': 0.10201123257075437, 'subsample': 0.889035136369091, 'colsample_bytree': 0.8998063060004801, 'alpha': 0.9316280937538371}. Best is trial 37 with value: 45.43583350161406.\n",
      "[I 2023-11-03 13:03:44,150] Trial 73 finished with value: 45.84267684601504 and parameters: {'max_depth': 6, 'eta': 0.08379146235320681, 'gamma': 0.09853572687602645, 'subsample': 0.9438977674716046, 'colsample_bytree': 0.9288904872948128, 'alpha': 0.9640395360964481}. Best is trial 37 with value: 45.43583350161406.\n",
      "[I 2023-11-03 13:03:44,284] Trial 74 finished with value: 45.76121103482894 and parameters: {'max_depth': 6, 'eta': 0.08749506721234453, 'gamma': 0.10070292142935824, 'subsample': 0.914875576366795, 'colsample_bytree': 0.9626832515627302, 'alpha': 0.8740262604030095}. Best is trial 37 with value: 45.43583350161406.\n",
      "[I 2023-11-03 13:03:44,411] Trial 75 finished with value: 45.572286900410575 and parameters: {'max_depth': 7, 'eta': 0.08267427595024696, 'gamma': 0.10501989470611056, 'subsample': 0.9744064528910057, 'colsample_bytree': 0.912172096179521, 'alpha': 0.8983398901039219}. Best is trial 37 with value: 45.43583350161406.\n",
      "[I 2023-11-03 13:03:44,533] Trial 76 finished with value: 45.59426208081317 and parameters: {'max_depth': 6, 'eta': 0.08095934149090309, 'gamma': 0.10350092520872879, 'subsample': 0.8568674117226494, 'colsample_bytree': 0.9466870964078113, 'alpha': 0.9759411586089618}. Best is trial 37 with value: 45.43583350161406.\n",
      "[I 2023-11-03 13:03:44,648] Trial 77 finished with value: 46.03606985713655 and parameters: {'max_depth': 5, 'eta': 0.0800119314841776, 'gamma': 0.10181471026399913, 'subsample': 0.8797095995673876, 'colsample_bytree': 0.8777697529896267, 'alpha': 0.9376355011626569}. Best is trial 37 with value: 45.43583350161406.\n",
      "[I 2023-11-03 13:03:44,776] Trial 78 finished with value: 45.403557054456414 and parameters: {'max_depth': 6, 'eta': 0.08446883830623063, 'gamma': 0.11074897413208516, 'subsample': 0.919846389948706, 'colsample_bytree': 0.9844191636850745, 'alpha': 0.8233243745029407}. Best is trial 78 with value: 45.403557054456414.\n",
      "[I 2023-11-03 13:03:44,884] Trial 79 finished with value: 46.219897355626244 and parameters: {'max_depth': 6, 'eta': 0.08562222475631054, 'gamma': 0.11171570442033363, 'subsample': 0.9134380127050015, 'colsample_bytree': 0.9746097894788721, 'alpha': 0.8131575560778106}. Best is trial 78 with value: 45.403557054456414.\n",
      "[I 2023-11-03 13:03:45,040] Trial 80 finished with value: 46.26178834874944 and parameters: {'max_depth': 7, 'eta': 0.0844622292585396, 'gamma': 0.10996035587773734, 'subsample': 0.9522316096426083, 'colsample_bytree': 0.9847711932025889, 'alpha': 0.7553716565759866}. Best is trial 78 with value: 45.403557054456414.\n",
      "[I 2023-11-03 13:03:45,210] Trial 81 finished with value: 45.524457058554695 and parameters: {'max_depth': 6, 'eta': 0.0834623503428422, 'gamma': 0.11059247072944654, 'subsample': 0.929190619309925, 'colsample_bytree': 0.9299201023747731, 'alpha': 0.8560722320430578}. Best is trial 78 with value: 45.403557054456414.\n",
      "[I 2023-11-03 13:03:45,334] Trial 82 finished with value: 45.581391656092755 and parameters: {'max_depth': 6, 'eta': 0.08220117835780644, 'gamma': 0.11234624865099345, 'subsample': 0.9829688494575879, 'colsample_bytree': 0.951035167264978, 'alpha': 0.8530643061926737}. Best is trial 78 with value: 45.403557054456414.\n",
      "[I 2023-11-03 13:03:45,449] Trial 83 finished with value: 45.65859703268594 and parameters: {'max_depth': 6, 'eta': 0.08633194180977975, 'gamma': 0.11401717288114357, 'subsample': 0.9323701469075127, 'colsample_bytree': 0.8971482520369478, 'alpha': 0.8900187631031208}. Best is trial 78 with value: 45.403557054456414.\n",
      "[I 2023-11-03 13:03:45,560] Trial 84 finished with value: 45.564300084351906 and parameters: {'max_depth': 6, 'eta': 0.08507452653273732, 'gamma': 0.10922127593762004, 'subsample': 0.8949247190230658, 'colsample_bytree': 0.9999772411367029, 'alpha': 0.7793187101168211}. Best is trial 78 with value: 45.403557054456414.\n",
      "[I 2023-11-03 13:03:45,670] Trial 85 finished with value: 46.449702151165326 and parameters: {'max_depth': 6, 'eta': 0.08101419781429366, 'gamma': 0.11075384945822593, 'subsample': 0.9447200268288959, 'colsample_bytree': 0.9190412120975044, 'alpha': 0.8267213738487651}. Best is trial 78 with value: 45.403557054456414.\n",
      "[I 2023-11-03 13:03:45,782] Trial 86 finished with value: 45.526250183628264 and parameters: {'max_depth': 6, 'eta': 0.08315245257699144, 'gamma': 0.10769101077698985, 'subsample': 0.9203812484004903, 'colsample_bytree': 0.9509943478568335, 'alpha': 0.9159449028755549}. Best is trial 78 with value: 45.403557054456414.\n",
      "[I 2023-11-03 13:03:45,914] Trial 87 finished with value: 45.576093208049805 and parameters: {'max_depth': 6, 'eta': 0.0833029287384137, 'gamma': 0.10784693680006317, 'subsample': 0.9047077659148527, 'colsample_bytree': 0.9387008832507673, 'alpha': 0.8572311902669073}. Best is trial 78 with value: 45.403557054456414.\n",
      "[I 2023-11-03 13:03:46,055] Trial 88 finished with value: 46.0601130437762 and parameters: {'max_depth': 5, 'eta': 0.08204385709800345, 'gamma': 0.11063330927829146, 'subsample': 0.8372139212069678, 'colsample_bytree': 0.8425203787681913, 'alpha': 0.910420316262943}. Best is trial 78 with value: 45.403557054456414.\n",
      "[I 2023-11-03 13:03:46,224] Trial 89 finished with value: 45.71852658900315 and parameters: {'max_depth': 6, 'eta': 0.08437416778542263, 'gamma': 0.10753621998810846, 'subsample': 0.982605236122768, 'colsample_bytree': 0.9010316123458336, 'alpha': 0.887007033910263}. Best is trial 78 with value: 45.403557054456414.\n",
      "[I 2023-11-03 13:03:46,475] Trial 90 finished with value: 45.880983270308626 and parameters: {'max_depth': 6, 'eta': 0.08690964017966844, 'gamma': 0.1087976862192019, 'subsample': 0.8786615379860025, 'colsample_bytree': 0.9729912498965246, 'alpha': 0.8064295918736648}. Best is trial 78 with value: 45.403557054456414.\n",
      "[I 2023-11-03 13:03:46,615] Trial 91 finished with value: 45.51874100096492 and parameters: {'max_depth': 6, 'eta': 0.08566223584876378, 'gamma': 0.10625730382488484, 'subsample': 0.9307456266822309, 'colsample_bytree': 0.9602214730924076, 'alpha': 0.9361143331539516}. Best is trial 78 with value: 45.403557054456414.\n",
      "[I 2023-11-03 13:03:46,811] Trial 92 finished with value: 45.59467238241617 and parameters: {'max_depth': 6, 'eta': 0.08307930283635066, 'gamma': 0.10676255493809288, 'subsample': 0.9204946436398427, 'colsample_bytree': 0.9484230432055151, 'alpha': 0.9286267086666021}. Best is trial 78 with value: 45.403557054456414.\n",
      "[I 2023-11-03 13:03:46,930] Trial 93 finished with value: 45.96945155416232 and parameters: {'max_depth': 6, 'eta': 0.08786174036863004, 'gamma': 0.1058172914015882, 'subsample': 0.9644002815281935, 'colsample_bytree': 0.8643424369903006, 'alpha': 0.8691178250805227}. Best is trial 78 with value: 45.403557054456414.\n",
      "[I 2023-11-03 13:03:47,116] Trial 94 finished with value: 45.777300318933136 and parameters: {'max_depth': 6, 'eta': 0.08396700484599977, 'gamma': 0.10976641361768537, 'subsample': 0.8971439539854514, 'colsample_bytree': 0.9192360315157544, 'alpha': 0.9822995195184362}. Best is trial 78 with value: 45.403557054456414.\n",
      "[I 2023-11-03 13:03:47,253] Trial 95 finished with value: 46.01057257974135 and parameters: {'max_depth': 6, 'eta': 0.0884698678979208, 'gamma': 0.10826337849732919, 'subsample': 0.9541041556759943, 'colsample_bytree': 0.9845528590539394, 'alpha': 0.9116347858064335}. Best is trial 78 with value: 45.403557054456414.\n",
      "[I 2023-11-03 13:03:47,368] Trial 96 finished with value: 45.47960595501163 and parameters: {'max_depth': 6, 'eta': 0.08566599570411863, 'gamma': 0.11116362081866543, 'subsample': 0.9273987606719665, 'colsample_bytree': 0.9616541807225973, 'alpha': 0.9472053479149336}. Best is trial 78 with value: 45.403557054456414.\n",
      "[I 2023-11-03 13:03:47,563] Trial 97 finished with value: 46.02905027683881 and parameters: {'max_depth': 6, 'eta': 0.08910517289429999, 'gamma': 0.11136575581558708, 'subsample': 0.974578236342037, 'colsample_bytree': 0.8854930293746494, 'alpha': 0.9493882554357337}. Best is trial 78 with value: 45.403557054456414.\n",
      "[I 2023-11-03 13:03:47,664] Trial 98 finished with value: 45.844754297505396 and parameters: {'max_depth': 6, 'eta': 0.08567089445823009, 'gamma': 0.11260841007377358, 'subsample': 0.9419668722878839, 'colsample_bytree': 0.9345221510942736, 'alpha': 0.9999548839825508}. Best is trial 78 with value: 45.403557054456414.\n",
      "[I 2023-11-03 13:03:47,785] Trial 99 finished with value: 46.05217390187389 and parameters: {'max_depth': 7, 'eta': 0.08625085126546715, 'gamma': 0.11045891828299342, 'subsample': 0.9061024403620839, 'colsample_bytree': 0.9765499928630489, 'alpha': 0.8424073928813669}. Best is trial 78 with value: 45.403557054456414.\n"
     ]
    },
    {
     "name": "stdout",
     "output_type": "stream",
     "text": [
      "Number of finished trials: 100\n",
      "Best trial: {'max_depth': 6, 'eta': 0.08446883830623063, 'gamma': 0.11074897413208516, 'subsample': 0.919846389948706, 'colsample_bytree': 0.9844191636850745, 'alpha': 0.8233243745029407}\n"
     ]
    }
   ],
   "source": [
    "import optuna\n",
    "import xgboost as xgb\n",
    "from sklearn.model_selection import train_test_split\n",
    "from sklearn.metrics import ndcg_score\n",
    "\n",
    "# Define the objective function\n",
    "def objective(trial):\n",
    "    params = {\n",
    "        'max_depth': trial.suggest_int('max_depth', 4, 8),\n",
    "        'eta': trial.suggest_loguniform('eta', 0.08, 0.12),\n",
    "        'gamma': trial.suggest_uniform('gamma', 0.08, 0.12),\n",
    "        'subsample': trial.suggest_uniform('subsample', 0.2, 1.0),\n",
    "        'colsample_bytree': trial.suggest_uniform('colsample_bytree', 0.2, 1.0),\n",
    "        'alpha': trial.suggest_uniform('alpha', 0, 1)\n",
    "    }\n",
    "    reg = xgb.XGBRanker(\n",
    "        **params, \n",
    "        objective='rank:ndcg',  \n",
    "        eval_metric='rmse',  \n",
    "        ndcg_exp_gain=False \n",
    "    )\n",
    "    \n",
    "    reg.fit(X_train, y_train_scaled, group = np.full(14,98))\n",
    "\n",
    "    X_test_split_6 = np.array_split(X_test, 6)\n",
    "\n",
    "    y_pred_rank = []\n",
    "    for i in X_test_split_6:\n",
    "        y_pred = reg.predict(i)\n",
    "        mapped_rank = np.argsort(y_pred)[::-1] + 3\n",
    "        y_pred_rank.append(mapped_rank)\n",
    "    \n",
    "    return np.sqrt(mean_squared_error(list(chain(*y_pred_rank)), y_test))\n",
    "\n",
    "# Create a study object and optimize the objective function\n",
    "study = optuna.create_study(direction='minimize')\n",
    "study.optimize(objective, n_trials=100)\n",
    "\n",
    "# Results\n",
    "warnings.simplefilter('ignore', FutureWarning)\n",
    "print('Number of finished trials:', len(study.trials))\n",
    "print('Best trial:', study.best_trial.params)\n"
   ]
  },
  {
   "cell_type": "code",
   "execution_count": 27,
   "metadata": {},
   "outputs": [
    {
     "name": "stdout",
     "output_type": "stream",
     "text": [
      "45.403557054456414\n"
     ]
    }
   ],
   "source": [
    "reg = xgb.XGBRanker(max_depth = 6, \n",
    "                    eta = 0.08446883830623063, \n",
    "                    gamma = 0.11074897413208516,\n",
    "                    subsample = 0.919846389948706,\n",
    "                    colsample_bytree = 0.9844191636850745,\n",
    "                    alpha = 0.8233243745029407,\n",
    "                    objective = \"rank:ndcg\",\n",
    "                    eval_metric = \"rmse\",\n",
    "                    ndcg_exp_gain=False)\n",
    "\n",
    "reg.fit(X_train, y_train_scaled, group = np.full(14,98))\n",
    "\n",
    "X_test_split_6 = np.array_split(X_test, 6)\n",
    "\n",
    "y_pred_rank = []\n",
    "for i in X_test_split_6:\n",
    "    y_pred = reg.predict(i)\n",
    "    mapped_rank = np.argsort(y_pred)[::-1] + 3\n",
    "    y_pred_rank.append(mapped_rank)\n",
    "\n",
    "print(np.sqrt(mean_squared_error(list(chain(*y_pred_rank)), y_test)))\n",
    "\n",
    "\n",
    "# RMSE is lower too! YIBBEEE!!!"
   ]
  },
  {
   "cell_type": "markdown",
   "metadata": {},
   "source": [
    "## Problem 3. Interpretation Short-Answers (10 points)"
   ]
  },
  {
   "cell_type": "markdown",
   "metadata": {},
   "source": [
    "Please paste the RMSE values of all questions above in the table below. Please round your RMSE up to 4 decimals.\n",
    "\n",
    "To access the table written in markdown below, double click the placeholder table, edit the corresponding value and run the cell. \n"
   ]
  },
  {
   "cell_type": "markdown",
   "metadata": {},
   "source": [
    "Before Tuning:\n",
    "\n",
    "| Question | P1-Q1 | P1-Q2 | P1-Q3 | P1-Q4 | P2-Q5 | P2-Q6 | P2-Q7 |\n",
    "| --- | --- | --- | --- | --- | --- | --- | --- |\n",
    "| RMSE | 37.1507 | 37.6191 | 38.9111 | 26.5586 | 27.4849 | 45.9131 | 45.7896 |"
   ]
  },
  {
   "cell_type": "markdown",
   "metadata": {},
   "source": [
    "After Tuning:\n",
    "\n",
    "| Question | P2-Q5 | P2-Q6 | P2-Q7 |\n",
    "| --- | --- | --- | --- | \n",
    "| RMSE | 26.3466 | 44.8349 | 45.4036 |"
   ]
  },
  {
   "cell_type": "markdown",
   "metadata": {},
   "source": [
    "**Question: Please describe what you observe from the RMSE value for all methods of pointwise ranking. What is the best method? Why? (5 points)**"
   ]
  },
  {
   "cell_type": "markdown",
   "metadata": {},
   "source": [
    "Answer: HERE <br>\n",
    "Random Forest is the best method for pointwise ranking, with a RMSE of 26.5586.\n",
    "It is an ensemble method which makes use of many ind.ependently grown trees. Each tree is trained using a subset of original training dataset.\n",
    "Each tree uses a subset of features. Hence, they are all representatives of the underlying data-generating process; and averaging across them can reduce bias from overfitting. Due to the averaging of predictions from numerous trees, Random Forests are less sensitive to noisy data."
   ]
  },
  {
   "cell_type": "markdown",
   "metadata": {},
   "source": [
    "**Question: Please compare the results from pointwise ranking and pairwise ranking and describe your observatins.(5 points)**"
   ]
  },
  {
   "cell_type": "markdown",
   "metadata": {},
   "source": [
    "Answer: HERE <br>\n",
    "On average, my results from pointwise ranking has lower RMSE than pairwise ranking. Since I am using RMSE as the `eval_metric`, pointwise ranking performs better as it directly optimises for accuracy of predictions, while pairwise ranking optimises for the correct ordering of items."
   ]
  },
  {
   "cell_type": "markdown",
   "metadata": {},
   "source": [
    "# Appendix\n",
    "\n",
    "1. ID: identification number (i.e., row number in the dataset)\n",
    "\n",
    "2. Position: the actual google ranking of the webpage to the query\n",
    "\n",
    "3. ReverseRank: equals $101$ minus Position. It is equivalent to the position. Sometimes using ReverseRank as the dependent variable can have a better prediction.\n",
    "\n",
    "4. Title: the title of the webpage\n",
    "\n",
    "5. URL: the URL of the webpage\n",
    "\n",
    "6. Meta: the meta description of the webpage\n",
    "\n",
    "7.\tTitleFlag: indicates that whether the whole keyword is included in the page title. TitleFlag equals 1 if yes, otherwise, 0.\n",
    "\n",
    "8.\tUrlFlag: indicates that whether the whole keyword is included in the page url. UrlFlag equals 1 if yes, otherwise, 0.\n",
    "\n",
    "9.\tMetaFlag: indicates that whether the whole keyword is included in the page meta description. MetaFlag equals 1 if yes, otherwise, 0.\n",
    "\n",
    "10.\tTitleDensity: is the percentage of times a keyword appears in the title of a web page compared to the total number of words in the title of a web page.\n",
    "\n",
    "11.\tUrlDensity: is the percentage of times a keyword appears in the URL of a web page compared to the total number of words in the URL of a web page.\n",
    "\n",
    "12.\tMetaDensity: is the percentage of times a keyword appears in the meta description of a web page compared to the total number of words in the meta description of a web page.\n",
    "\n",
    "13.\tPageAuthority: is a score developed by Moz that predicts how well a specific page will rank on search engine result pages (SERP). https://moz.com/learn/seo/page-authority\n",
    "\n",
    "14.\tDomainAuthority: is a search engine ranking score developed by Moz that predicts how well a website will rank on search engine result pages (SERPs). https://moz.com/learn/seo/domain-authority\n",
    "\n",
    "15.\tLinkingDomain: is the number of unique external domains linking to this page. Two or more links from the same websites are considered as one linking domain. Provided by Moz.\n",
    "\n",
    "16.\tInboundLink: is the number of unique external pages linking to this page. Two or more links from the same page on a website are considered as one inbound link. Provided by Moz.\n",
    "\n",
    "17.\tRankingKeyword: is the number of keywords for which this site ranks within the top 50 positions on Google US. Provided by Moz."
   ]
  }
 ],
 "metadata": {
  "kernelspec": {
   "display_name": "Python 3 (ipykernel)",
   "language": "python",
   "name": "python3"
  },
  "language_info": {
   "codemirror_mode": {
    "name": "ipython",
    "version": 3
   },
   "file_extension": ".py",
   "mimetype": "text/x-python",
   "name": "python",
   "nbconvert_exporter": "python",
   "pygments_lexer": "ipython3",
   "version": "3.11.2"
  },
  "toc": {
   "base_numbering": 1,
   "nav_menu": {},
   "number_sections": true,
   "sideBar": true,
   "skip_h1_title": false,
   "title_cell": "Table of Contents",
   "title_sidebar": "Contents",
   "toc_cell": false,
   "toc_position": {
    "height": "calc(100% - 180px)",
    "left": "10px",
    "top": "150px",
    "width": "273px"
   },
   "toc_section_display": true,
   "toc_window_display": true
  },
  "vscode": {
   "interpreter": {
    "hash": "aee8b7b246df8f9039afb4144a1f6fd8d2ca17a180786b69acc140d282b71a49"
   }
  }
 },
 "nbformat": 4,
 "nbformat_minor": 2
}
